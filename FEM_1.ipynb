{
 "cells": [
  {
   "cell_type": "code",
   "execution_count": 2,
   "id": "581f4049",
   "metadata": {},
   "outputs": [],
   "source": [
    "from scipy.special import roots_jacobi, eval_jacobi\n",
    "import numpy as np\n",
    "import scipy\n",
    "import math"
   ]
  },
  {
   "cell_type": "code",
   "execution_count": 226,
   "id": "e2b9ab98",
   "metadata": {},
   "outputs": [],
   "source": [
    "import matplotlib.pyplot as plt"
   ]
  },
  {
   "cell_type": "markdown",
   "id": "91a19f0d",
   "metadata": {},
   "source": [
    "### Set points for the interpolation:"
   ]
  },
  {
   "cell_type": "code",
   "execution_count": 234,
   "id": "f3d52318",
   "metadata": {},
   "outputs": [],
   "source": [
    "# Function will receive variable npts:\n",
    "def return_points(npts, return_type):\n",
    "    \n",
    "    if return_type == 'GLL':\n",
    "        p_order = npts - 1\n",
    "        xinterior, w = roots_jacobi(p_order - 1,1,1) # returns interior GLL nodes.  Need to add -1 and 1\n",
    "        return(np.pad(xinterior, (1, 1), 'constant', constant_values=(-1, 1)))\n",
    "    elif return_type == 'ES':\n",
    "        dx = 2 / (npts - 1)\n",
    "        return(np.array([-1 + (dx * value) for value in np.arange(npts)]))\n",
    "    else:\n",
    "        return('return_type not included in function :(')"
   ]
  },
  {
   "cell_type": "code",
   "execution_count": 291,
   "id": "96725196",
   "metadata": {},
   "outputs": [],
   "source": [
    "# Return values for test function (x^3 or sin(x))\n",
    "# Note: The Vandermonde matrix does not know about test func values; D matrix multiplies the test func values\n",
    "def test_func1(domain):\n",
    "    return(np.array(domain ** 3))\n",
    "\n",
    "def test_func2(domain):\n",
    "    return(np.sin(domain))"
   ]
  },
  {
   "cell_type": "markdown",
   "id": "3c64956a",
   "metadata": {},
   "source": [
    "### Compute basis matrix for interpolant:"
   ]
  },
  {
   "cell_type": "code",
   "execution_count": 37,
   "id": "577ea350",
   "metadata": {},
   "outputs": [],
   "source": [
    "# Note: For nodes far from the origin or a high degree polynomial, the condition number of the matrix can be very large\n",
    "# Generally avoid using monomial basis when q > 5 or poorly scaled nodes - Jiao, Lecture 15, AMS 527"
   ]
  },
  {
   "cell_type": "code",
   "execution_count": 46,
   "id": "cc836103",
   "metadata": {},
   "outputs": [],
   "source": [
    "# To create Legendre polynomials of degree k, use the following: np.polynomial.legendre.Legendre.basis(k, [-1, 1])\n",
    "def legendre_poly_value(npts_values): # return values for the nth polynomial\n",
    "    P = np.polynomial.legendre.Legendre.basis(len(npts_values) - 1, [-1, 1])\n",
    "    return(P(npts_values))"
   ]
  },
  {
   "cell_type": "code",
   "execution_count": 55,
   "id": "e675d0d3",
   "metadata": {},
   "outputs": [],
   "source": [
    "# Function will receive inputs from return_points()\n",
    "def vandermonde(npts_values, return_type):\n",
    "    # For the monomial basis: \n",
    "    if return_type == 'Monomial':\n",
    "        return(np.vander(npts_values, increasing = True))\n",
    "    elif return_type == 'Legendre':\n",
    "        return(np.polynomial.legendre.legvander(npts_values, len(npts_values) - 1))"
   ]
  },
  {
   "cell_type": "code",
   "execution_count": 56,
   "id": "9d85593e",
   "metadata": {},
   "outputs": [
    {
     "data": {
      "text/plain": [
       "array([[ 1.        , -1.        ,  1.        , -1.        ,  1.        ],\n",
       "       [ 1.        , -0.65465367,  0.14285714,  0.28056586, -0.42857143],\n",
       "       [ 1.        ,  0.        , -0.5       , -0.        ,  0.375     ],\n",
       "       [ 1.        ,  0.65465367,  0.14285714, -0.28056586, -0.42857143],\n",
       "       [ 1.        ,  1.        ,  1.        ,  1.        ,  1.        ]])"
      ]
     },
     "execution_count": 56,
     "metadata": {},
     "output_type": "execute_result"
    }
   ],
   "source": [
    "vandermonde(return_points(5, 'GLL'), 'Legendre')"
   ]
  },
  {
   "cell_type": "code",
   "execution_count": 95,
   "id": "ea0e5d19",
   "metadata": {},
   "outputs": [
    {
     "data": {
      "text/plain": [
       "array([-1.       , -0.4472136,  0.4472136,  1.       ])"
      ]
     },
     "execution_count": 95,
     "metadata": {},
     "output_type": "execute_result"
    }
   ],
   "source": [
    "# Sanity check for legvander():\n",
    "P_test = np.polynomial.legendre.Legendre.basis(1, [-1, 1])\n",
    "P_test(return_points(4, 'GLL'))"
   ]
  },
  {
   "cell_type": "code",
   "execution_count": null,
   "id": "5df8548d",
   "metadata": {},
   "outputs": [],
   "source": []
  },
  {
   "cell_type": "markdown",
   "id": "64159916",
   "metadata": {},
   "source": [
    "### Compute basis matrix for interpolant derivative:"
   ]
  },
  {
   "cell_type": "code",
   "execution_count": 359,
   "id": "dd1074af",
   "metadata": {},
   "outputs": [],
   "source": [
    "# This function is written for basis matrix of the derivative of Legendre polynomials: \n",
    "def Ld_vandermonde(npts_values): \n",
    "    \n",
    "    v_matrix = np.polynomial.legendre.legvander(npts_values, len(npts_values)-1)\n",
    "    d_v_matrix = np.zeros_like(v_matrix)\n",
    "\n",
    "    for i in range(len(npts_values)):\n",
    "        # Coefficients for the i-th Legendre polynomial (e.g., [0, 0, 1] for P_2)\n",
    "        coeffs = np.zeros(len(npts_values))\n",
    "        coeffs[i] = 1\n",
    "\n",
    "        # Compute the derivative of the i-th Legendre polynomial\n",
    "        deriv_coeffs = L.legder(coeffs, m=1) # m=1 for first derivative\n",
    "\n",
    "        # Evaluate the derivative at the points x\n",
    "        d_v_matrix[:, i] = L.legval(npts_values, deriv_coeffs)\n",
    "        \n",
    "    return(d_v_matrix)"
   ]
  },
  {
   "cell_type": "code",
   "execution_count": 169,
   "id": "b32c2fa0",
   "metadata": {},
   "outputs": [
    {
     "data": {
      "text/latex": [
       "$x \\mapsto \\text{1.0}\\,{P}_{0}(x)\\color{LightGray}{ + \\text{0.0}\\,{P}_{1}(x)} + \\text{5.0}\\,{P}_{2}(x)$"
      ],
      "text/plain": [
       "Legendre([1., 0., 5.], domain=[-1.,  1.], window=[-1.,  1.])"
      ]
     },
     "execution_count": 169,
     "metadata": {},
     "output_type": "execute_result"
    }
   ],
   "source": [
    "np.polynomial.legendre.Legendre.basis(3, [-1, 1]).deriv(m = 1)"
   ]
  },
  {
   "cell_type": "code",
   "execution_count": 170,
   "id": "cb992610",
   "metadata": {},
   "outputs": [],
   "source": [
    "# This function is written for basis matrix of the derivative of monomial basis: \n",
    "def Md_vandermonde(npts_values):\n",
    "    \n",
    "    v_matrix = np.vander(npts_values, increasing = True)\n",
    "    d_v_matrix = np.zeros_like(v_matrix)\n",
    "    \n",
    "    for i in range(len(npts_values) - 1):\n",
    "        coeffs = np.zeros(len(npts_values))\n",
    "        coeffs[i] = i + 1\n",
    "        \n",
    "        deriv_P = np.polynomial.polynomial.Polynomial(coeffs) \n",
    "        d_v_matrix[:, i + 1] = deriv_P(npts_values)\n",
    "        \n",
    "    return(d_v_matrix)"
   ]
  },
  {
   "cell_type": "code",
   "execution_count": 121,
   "id": "051a9fce",
   "metadata": {},
   "outputs": [
    {
     "data": {
      "text/latex": [
       "$x \\mapsto \\text{1.0} + \\text{2.0}\\,x + \\text{3.0}\\,x^{2}$"
      ],
      "text/plain": [
       "Polynomial([1., 2., 3.], domain=[-1.,  1.], window=[-1.,  1.])"
      ]
     },
     "execution_count": 121,
     "metadata": {},
     "output_type": "execute_result"
    }
   ],
   "source": [
    "P = np.polynomial.polynomial.Polynomial(np.array([value + 1 for value in np.zeros(len(return_points(4, 'GLL')))]))\n",
    "P.deriv(m = 1)"
   ]
  },
  {
   "cell_type": "code",
   "execution_count": 174,
   "id": "8090d68b",
   "metadata": {},
   "outputs": [
    {
     "data": {
      "text/plain": [
       "array([[ 0.  ,  1.  , -2.  ,  3.  , -4.  ],\n",
       "       [ 0.  ,  1.  , -1.  ,  0.75, -0.5 ],\n",
       "       [ 0.  ,  1.  ,  0.  ,  0.  ,  0.  ],\n",
       "       [ 0.  ,  1.  ,  1.  ,  0.75,  0.5 ],\n",
       "       [ 0.  ,  1.  ,  2.  ,  3.  ,  4.  ]])"
      ]
     },
     "execution_count": 174,
     "metadata": {},
     "output_type": "execute_result"
    }
   ],
   "source": [
    "Md_vandermonde(return_points(5, 'ES'))"
   ]
  },
  {
   "cell_type": "markdown",
   "id": "1476652a",
   "metadata": {},
   "source": [
    "### Compute the derivative matrix from basis matrices:"
   ]
  },
  {
   "cell_type": "code",
   "execution_count": 296,
   "id": "ba917089",
   "metadata": {},
   "outputs": [],
   "source": [
    "# This function returns V2 * V1 ^ -1 \n",
    "def return_D(V1, V2):\n",
    "    return(np.matmul(V2, np.linalg.inv(V1)))"
   ]
  },
  {
   "cell_type": "code",
   "execution_count": 297,
   "id": "4bc45f0a",
   "metadata": {},
   "outputs": [],
   "source": [
    "def d_values(D, test_array):\n",
    "    return(np.matmul(D, test_array.transpose()))"
   ]
  },
  {
   "cell_type": "code",
   "execution_count": 171,
   "id": "f4701405",
   "metadata": {},
   "outputs": [
    {
     "data": {
      "text/plain": [
       "array([[3.        ],\n",
       "       [1.28571429],\n",
       "       [0.        ],\n",
       "       [1.28571429],\n",
       "       [3.        ]])"
      ]
     },
     "execution_count": 171,
     "metadata": {},
     "output_type": "execute_result"
    }
   ],
   "source": [
    "D = return_D(vandermonde(return_points(5, 'GLL'), 'Legendre'), Ld_vandermonde(return_points(5, 'GLL')))\n",
    "np.matmul(D, np.array([return_points(5, 'GLL') ** 3]).transpose())"
   ]
  },
  {
   "cell_type": "code",
   "execution_count": 109,
   "id": "52e80cf5",
   "metadata": {},
   "outputs": [
    {
     "data": {
      "text/plain": [
       "array([[3.        , 1.28571429, 0.        , 1.28571429, 3.        ]])"
      ]
     },
     "execution_count": 109,
     "metadata": {},
     "output_type": "execute_result"
    }
   ],
   "source": [
    "3 * np.array([return_points(5, 'GLL') ** 2])"
   ]
  },
  {
   "cell_type": "markdown",
   "id": "1adcf677",
   "metadata": {},
   "source": [
    "### Fine grid basis matrices:"
   ]
  },
  {
   "cell_type": "code",
   "execution_count": 183,
   "id": "e620d5c8",
   "metadata": {},
   "outputs": [],
   "source": [
    "# Note: the fine Vandermonde matrices use equally spaced points"
   ]
  },
  {
   "cell_type": "code",
   "execution_count": 217,
   "id": "01799fb4",
   "metadata": {},
   "outputs": [],
   "source": [
    "def V_finegrid(V1, num_pts, return_type):\n",
    "    \n",
    "    dx = 2 / (num_pts)\n",
    "    npts = np.arange(-1, 1 + dx, dx)\n",
    "    \n",
    "    v_finegrid = np.zeros([len(npts), V1.shape[1]])analytic integrals of the basis functions \n",
    "    \n",
    "    for i in range(V1.shape[1]):\n",
    "        \n",
    "        coeffs = np.zeros(V1.shape[1])\n",
    "        coeffs[i] = 1\n",
    "        \n",
    "        if return_type == 'Legendre':\n",
    "            L = np.polynomial.legendre.Legendre(coeffs)\n",
    "            v_finegrid[:, i] = L(npts)\n",
    "        elif return_type == 'Monomial':\n",
    "            M = np.polynomial.polynomial.Polynomial(coeffs)\n",
    "            v_finegrid[:, i] = M(npts)\n",
    "            \n",
    "    return(v_finegrid)"
   ]
  },
  {
   "cell_type": "markdown",
   "id": "f0347972",
   "metadata": {},
   "source": [
    "### Quadrature Weights: The Method of Undetermined Coefficents"
   ]
  },
  {
   "cell_type": "markdown",
   "id": "d9ed3b27",
   "metadata": {},
   "source": [
    "#### Choose weights so that the rule integrates the first n polynomials exactly"
   ]
  },
  {
   "cell_type": "code",
   "execution_count": 413,
   "id": "0ca7d9b0",
   "metadata": {},
   "outputs": [],
   "source": [
    "npts_values = return_points(4, 'GLL')\n",
    "\n",
    "def quad_weights(npts_values):\n",
    "    \n",
    "    # Values in f_array result from exact integration:\n",
    "    f_array = np.zeros(len(npts_values))\n",
    "    f_array[0] = 2\n",
    "    \n",
    "    # Define basis matrix for Legendre polynomials: \n",
    "    V = np.polynomial.legendre.legvander(npts_values, len(npts_values) - 1).transpose()\n",
    "    \n",
    "    return(np.matmul(np.linalg.inv(V), f_array.transpose()))"
   ]
  },
  {
   "cell_type": "code",
   "execution_count": 414,
   "id": "cdc487a4",
   "metadata": {},
   "outputs": [
    {
     "data": {
      "text/plain": [
       "array([0.16666667, 0.83333333, 0.83333333, 0.16666667])"
      ]
     },
     "execution_count": 414,
     "metadata": {},
     "output_type": "execute_result"
    }
   ],
   "source": [
    "quad_weights(npts_values)"
   ]
  },
  {
   "cell_type": "markdown",
   "id": "e9174640",
   "metadata": {},
   "source": [
    "### Quick Plots:"
   ]
  },
  {
   "cell_type": "markdown",
   "id": "f6ccefa4",
   "metadata": {},
   "source": [
    "#### a. Interpolants:"
   ]
  },
  {
   "cell_type": "code",
   "execution_count": 283,
   "id": "e522f2c7",
   "metadata": {},
   "outputs": [],
   "source": [
    "GLL_points = return_points(4, 'GLL')\n",
    "ES_points = return_points(4, 'ES')"
   ]
  },
  {
   "cell_type": "code",
   "execution_count": 293,
   "id": "7362cc53",
   "metadata": {},
   "outputs": [
    {
     "data": {
      "text/plain": [
       "array([-0.84147098, -0.43245484,  0.43245484,  0.84147098])"
      ]
     },
     "execution_count": 293,
     "metadata": {},
     "output_type": "execute_result"
    }
   ],
   "source": [
    "V1 = vandermonde(GLL_points, 'Monomial') \n",
    "coeffs = np.matmul(np.linalg.inv(V1), test_func2(GLL_points).transpose())\n",
    "\n",
    "V1_FG = V_finegrid(V1, 50, 'Monomial')\n",
    "\n",
    "M = np.polynomial.polynomial.Polynomial(coeffs.transpose())\n",
    "M(GLL_points)"
   ]
  },
  {
   "cell_type": "code",
   "execution_count": 294,
   "id": "f8b37fe8",
   "metadata": {},
   "outputs": [
    {
     "data": {
      "text/plain": [
       "Text(0.5, 1.0, 'Monomial Polynomials; GLL points')"
      ]
     },
     "execution_count": 294,
     "metadata": {},
     "output_type": "execute_result"
    },
    {
     "data": {
      "image/png": "[encoded data removed]",
      "text/plain": [
       "<Figure size 432x288 with 1 Axes>"
      ]
     },
     "metadata": {
      "needs_background": "light"
     },
     "output_type": "display_data"
    }
   ],
   "source": [
    "plt.plot(GLL_points, M(GLL_points))\n",
    "plt.plot(np.arange(-1, 1 + (2/50), (2/50)), np.matmul(V1_FG, coeffs))\n",
    "plt.title('Monomial Polynomials; GLL points')"
   ]
  },
  {
   "cell_type": "code",
   "execution_count": null,
   "id": "bdb11d99",
   "metadata": {},
   "outputs": [],
   "source": []
  },
  {
   "cell_type": "markdown",
   "id": "d0759eef",
   "metadata": {},
   "source": [
    "#### b. Derivatives:"
   ]
  },
  {
   "cell_type": "code",
   "execution_count": 384,
   "id": "8ae49493",
   "metadata": {},
   "outputs": [],
   "source": [
    "GLL_points = return_points(10, 'GLL')\n",
    "V1 = vandermonde(GLL_points, 'Legendre') \n",
    "D = return_D(V1, Ld_vandermonde(GLL_points))\n"
   ]
  },
  {
   "cell_type": "code",
   "execution_count": 385,
   "id": "e4ce9844",
   "metadata": {},
   "outputs": [
    {
     "data": {
      "text/plain": [
       "Text(0.5, 1.0, 'Legendre basis; 10 GLL points for d/dx sin(x)')"
      ]
     },
     "execution_count": 385,
     "metadata": {},
     "output_type": "execute_result"
    },
    {
     "data": {
      "image/png": "[encoded data removed]",
      "text/plain": [
       "<Figure size 432x288 with 1 Axes>"
      ]
     },
     "metadata": {
      "needs_background": "light"
     },
     "output_type": "display_data"
    }
   ],
   "source": [
    "plt.plot(np.arange(-1, 1.1, 0.1), np.cos(np.arange(-1, 1.1, 0.1)))\n",
    "plt.plot(GLL_points, d_values(D, test_func2(GLL_points)), marker = '*')\n",
    "plt.title('Legendre basis; 10 GLL points for d/dx sin(x)')"
   ]
  },
  {
   "cell_type": "markdown",
   "id": "c1c72355",
   "metadata": {},
   "source": [
    "### Property Check -> Integration by parts:"
   ]
  },
  {
   "cell_type": "code",
   "execution_count": 470,
   "id": "b84edd6e",
   "metadata": {},
   "outputs": [],
   "source": [
    "GLL_points = return_points(36, 'GLL')\n",
    "\n",
    "V = vandermonde(GLL_points, 'Monomial')\n",
    "D = return_D(V, Md_vandermonde(GLL_points))\n",
    "\n",
    "# Only used to define the values of function at nodes:\n",
    "P1 = np.polynomial.polynomial.Polynomial([1, 2, 3])\n",
    "P2 = np.polynomial.polynomial.Polynomial([12, 14, 18])\n",
    "\n",
    "b1 = P1(GLL_points)\n",
    "b2 = P2(GLL_points)"
   ]
  },
  {
   "cell_type": "code",
   "execution_count": 471,
   "id": "8963f1c0",
   "metadata": {},
   "outputs": [],
   "source": [
    "RHS = (P1(1) * P2(1)) - (P1(-1) * P2(-1))\n",
    "LHS = np.sum(d_values(D, b1) * b2 * quad_weights(GLL_points)) + np.sum(d_values(D, b2) * b1 * quad_weights(GLL_points))"
   ]
  },
  {
   "cell_type": "code",
   "execution_count": 472,
   "id": "b08b3260",
   "metadata": {},
   "outputs": [
    {
     "data": {
      "text/plain": [
       "False"
      ]
     },
     "execution_count": 472,
     "metadata": {},
     "output_type": "execute_result"
    }
   ],
   "source": [
    "RHS == LHS"
   ]
  },
  {
   "cell_type": "code",
   "execution_count": 473,
   "id": "79b97585",
   "metadata": {},
   "outputs": [
    {
     "data": {
      "text/plain": [
       "(232.0, 232.0102261454478)"
      ]
     },
     "execution_count": 473,
     "metadata": {},
     "output_type": "execute_result"
    }
   ],
   "source": [
    "RHS, LHS"
   ]
  },
  {
   "cell_type": "code",
   "execution_count": null,
   "id": "076df749",
   "metadata": {},
   "outputs": [],
   "source": []
  },
  {
   "cell_type": "code",
   "execution_count": null,
   "id": "f08f8d6b",
   "metadata": {},
   "outputs": [],
   "source": []
  }
 ],
 "metadata": {
  "kernelspec": {
   "display_name": "Python [conda env:pangeo_2025] *",
   "language": "python",
   "name": "conda-env-pangeo_2025-py"
  },
  "language_info": {
   "codemirror_mode": {
    "name": "ipython",
    "version": 3
   },
   "file_extension": ".py",
   "mimetype": "text/x-python",
   "name": "python",
   "nbconvert_exporter": "python",
   "pygments_lexer": "ipython3",
   "version": "3.9.7"
  }
 },
 "nbformat": 4,
 "nbformat_minor": 5
}
