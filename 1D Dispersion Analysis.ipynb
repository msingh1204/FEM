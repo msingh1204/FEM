{
 "cells": [
  {
   "cell_type": "code",
   "execution_count": 2,
   "id": "b094f5e0",
   "metadata": {},
   "outputs": [],
   "source": [
    "from scipy.special import roots_jacobi, eval_jacobi\n",
    "import numpy as np\n",
    "import scipy\n",
    "import math"
   ]
  },
  {
   "cell_type": "markdown",
   "id": "ade443e6",
   "metadata": {},
   "source": [
    "### Define functions for D operator:"
   ]
  },
  {
   "cell_type": "code",
   "execution_count": 3,
   "id": "3e228736",
   "metadata": {},
   "outputs": [],
   "source": [
    "def int_points(x_range, npts, dx, M):\n",
    "    \n",
    "    k = 0\n",
    "    p_order = npts - 1\n",
    "    xinterior, w = roots_jacobi(p_order - 1,1,1) # returns interior GLL nodes from range -1 and 1\n",
    "    GLL_points = np.pad(xinterior, (1, 1), 'constant', constant_values=(-1, 1))\n",
    "    GLL_dist = np.array([np.abs(GLL_points[0] - value) for value in GLL_points])\n",
    "    \n",
    "    return_array = np.zeros([M, npts])\n",
    "    \n",
    "    for i in x_range[:-1]:\n",
    "        array = np.array([i])\n",
    "        for j in GLL_dist[1:]: \n",
    "            scaled_point = ((j / 2) * (dx)) + i # Note: 2 here is the distance from -1 to 1\n",
    "            array = np.concatenate((array, np.array([scaled_point])))\n",
    "            \n",
    "        return_array[k, :] = array\n",
    "        k = k + 1\n",
    "    \n",
    "    return(return_array)"
   ]
  },
  {
   "cell_type": "code",
   "execution_count": 4,
   "id": "006f8d5f",
   "metadata": {},
   "outputs": [],
   "source": [
    "def vandermonde(npts_values, return_type):\n",
    "    # For the monomial basis: \n",
    "    if return_type == 'Monomial':\n",
    "        return(np.vander(npts_values, increasing = True))\n",
    "    elif return_type == 'Legendre':\n",
    "        return(np.polynomial.legendre.legvander(npts_values, len(npts_values) - 1))"
   ]
  },
  {
   "cell_type": "code",
   "execution_count": 5,
   "id": "ec895c66",
   "metadata": {},
   "outputs": [],
   "source": [
    "def Ld_vandermonde(npts_values): \n",
    "    \n",
    "    LP = np.polynomial.legendre\n",
    "    v_matrix = np.polynomial.legendre.legvander(npts_values, len(npts_values)-1)\n",
    "    d_v_matrix = np.zeros_like(v_matrix)\n",
    "\n",
    "    for i in range(len(npts_values)):\n",
    "        # Coefficients for the i-th Legendre polynomial (e.g., [0, 0, 1] for P_2)\n",
    "        coeffs = np.zeros(len(npts_values))\n",
    "        coeffs[i] = 1\n",
    "\n",
    "        # Compute the derivative of the i-th Legendre polynomial\n",
    "        deriv_coeffs = LP.legder(coeffs, m=1) # m=1 for first derivative\n",
    "\n",
    "        # Evaluate the derivative at the points x\n",
    "        d_v_matrix[:, i] = LP.legval(npts_values, deriv_coeffs)\n",
    "        \n",
    "    return(d_v_matrix)"
   ]
  },
  {
   "cell_type": "code",
   "execution_count": 6,
   "id": "03c04646",
   "metadata": {},
   "outputs": [],
   "source": [
    "def return_D(V1, V2):\n",
    "    return(np.matmul(V2, np.linalg.inv(V1)))"
   ]
  },
  {
   "cell_type": "code",
   "execution_count": 7,
   "id": "2da20cb2",
   "metadata": {},
   "outputs": [],
   "source": [
    "# Initialize the elements and the Guassian function:\n",
    "\n",
    "L = 12 # Denotes total length in [0, L]\n",
    "M = 4 # Denotes number of elements \n",
    "x_range = np.arange(0, L + (L/M), (L/M)) # Define the element endpoints\n",
    "\n",
    "npts = 4\n",
    "p_order = npts - 1\n",
    "xinterior, w = roots_jacobi(p_order - 1,1,1) # returns interior GLL nodes from range -1 and 1\n",
    "GLL_points = np.pad(xinterior, (1, 1), 'constant', constant_values=(-1, 1))\n",
    "\n",
    "# Note: The D matrix is only created once as it operates on the reference element\n",
    "V1 = vandermonde(GLL_points, 'Legendre')\n",
    "V2 = Ld_vandermonde(GLL_points)\n",
    "D = return_D(V1, V2)\n",
    "\n",
    "# The following is used in creating the init condition: \n",
    "npts = int_points(x_range, 4, L/M, M)"
   ]
  },
  {
   "cell_type": "code",
   "execution_count": 8,
   "id": "27570d93",
   "metadata": {},
   "outputs": [],
   "source": [
    "def quad_weights(npts_values):\n",
    "    \n",
    "    # Values in f_array result from exact integration:\n",
    "    f_array = np.zeros(len(npts_values))\n",
    "    f_array[0] = 2\n",
    "    \n",
    "    # Define basis matrix for Legendre polynomials: \n",
    "    V = np.polynomial.legendre.legvander(npts_values, len(npts_values) - 1).transpose()\n",
    "    \n",
    "    return(np.matmul(np.linalg.inv(V), f_array.transpose()))"
   ]
  },
  {
   "cell_type": "code",
   "execution_count": null,
   "id": "2b6fb3f7",
   "metadata": {},
   "outputs": [],
   "source": []
  },
  {
   "cell_type": "markdown",
   "id": "9944f39e",
   "metadata": {},
   "source": [
    "## DG Global D Matrix:"
   ]
  },
  {
   "cell_type": "code",
   "execution_count": 11,
   "id": "c697fca6",
   "metadata": {},
   "outputs": [
    {
     "data": {
      "text/plain": [
       "1.0"
      ]
     },
     "execution_count": 11,
     "metadata": {},
     "output_type": "execute_result"
    }
   ],
   "source": [
    "C = (L / (2 * M))\n",
    "-D[0, 0] + (1 / (2 * quad_weights(GLL_points)[-1] * C)) - (1 / (quad_weights(GLL_points)[-1] * C))"
   ]
  },
  {
   "cell_type": "code",
   "execution_count": 29,
   "id": "16c12082",
   "metadata": {},
   "outputs": [],
   "source": [
    "# Note: Have to come back to confirm the +/- signs; check indexing\n",
    "\n",
    "def global_DG(D, M, p, L, quad_weights):\n",
    "    \n",
    "    array = np.zeros((M * (p + 1), M * (p + 1)))\n",
    "    C = (L / (2 * M))\n",
    "    row_i = 0\n",
    "    col_i = 0\n",
    "    \n",
    "    for i in np.arange(M):\n",
    "        if i == 0:\n",
    "            array[row_i : row_i + (p+1), col_i : col_i + (p+1)] = (-D * (1 / C))\n",
    "            \n",
    "            # Right boundary correction:\n",
    "            array[row_i + p, row_i + p] = (-D[-1, -1] * (1 / C)) - (1 / (2 * quad_weights[-1] * C)) + (1 / (quad_weights[-1] * C))\n",
    "            array[row_i + p, row_i + p + 1] = -(1 / (2 * quad_weights[-1] * C))\n",
    "            \n",
    "            # Left boundary correction:\n",
    "            array[row_i, row_i] = (-D[0, 0] * (1 / C)) + (1 / (2 * quad_weights[0] * C)) - (1 / (quad_weights[0] * C))\n",
    "            \n",
    "            # Periodic boundaries:\n",
    "            array[0, -1] = (1 / (2 * quad_weights[0] * C))\n",
    "            \n",
    "        elif i == (M-1):\n",
    "            array[row_i : row_i + (p+1), col_i : col_i + (p+1)] = (-D * (1 / C))\n",
    "            \n",
    "            # Left boundary correction:\n",
    "            array[row_i, row_i] = (-D[0, 0] * (1 / C)) + (1 / (2 * quad_weights[0] * C)) - (1 / (quad_weights[0] * C))\n",
    "            array[row_i, row_i - 1] = (1 / (2 * quad_weights[0] * C))\n",
    "            \n",
    "            # Right boundary correction:\n",
    "            array[row_i + p, row_i + p] = (-D[-1, -1] * (1 / C)) - (1 / (2 * quad_weights[-1] * C)) + (1 / (quad_weights[-1] * C))\n",
    "            \n",
    "            # Periodic boundaries:\n",
    "            array[-1, 0] = -(1 / (2 * quad_weights[-1] * C))\n",
    "            \n",
    "        else:\n",
    "            array[row_i : row_i + (p+1), col_i : col_i + (p+1)] = (-D * (1 / C))\n",
    "            \n",
    "            # Right boundary correction:\n",
    "            array[row_i + p, row_i + p] = (-D[-1, -1] * (1 / C)) - (1 / (2 * quad_weights[-1] * C)) + (1 / (quad_weights[-1] * C))\n",
    "            array[row_i + p, row_i + p + 1] = -(1 / (2 * quad_weights[-1] * C))\n",
    "        \n",
    "            # Left boundary correction:\n",
    "            array[row_i, row_i] = (-D[0, 0] * (1 / C)) + (1 / (2 * quad_weights[0] * C)) - (1 / (quad_weights[0] * C))\n",
    "            array[row_i, row_i - 1] = (1 / (2 * quad_weights[0] * C))\n",
    "        \n",
    "        row_i = row_i + (p+1)\n",
    "        col_i = col_i + (p+1)\n",
    "        \n",
    "    return(array)\n"
   ]
  },
  {
   "cell_type": "code",
   "execution_count": 32,
   "id": "096d2d7b",
   "metadata": {},
   "outputs": [
    {
     "data": {
      "text/plain": [
       "array([-6.66133815e-16+2.99799668j, -6.66133815e-16-2.99799668j,\n",
       "       -5.55111512e-16+2.87346072j, -5.55111512e-16-2.87346072j,\n",
       "       -2.22044605e-16+2.5819889j , -2.22044605e-16-2.5819889j ,\n",
       "       -7.21644966e-16+2.279092j  , -7.21644966e-16-2.279092j  ,\n",
       "       -1.66533454e-16+1.2424426j , -1.66533454e-16-1.2424426j ,\n",
       "       -1.11022302e-16+1.03757255j, -1.11022302e-16-1.03757255j,\n",
       "        1.80411242e-16+0.52353792j,  1.80411242e-16-0.52353792j,\n",
       "       -3.28003888e-16+0.j        ,  9.99829959e-18+0.j        ])"
      ]
     },
     "execution_count": 32,
     "metadata": {},
     "output_type": "execute_result"
    }
   ],
   "source": [
    "np.linalg.eigvals(global_DG(D, M, p_order, L, quad_weights(GLL_points)))"
   ]
  },
  {
   "cell_type": "markdown",
   "id": "1f66416b",
   "metadata": {},
   "source": [
    "### Application to 1D Advection:"
   ]
  },
  {
   "cell_type": "code",
   "execution_count": 14,
   "id": "4ef29d3d",
   "metadata": {},
   "outputs": [],
   "source": [
    "def init_Guassian(input_array, mu, sigma): \n",
    "    \n",
    "    return_array = np.zeros_like(input_array)\n",
    "    \n",
    "    for i in np.arange(input_array.shape[0]):\n",
    "        \n",
    "        numerator = np.exp(-(input_array[i] - mu)**2 / (2 * sigma**2))\n",
    "        denominator = sigma * np.sqrt(2 * np.pi)\n",
    "        return_array[i, :] = numerator / denominator \n",
    "        \n",
    "    return(return_array)"
   ]
  },
  {
   "cell_type": "code",
   "execution_count": 18,
   "id": "2a7aeef0",
   "metadata": {},
   "outputs": [
    {
     "data": {
      "text/plain": [
       "array([6.07588285e-09, 6.23678826e-07, 2.61194096e-04, 4.43184841e-03,\n",
       "       4.43184841e-03, 3.78104741e-02, 2.82886947e-01, 3.98942280e-01,\n",
       "       3.98942280e-01, 2.82886947e-01, 3.78104741e-02, 4.43184841e-03,\n",
       "       4.43184841e-03, 2.61194096e-04, 6.23678826e-07, 6.07588285e-09])"
      ]
     },
     "execution_count": 18,
     "metadata": {},
     "output_type": "execute_result"
    }
   ],
   "source": [
    "u = init_Guassian(npts, (L/2), 1)\n",
    "u_G = u.reshape(-1)\n",
    "u_G"
   ]
  },
  {
   "cell_type": "code",
   "execution_count": 30,
   "id": "560b1f6d",
   "metadata": {},
   "outputs": [],
   "source": [
    "t_steps = 12\n",
    "dt = 0.10\n",
    "\n",
    "u_G = init_Guassian(npts, (L/2), 1).reshape(-1)\n",
    "\n",
    "for i in np.arange(0, t_steps, dt):\n",
    "    \n",
    "    u_mid = np.zeros_like(u)\n",
    "    u_n = np.zeros_like(u)\n",
    "    \n",
    "    # Half time step:\n",
    "    u_mid = u_G + ((dt / 2) * np.matmul(global_DG(D, M, p_order, L, quad_weights(GLL_points)), u_G))\n",
    "    # Full time step:\n",
    "    u_n = u_G + ((dt) * np.matmul(global_DG(D, M, p_order, L, quad_weights(GLL_points)), u_mid))\n",
    "    \n",
    "    # Prepare for the next timestep:\n",
    "    u_G = u_n"
   ]
  },
  {
   "cell_type": "code",
   "execution_count": 31,
   "id": "571adf51",
   "metadata": {},
   "outputs": [
    {
     "data": {
      "text/plain": [
       "array([ 0.088567  , -0.02167252, -0.0776931 ,  0.04841133,  0.04698194,\n",
       "        0.12319314,  0.24800313,  0.30239349,  0.29467319,  0.29250982,\n",
       "        0.09871945, -0.02156745, -0.0234518 , -0.07653663,  0.05353969,\n",
       "        0.08888182])"
      ]
     },
     "execution_count": 31,
     "metadata": {},
     "output_type": "execute_result"
    }
   ],
   "source": [
    "u_G # It works! - compare to element-by-element calculation "
   ]
  },
  {
   "cell_type": "markdown",
   "id": "d3357d6b",
   "metadata": {},
   "source": [
    "## CG Global D Matrix:"
   ]
  },
  {
   "cell_type": "code",
   "execution_count": 33,
   "id": "323baa9a",
   "metadata": {},
   "outputs": [],
   "source": [
    "def global_CG(D, M, p):\n",
    "    \n",
    "    row_i = 0\n",
    "    col_i = 0\n",
    "    edg_i = p\n",
    "    C = (L / (2 * M))\n",
    "    array = np.zeros(((M * p), (M * p)))\n",
    "    \n",
    "    for i in np.arange(M):\n",
    "        if i == 0:\n",
    "            array[row_i : row_i + (p+1), \n",
    "                  col_i : col_i + (p+1)] = (-D * (1 / C))\n",
    "            \n",
    "            # Periodic Boundary:\n",
    "            array[0, -3:] = (-D[-1, :3] * (1 / C))\n",
    "            \n",
    "            # Boundary Correction:\n",
    "            array[0, 0] = array[0, 0] - (D[-1, -1] * (1 / C))\n",
    "            array[0, :] = (array[0, :] / 2) # For centered average of u', divide all terms by 2\n",
    "            \n",
    "        elif i == M-1:\n",
    "            array[row_i : row_i + (p+1), \n",
    "                  col_i : col_i + (p+1)] = (-D[:3, :3] * (1 / C))\n",
    "            \n",
    "            # Periodic Boundary:\n",
    "            array[-3:, 0] = (-D[:3 , -1] * (1 / C))\n",
    "            \n",
    "            # Boundary Correction:\n",
    "            array[edg_i, edg_i] = (-D[0, 0] - D[-1, -1]) * (1 / C)\n",
    "            array[edg_i, :] = (array[edg_i, :] / 2) # For centered average of u', divide all terms by 2\n",
    "    \n",
    "        else:\n",
    "            array[row_i : row_i + (p+1), \n",
    "                  col_i : col_i + (p+1)] = (-D * (1 / C))\n",
    "            \n",
    "            # Boundary Correction:\n",
    "            array[edg_i, edg_i] = (-D[0, 0] - D[-1, -1]) * (1 / C)\n",
    "            array[edg_i, :] = (array[edg_i, :] / 2) # For centered average of u', divide all terms by 2\n",
    "            edg_i = edg_i + p\n",
    "            \n",
    "        row_i = row_i + (p)\n",
    "        col_i = col_i + (p)    \n",
    "        \n",
    "    return(array)\n",
    "        "
   ]
  },
  {
   "cell_type": "code",
   "execution_count": 44,
   "id": "dfeee379",
   "metadata": {},
   "outputs": [
    {
     "data": {
      "text/plain": [
       "array([ 5.88797394e-17+1.82574186j,  5.88797394e-17-1.82574186j,\n",
       "        1.66533454e-16+1.55510372j,  1.66533454e-16-1.55510372j,\n",
       "       -4.16333634e-17+1.364998j  , -4.16333634e-17-1.364998j  ,\n",
       "        6.68713706e-17+1.05409255j,  6.68713706e-17-1.05409255j,\n",
       "        2.77555756e-17+0.52343904j,  2.77555756e-17-0.52343904j,\n",
       "       -1.06403591e-16+0.j        ,  1.84777590e-17+0.j        ])"
      ]
     },
     "execution_count": 44,
     "metadata": {},
     "output_type": "execute_result"
    }
   ],
   "source": [
    "np.linalg.eigvals(global_CG(D, M, p_order))"
   ]
  },
  {
   "cell_type": "markdown",
   "id": "bc7e1498",
   "metadata": {},
   "source": [
    "### Application to 1D Advection:"
   ]
  },
  {
   "cell_type": "code",
   "execution_count": 46,
   "id": "2befc2ac",
   "metadata": {},
   "outputs": [],
   "source": [
    "t_steps = 12\n",
    "dt = 0.10\n",
    "\n",
    "u_G = np.array([arr[:3] for arr in init_Guassian(npts, (L/2), 1)]).reshape(-1)\n",
    "\n",
    "for i in np.arange(0, t_steps, dt):\n",
    "    \n",
    "    u_mid = np.zeros_like(u)\n",
    "    u_n = np.zeros_like(u)\n",
    "    \n",
    "    # Half time step:\n",
    "    u_mid = u_G + ((dt / 2) * np.matmul(global_CG(D, M, p_order), u_G))\n",
    "    # Full time step:\n",
    "    u_n = u_G + ((dt) * np.matmul(global_CG(D, M, p_order), u_mid))\n",
    "    \n",
    "    # Prepare for the next timestep:\n",
    "    u_G = u_n"
   ]
  },
  {
   "cell_type": "code",
   "execution_count": 48,
   "id": "b938e70e",
   "metadata": {
    "scrolled": true
   },
   "outputs": [
    {
     "data": {
      "text/plain": [
       "array([-0.04796433,  0.02177871,  0.01388166, -0.0428971 ,  0.04040688,\n",
       "        0.28244533,  0.37306751,  0.29033937,  0.05559084, -0.02030702,\n",
       "       -0.00376252, -0.00039902])"
      ]
     },
     "execution_count": 48,
     "metadata": {},
     "output_type": "execute_result"
    }
   ],
   "source": [
    "u_G"
   ]
  },
  {
   "cell_type": "markdown",
   "id": "96016286",
   "metadata": {},
   "source": [
    "## Eigenvector Analysis:"
   ]
  },
  {
   "cell_type": "code",
   "execution_count": 58,
   "id": "ed526e58",
   "metadata": {},
   "outputs": [
    {
     "data": {
      "text/plain": [
       "array([-3.39840453e-01,  3.39840453e-01, -3.41093288e-01,  3.41093288e-01,\n",
       "        3.05311332e-16, -3.05311332e-16,  0.00000000e+00, -0.00000000e+00,\n",
       "        1.42247325e-16, -1.42247325e-16, -2.07758194e-01,  2.07758194e-01,\n",
       "       -2.25460525e-01,  2.25460525e-01,  0.00000000e+00,  0.00000000e+00])"
      ]
     },
     "execution_count": 58,
     "metadata": {},
     "output_type": "execute_result"
    }
   ],
   "source": [
    "np.linalg.eig(global_DG(D, M, p_order, L, quad_weights(GLL_points)))[1][0].imag"
   ]
  },
  {
   "cell_type": "code",
   "execution_count": 68,
   "id": "5eb92985",
   "metadata": {},
   "outputs": [
    {
     "data": {
      "text/plain": [
       "array([-0.65166115+0.j        , -0.50420412-0.34419533j,\n",
       "       -0.16424208+0.52503564j, -0.62561325-0.33246373j,\n",
       "        0.59942969-0.77505386j,  0.40303633+0.12736262j,\n",
       "       -0.59583899+0.57800859j, -0.01423908-0.17361035j,\n",
       "        0.17562417-0.38594239j,  0.46802374-0.18959984j,\n",
       "        0.49323212+1.07717976j, -0.39943321-0.42904402j,\n",
       "        0.24628478+0.42190895j, -0.82719031-0.20372927j,\n",
       "        0.52135938-0.07392762j, -0.57645112+0.44012337j])"
      ]
     },
     "execution_count": 68,
     "metadata": {},
     "output_type": "execute_result"
    }
   ],
   "source": [
    "test = np.fft.fft(np.linalg.eig(global_DG(D, M, p_order, L, quad_weights(GLL_points)))[1][1])\n",
    "test"
   ]
  },
  {
   "cell_type": "code",
   "execution_count": 67,
   "id": "964612ac",
   "metadata": {},
   "outputs": [
    {
     "data": {
      "text/plain": [
       "array([0.42466225, 0.37269222, 0.30263789, 0.50192407, 0.96002445,\n",
       "       0.17865952, 0.68911804, 0.0303433 , 0.17979538, 0.25499432,\n",
       "       1.40359415, 0.34362565, 0.23866336, 0.72574943, 0.27728089,\n",
       "       0.52600448])"
      ]
     },
     "execution_count": 67,
     "metadata": {},
     "output_type": "execute_result"
    }
   ],
   "source": [
    "((test.imag) ** 2) + ((test.real) ** 2)"
   ]
  },
  {
   "cell_type": "code",
   "execution_count": null,
   "id": "b93ab81e",
   "metadata": {},
   "outputs": [],
   "source": []
  }
 ],
 "metadata": {
  "kernelspec": {
   "display_name": "Python [conda env:pangeo_2025] *",
   "language": "python",
   "name": "conda-env-pangeo_2025-py"
  },
  "language_info": {
   "codemirror_mode": {
    "name": "ipython",
    "version": 3
   },
   "file_extension": ".py",
   "mimetype": "text/x-python",
   "name": "python",
   "nbconvert_exporter": "python",
   "pygments_lexer": "ipython3",
   "version": "3.9.7"
  }
 },
 "nbformat": 4,
 "nbformat_minor": 5
}
