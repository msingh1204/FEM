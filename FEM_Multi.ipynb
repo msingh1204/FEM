{
 "cells": [
  {
   "cell_type": "code",
   "execution_count": 1,
   "id": "6e73fb85",
   "metadata": {},
   "outputs": [],
   "source": [
    "from scipy.special import roots_jacobi, eval_jacobi\n",
    "import numpy as np\n",
    "import scipy\n",
    "import math"
   ]
  },
  {
   "cell_type": "code",
   "execution_count": 2,
   "id": "22e4d668",
   "metadata": {},
   "outputs": [],
   "source": [
    "import matplotlib.pyplot as plt"
   ]
  },
  {
   "cell_type": "markdown",
   "id": "810b2ccb",
   "metadata": {},
   "source": [
    "### Initialization:"
   ]
  },
  {
   "cell_type": "code",
   "execution_count": 69,
   "id": "be65dc86",
   "metadata": {},
   "outputs": [],
   "source": [
    "L = 12 # Denotes total length in [0, L]\n",
    "M = 6 # Denotes number of elements \n",
    "x_range = np.arange(0, L + (L/M), (L/M)) # Define the element endpoints"
   ]
  },
  {
   "cell_type": "code",
   "execution_count": 70,
   "id": "39de7c2a",
   "metadata": {},
   "outputs": [],
   "source": [
    "def int_points(x_range, npts, dx, M):\n",
    "    \n",
    "    k = 0\n",
    "    p_order = npts - 1\n",
    "    xinterior, w = roots_jacobi(p_order - 1,1,1) # returns interior GLL nodes from range -1 and 1\n",
    "    GLL_points = np.pad(xinterior, (1, 1), 'constant', constant_values=(-1, 1))\n",
    "    GLL_dist = np.array([np.abs(GLL_points[0] - value) for value in GLL_points])\n",
    "    \n",
    "    return_array = np.zeros([M, npts])\n",
    "    \n",
    "    for i in x_range[:-1]:\n",
    "        array = np.array([i])\n",
    "        for j in GLL_dist[1:]: \n",
    "            scaled_point = ((j / 2) * (dx)) + i # Note: 2 here is the distance from -1 to 1\n",
    "            array = np.concatenate((array, np.array([scaled_point])))\n",
    "            \n",
    "        return_array[k, :] = array\n",
    "        k = k + 1\n",
    "    \n",
    "    return(return_array)"
   ]
  },
  {
   "cell_type": "code",
   "execution_count": 96,
   "id": "09002aae",
   "metadata": {},
   "outputs": [],
   "source": [
    "def init_Guassian(input_array, mu, sigma): \n",
    "    \n",
    "    return_array = np.zeros_like(input_array)\n",
    "    \n",
    "    for i in np.arange(input_array.shape[0]):\n",
    "        \n",
    "        numerator = np.exp(-(input_array[i] - mu)**2 / (2 * sigma**2))\n",
    "        denominator = sigma * np.sqrt(2 * np.pi)\n",
    "        return_array[i, :] = numerator / denominator \n",
    "        \n",
    "    return(return_array)"
   ]
  },
  {
   "cell_type": "code",
   "execution_count": 102,
   "id": "d6efa593",
   "metadata": {},
   "outputs": [
    {
     "data": {
      "text/plain": [
       "[<matplotlib.lines.Line2D at 0x7fe96c0417c0>]"
      ]
     },
     "execution_count": 102,
     "metadata": {},
     "output_type": "execute_result"
    },
    {
     "data": {
      "image/png": "[encoded data removed]",
      "text/plain": [
       "<Figure size 432x288 with 1 Axes>"
      ]
     },
     "metadata": {
      "needs_background": "light"
     },
     "output_type": "display_data"
    }
   ],
   "source": [
    "plt.plot(int_points(x_range, 4, L/M, M)[-1],\n",
    "         init_Guassian(int_points(x_range, 4, L/M, M), (L/2), 1)[-1])"
   ]
  },
  {
   "cell_type": "code",
   "execution_count": null,
   "id": "49331389",
   "metadata": {},
   "outputs": [],
   "source": []
  },
  {
   "cell_type": "code",
   "execution_count": null,
   "id": "b3c61b91",
   "metadata": {},
   "outputs": [],
   "source": []
  },
  {
   "cell_type": "code",
   "execution_count": null,
   "id": "0433e5bd",
   "metadata": {},
   "outputs": [],
   "source": []
  }
 ],
 "metadata": {
  "kernelspec": {
   "display_name": "Python 3 (ipykernel)",
   "language": "python",
   "name": "python3"
  },
  "language_info": {
   "codemirror_mode": {
    "name": "ipython",
    "version": 3
   },
   "file_extension": ".py",
   "mimetype": "text/x-python",
   "name": "python",
   "nbconvert_exporter": "python",
   "pygments_lexer": "ipython3",
   "version": "3.9.7"
  }
 },
 "nbformat": 4,
 "nbformat_minor": 5
}
