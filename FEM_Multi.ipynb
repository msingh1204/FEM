{
 "cells": [
  {
   "cell_type": "code",
   "execution_count": 4,
   "id": "6e73fb85",
   "metadata": {},
   "outputs": [],
   "source": [
    "from scipy.special import roots_jacobi, eval_jacobi\n",
    "import numpy as np\n",
    "import scipy\n",
    "import math"
   ]
  },
  {
   "cell_type": "code",
   "execution_count": 5,
   "id": "22e4d668",
   "metadata": {},
   "outputs": [],
   "source": [
    "import matplotlib.pyplot as plt"
   ]
  },
  {
   "cell_type": "markdown",
   "id": "810b2ccb",
   "metadata": {},
   "source": [
    "### Initialization:"
   ]
  },
  {
   "cell_type": "code",
   "execution_count": 78,
   "id": "be65dc86",
   "metadata": {},
   "outputs": [],
   "source": [
    "L = 12 # Denotes total length in [0, L]\n",
    "M = 4 # Denotes number of elements \n",
    "x_range = np.arange(0, L + (L/M), (L/M)) # Define the element endpoints"
   ]
  },
  {
   "cell_type": "code",
   "execution_count": 79,
   "id": "3b7503d9",
   "metadata": {},
   "outputs": [
    {
     "data": {
      "text/plain": [
       "array([ 0.,  3.,  6.,  9., 12.])"
      ]
     },
     "execution_count": 79,
     "metadata": {},
     "output_type": "execute_result"
    }
   ],
   "source": [
    "x_range"
   ]
  },
  {
   "cell_type": "code",
   "execution_count": 8,
   "id": "39de7c2a",
   "metadata": {},
   "outputs": [],
   "source": [
    "def int_points(x_range, npts, dx, M):\n",
    "    \n",
    "    k = 0\n",
    "    p_order = npts - 1\n",
    "    xinterior, w = roots_jacobi(p_order - 1,1,1) # returns interior GLL nodes from range -1 and 1\n",
    "    GLL_points = np.pad(xinterior, (1, 1), 'constant', constant_values=(-1, 1))\n",
    "    GLL_dist = np.array([np.abs(GLL_points[0] - value) for value in GLL_points])\n",
    "    \n",
    "    return_array = np.zeros([M, npts])\n",
    "    \n",
    "    for i in x_range[:-1]:\n",
    "        array = np.array([i])\n",
    "        for j in GLL_dist[1:]: \n",
    "            scaled_point = ((j / 2) * (dx)) + i # Note: 2 here is the distance from -1 to 1\n",
    "            array = np.concatenate((array, np.array([scaled_point])))\n",
    "            \n",
    "        return_array[k, :] = array\n",
    "        k = k + 1\n",
    "    \n",
    "    return(return_array)"
   ]
  },
  {
   "cell_type": "code",
   "execution_count": 9,
   "id": "09002aae",
   "metadata": {},
   "outputs": [],
   "source": [
    "def init_Guassian(input_array, mu, sigma): \n",
    "    \n",
    "    return_array = np.zeros_like(input_array)\n",
    "    \n",
    "    for i in np.arange(input_array.shape[0]):\n",
    "        \n",
    "        numerator = np.exp(-(input_array[i] - mu)**2 / (2 * sigma**2))\n",
    "        denominator = sigma * np.sqrt(2 * np.pi)\n",
    "        return_array[i, :] = numerator / denominator \n",
    "        \n",
    "    return(return_array)"
   ]
  },
  {
   "cell_type": "code",
   "execution_count": 10,
   "id": "82438849",
   "metadata": {},
   "outputs": [],
   "source": [
    "def Guassian_1st_deriv(input_array, mu, sigma):\n",
    "    return(-(input_array - mu) / sigma**2 * init_Guassian(input_array, mu, sigma))"
   ]
  },
  {
   "cell_type": "markdown",
   "id": "f27329b4",
   "metadata": {},
   "source": [
    "## Apply Derivative Operator to Elements:"
   ]
  },
  {
   "cell_type": "code",
   "execution_count": 11,
   "id": "dba07774",
   "metadata": {},
   "outputs": [],
   "source": [
    "def vandermonde(npts_values, return_type):\n",
    "    # For the monomial basis: \n",
    "    if return_type == 'Monomial':\n",
    "        return(np.vander(npts_values, increasing = True))\n",
    "    elif return_type == 'Legendre':\n",
    "        return(np.polynomial.legendre.legvander(npts_values, len(npts_values) - 1))"
   ]
  },
  {
   "cell_type": "code",
   "execution_count": 12,
   "id": "1331ddc8",
   "metadata": {},
   "outputs": [],
   "source": [
    "def Ld_vandermonde(npts_values): \n",
    "    \n",
    "    LP = np.polynomial.legendre\n",
    "    v_matrix = np.polynomial.legendre.legvander(npts_values, len(npts_values)-1)\n",
    "    d_v_matrix = np.zeros_like(v_matrix)\n",
    "\n",
    "    for i in range(len(npts_values)):\n",
    "        # Coefficients for the i-th Legendre polynomial (e.g., [0, 0, 1] for P_2)\n",
    "        coeffs = np.zeros(len(npts_values))\n",
    "        coeffs[i] = 1\n",
    "\n",
    "        # Compute the derivative of the i-th Legendre polynomial\n",
    "        deriv_coeffs = LP.legder(coeffs, m=1) # m=1 for first derivative\n",
    "\n",
    "        # Evaluate the derivative at the points x\n",
    "        d_v_matrix[:, i] = LP.legval(npts_values, deriv_coeffs)\n",
    "        \n",
    "    return(d_v_matrix)"
   ]
  },
  {
   "cell_type": "code",
   "execution_count": 13,
   "id": "e1c3e247",
   "metadata": {},
   "outputs": [],
   "source": [
    "def Md_vandermonde(npts_values):\n",
    "    \n",
    "    v_matrix = np.vander(npts_values, increasing = True)\n",
    "    d_v_matrix = np.zeros_like(v_matrix)\n",
    "    \n",
    "    for i in range(len(npts_values) - 1):\n",
    "        coeffs = np.zeros(len(npts_values))\n",
    "        coeffs[i] = i + 1\n",
    "        \n",
    "        deriv_P = np.polynomial.polynomial.Polynomial(coeffs) \n",
    "        d_v_matrix[:, i + 1] = deriv_P(npts_values)\n",
    "        \n",
    "    return(d_v_matrix)"
   ]
  },
  {
   "cell_type": "code",
   "execution_count": 14,
   "id": "669a048c",
   "metadata": {},
   "outputs": [],
   "source": [
    "def return_D(V1, V2):\n",
    "    return(np.matmul(V2, np.linalg.inv(V1)))"
   ]
  },
  {
   "cell_type": "markdown",
   "id": "da5edb25",
   "metadata": {},
   "source": [
    "### Compute Derivative Matrix:"
   ]
  },
  {
   "cell_type": "code",
   "execution_count": 15,
   "id": "e794cb6a",
   "metadata": {},
   "outputs": [],
   "source": [
    "# Note: the nodal inputs are all within the reference element:\n",
    "\n",
    "npts = 4\n",
    "p_order = npts - 1\n",
    "xinterior, w = roots_jacobi(p_order - 1,1,1) # returns interior GLL nodes from range -1 and 1\n",
    "GLL_points = np.pad(xinterior, (1, 1), 'constant', constant_values=(-1, 1))\n",
    "\n",
    "V1 = vandermonde(GLL_points, 'Legendre')\n",
    "V2 = Ld_vandermonde(GLL_points)\n",
    "D = return_D(V1, V2)"
   ]
  },
  {
   "cell_type": "code",
   "execution_count": 16,
   "id": "6609c789",
   "metadata": {},
   "outputs": [],
   "source": [
    "# Note: L, M are constants; D denotes the derivative matrix computed above:\n",
    "\n",
    "def deriv_elements(D, value_array, L, M):\n",
    "    \n",
    "    return_array = np.zeros_like(value_array)\n",
    "    \n",
    "    for i in np.arange(M): \n",
    "        d_values = np.matmul(D, value_array[i].transpose())\n",
    "        return_array[i] = (d_values * ((2 * M) / L)) # Multiply by factor: (2M / L)\n",
    "        \n",
    "    return(return_array)"
   ]
  },
  {
   "cell_type": "code",
   "execution_count": 17,
   "id": "6eb7c845",
   "metadata": {},
   "outputs": [
    {
     "data": {
      "text/plain": [
       "array([[ 0.00120991, -0.00071833,  0.00238983,  0.00815997],\n",
       "       [-0.06530813,  0.12627456,  0.18789814,  0.07248638],\n",
       "       [-0.07248638, -0.18789814, -0.12627456,  0.06530813],\n",
       "       [-0.00815997, -0.00238983,  0.00071833, -0.00120991]])"
      ]
     },
     "execution_count": 17,
     "metadata": {},
     "output_type": "execute_result"
    }
   ],
   "source": [
    "deriv_values = deriv_elements(D, init_Guassian(int_points(x_range, 4, L/M, M), (L/2), 1), \n",
    "                              L, M)\n",
    "\n",
    "deriv_values"
   ]
  },
  {
   "cell_type": "markdown",
   "id": "6eeb7b85",
   "metadata": {},
   "source": [
    "### Quick Plotting:"
   ]
  },
  {
   "cell_type": "code",
   "execution_count": 24,
   "id": "c23b0d69",
   "metadata": {},
   "outputs": [],
   "source": [
    "def plot_FEM(int_points, value_array, M):\n",
    "    \n",
    "    fig = plt.plot()\n",
    "    \n",
    "    for i in np.arange(M):\n",
    "        plt.plot(int_points[i], value_array[i], marker = 'o')\n",
    "        # plt.plot(fine_int_points[i], fine_value_array[i])\n",
    "\n",
    "    return()\n",
    "\n",
    "def plot_FEM_ic(int_points, value_array, M):\n",
    "     \n",
    "    for i in np.arange(M):\n",
    "        plt.plot(int_points[i], value_array[i], marker = '*', color = 'green')\n",
    "        # plt.plot(fine_int_points[i], fine_value_array[i])\n",
    "\n",
    "    return()"
   ]
  },
  {
   "cell_type": "code",
   "execution_count": 17,
   "id": "6510f2e9",
   "metadata": {},
   "outputs": [
    {
     "data": {
      "text/plain": [
       "[]"
      ]
     },
     "execution_count": 17,
     "metadata": {},
     "output_type": "execute_result"
    },
    {
     "data": {
      "image/png": "[encoded data removed]",
      "text/plain": [
       "<Figure size 640x480 with 1 Axes>"
      ]
     },
     "metadata": {},
     "output_type": "display_data"
    }
   ],
   "source": [
    "plot_FEM(int_points(x_range, 4, L/M, M), deriv_values, M)\n",
    "         # int_points(x_range, 25, L/M, M), Guassian_1st_deriv(int_points(x_range, 25, L/M, M), (L/2), 1))\n"
   ]
  },
  {
   "cell_type": "code",
   "execution_count": null,
   "id": "52eda984",
   "metadata": {},
   "outputs": [],
   "source": []
  },
  {
   "cell_type": "code",
   "execution_count": 3,
   "id": "2a45db68",
   "metadata": {},
   "outputs": [
    {
     "ename": "NameError",
     "evalue": "name 'np' is not defined",
     "output_type": "error",
     "traceback": [
      "\u001b[0;31m---------------------------------------------------------------------------\u001b[0m",
      "\u001b[0;31mNameError\u001b[0m                                 Traceback (most recent call last)",
      "\u001b[0;32m/tmp/ipykernel_18494/870523597.py\u001b[0m in \u001b[0;36m<module>\u001b[0;34m\u001b[0m\n\u001b[0;32m----> 1\u001b[0;31m \u001b[0mx_range\u001b[0m \u001b[0;34m=\u001b[0m \u001b[0mnp\u001b[0m\u001b[0;34m.\u001b[0m\u001b[0marange\u001b[0m\u001b[0;34m(\u001b[0m\u001b[0;36m0\u001b[0m\u001b[0;34m,\u001b[0m \u001b[0mL\u001b[0m \u001b[0;34m+\u001b[0m \u001b[0;34m(\u001b[0m\u001b[0mL\u001b[0m\u001b[0;34m/\u001b[0m\u001b[0mM\u001b[0m\u001b[0;34m)\u001b[0m\u001b[0;34m,\u001b[0m \u001b[0;34m(\u001b[0m\u001b[0mL\u001b[0m\u001b[0;34m/\u001b[0m\u001b[0mM\u001b[0m\u001b[0;34m)\u001b[0m\u001b[0;34m)\u001b[0m \u001b[0;31m# Define the element endpoints\u001b[0m\u001b[0;34m\u001b[0m\u001b[0;34m\u001b[0m\u001b[0m\n\u001b[0m",
      "\u001b[0;31mNameError\u001b[0m: name 'np' is not defined"
     ]
    }
   ],
   "source": [
    "x_range = np.arange(0, L + (L/M), (L/M)) # Define the element endpoints"
   ]
  },
  {
   "cell_type": "code",
   "execution_count": 174,
   "id": "dad6d65f",
   "metadata": {},
   "outputs": [],
   "source": [
    "# Note: The num_pts variable is for each element; written for Legendre basis\n",
    "def dV_multi_finegrid(x_range, n_order, num_pts, deriv_values):\n",
    "    \n",
    "    hold = 0\n",
    "    LP = np.polynomial.legendre\n",
    "    dv_finegrid = np.zeros([num_pts * (len(x_range) - 1), n_order])\n",
    "    \n",
    "    for i, j in enumerate(x_range[:-1]):\n",
    "        # dx = np.diff(x_range)[0] / (num_pts) # Assuming element lengths are all equal \n",
    "        dx = (1/5)\n",
    "        npts = np.arange(j, x_range[i+1], dx)\n",
    "     \n",
    "        for k in np.arange(n_order):\n",
    "            coeffs = np.zeros(n_order)\n",
    "            coeffs[k] = 1\n",
    "            \n",
    "            deriv_coeffs = LP.legder(coeffs, m=1)\n",
    "        \n",
    "            # We need to calculate (LP'(x) * LP^-1(x)): \n",
    "            d_P = LP.legval(npts, deriv_coeffs)\n",
    "            P = np.polynomial.legendre.Legendre(coeffs)\n",
    "            \n",
    "            dv_finegrid[hold : hold + (num_pts), k] = (d_P / P(npts))\n",
    "            \n",
    "        hold = hold + num_pts\n",
    "        \n",
    "    return(dv_finegrid)"
   ]
  },
  {
   "cell_type": "code",
   "execution_count": null,
   "id": "28d579b0",
   "metadata": {},
   "outputs": [],
   "source": [
    "dV_multi_finegrid(x_range, 4, 10, deriv_values)"
   ]
  },
  {
   "cell_type": "code",
   "execution_count": 145,
   "id": "a9999658",
   "metadata": {},
   "outputs": [
    {
     "data": {
      "text/plain": [
       "[<matplotlib.lines.Line2D at 0x7fad9db990a0>]"
      ]
     },
     "execution_count": 145,
     "metadata": {},
     "output_type": "execute_result"
    },
    {
     "data": {
      "image/png": "[encoded data removed]",
      "text/plain": [
       "<Figure size 432x288 with 1 Axes>"
      ]
     },
     "metadata": {
      "needs_background": "light"
     },
     "output_type": "display_data"
    }
   ],
   "source": [
    "plt.plot(np.arange(0, 10), np.matmul(elem_4, deriv_values[4].transpose()))"
   ]
  },
  {
   "cell_type": "code",
   "execution_count": null,
   "id": "8198889e",
   "metadata": {},
   "outputs": [],
   "source": []
  },
  {
   "cell_type": "markdown",
   "id": "a4889d51",
   "metadata": {},
   "source": [
    "### CG Boundary Averaging:"
   ]
  },
  {
   "cell_type": "code",
   "execution_count": 18,
   "id": "7bf23634",
   "metadata": {},
   "outputs": [],
   "source": [
    "def boundary_mean(value_array, M):\n",
    "    \n",
    "    return_array = value_array.copy()\n",
    "     \n",
    "    for i in np.arange(M-1):\n",
    "        mean_value = np.mean([value_array[i][-1], value_array[i+1][0]])\n",
    "        return_array[i][-1] = mean_value\n",
    "        return_array[i+1][0] = mean_value \n",
    "        \n",
    "    # For the endpoints:\n",
    "    return_array[-1][-1] = np.mean([value_array[-1][-1], value_array[0][0]])\n",
    "    return_array[0][0] = np.mean([value_array[-1][-1], value_array[0][0]])\n",
    "        \n",
    "    return(return_array)"
   ]
  },
  {
   "cell_type": "code",
   "execution_count": 19,
   "id": "3cc80b43",
   "metadata": {},
   "outputs": [],
   "source": [
    "test = boundary_mean(deriv_values, M)"
   ]
  },
  {
   "cell_type": "code",
   "execution_count": 20,
   "id": "df2c0bb2",
   "metadata": {},
   "outputs": [
    {
     "data": {
      "text/plain": [
       "[]"
      ]
     },
     "execution_count": 20,
     "metadata": {},
     "output_type": "execute_result"
    },
    {
     "data": {
      "image/png": "[encoded data removed]",
      "text/plain": [
       "<Figure size 640x480 with 1 Axes>"
      ]
     },
     "metadata": {},
     "output_type": "display_data"
    }
   ],
   "source": [
    "plot_FEM(int_points(x_range, 4, L/M, M), test, M)\n",
    "         # int_points(x_range, 25, L/M, M), Guassian_1st_deriv(int_points(x_range, 25, L/M, M), (L/2), 1))"
   ]
  },
  {
   "cell_type": "code",
   "execution_count": null,
   "id": "6153e598",
   "metadata": {},
   "outputs": [],
   "source": []
  },
  {
   "cell_type": "markdown",
   "id": "1de87ec4",
   "metadata": {},
   "source": [
    "### Applied to 1D Advection (with Predictor-Corrector Method):"
   ]
  },
  {
   "cell_type": "code",
   "execution_count": 80,
   "id": "a37090c7",
   "metadata": {},
   "outputs": [],
   "source": [
    "# Initialize the elements and the Guassian function:\n",
    "\n",
    "L = 12 # Denotes total length in [0, L]\n",
    "M = 4 # Denotes number of elements \n",
    "x_range = np.arange(0, L + (L/M), (L/M)) # Define the element endpoints\n",
    "\n",
    "npts = 4\n",
    "p_order = npts - 1\n",
    "xinterior, w = roots_jacobi(p_order - 1,1,1) # returns interior GLL nodes from range -1 and 1\n",
    "GLL_points = np.pad(xinterior, (1, 1), 'constant', constant_values=(-1, 1))\n",
    "\n",
    "# Note: The D matrix is only created once as it operates on the reference element\n",
    "V1 = vandermonde(GLL_points, 'Legendre')\n",
    "V2 = Ld_vandermonde(GLL_points)\n",
    "D = return_D(V1, V2)\n",
    "\n",
    "# The following is used in creating the init condition: \n",
    "npts = int_points(x_range, 4, L/M, M)"
   ]
  },
  {
   "cell_type": "code",
   "execution_count": 20,
   "id": "66d95bfb",
   "metadata": {},
   "outputs": [],
   "source": [
    "# Compute the derivative matrix:\n",
    "def SEM_dx(D, u, M, L):\n",
    "    \n",
    "    u_out = np.zeros_like(u)\n",
    "    \n",
    "    for j in np.arange(npts.shape[0]):\n",
    "        u_out[j] = (np.matmul(D, u[j].transpose()) * ((2 * M) / L))\n",
    "        \n",
    "    return(boundary_mean(u_out, u_out.shape[0]))"
   ]
  },
  {
   "cell_type": "code",
   "execution_count": 21,
   "id": "429ba8ba",
   "metadata": {},
   "outputs": [],
   "source": [
    "t_steps = 24\n",
    "CFL = 0.10\n",
    "dt = 0.10\n",
    "\n",
    "u = init_Guassian(npts, (L/2), 1)\n",
    "\n",
    "for i in np.arange(0, t_steps, dt):\n",
    "    \n",
    "    u_mid = np.zeros_like(u)\n",
    "    u_n = np.zeros_like(u)\n",
    "    \n",
    "    # Half time step:\n",
    "    u_mid = u - ((dt / 2) * SEM_dx(D, u, M, L))\n",
    "    # Full time step:\n",
    "    u_n = u - ((dt) * SEM_dx(D, u_mid, M, L))\n",
    "    \n",
    "    # Prepare for the next timestep:\n",
    "    u = u_n"
   ]
  },
  {
   "cell_type": "code",
   "execution_count": 22,
   "id": "f6f18f97",
   "metadata": {},
   "outputs": [
    {
     "data": {
      "text/plain": [
       "array([[ 0.        ,  0.82917961,  2.17082039,  3.        ],\n",
       "       [ 3.        ,  3.82917961,  5.17082039,  6.        ],\n",
       "       [ 6.        ,  6.82917961,  8.17082039,  9.        ],\n",
       "       [ 9.        ,  9.82917961, 11.17082039, 12.        ]])"
      ]
     },
     "execution_count": 22,
     "metadata": {},
     "output_type": "execute_result"
    }
   ],
   "source": [
    "npts"
   ]
  },
  {
   "cell_type": "code",
   "execution_count": 25,
   "id": "d503fe21",
   "metadata": {},
   "outputs": [
    {
     "data": {
      "text/plain": [
       "Text(0.5, 1.0, 'IC & FEM Solution at t_step: 24')"
      ]
     },
     "execution_count": 25,
     "metadata": {},
     "output_type": "execute_result"
    },
    {
     "data": {
      "image/png": "[encoded data removed]",
      "text/plain": [
       "<Figure size 432x288 with 1 Axes>"
      ]
     },
     "metadata": {
      "needs_background": "light"
     },
     "output_type": "display_data"
    }
   ],
   "source": [
    "plot_FEM(npts, u, 4)\n",
    "plot_FEM_ic(npts, init_Guassian(npts, (L/2), 1), 4)\n",
    "plt.title('IC & FEM Solution at t_step: 24')"
   ]
  },
  {
   "cell_type": "markdown",
   "id": "f506d89b",
   "metadata": {},
   "source": [
    "### Property Check -> Integration by Parts:"
   ]
  },
  {
   "cell_type": "code",
   "execution_count": 26,
   "id": "18194d05",
   "metadata": {},
   "outputs": [],
   "source": [
    "# Note: Quad weights only needs to defined for one element as all elements use the same functional space\n",
    "# The weights are calculated using exact integration \n",
    "\n",
    "def quad_weights(npts_values):\n",
    "    \n",
    "    # Values in f_array result from exact integration:\n",
    "    f_array = np.zeros(len(npts_values))\n",
    "    f_array[0] = 2\n",
    "    \n",
    "    # Define basis matrix for Legendre polynomials: \n",
    "    V = np.polynomial.legendre.legvander(npts_values, len(npts_values) - 1).transpose()\n",
    "    \n",
    "    return(np.matmul(np.linalg.inv(V), f_array.transpose()))"
   ]
  },
  {
   "cell_type": "code",
   "execution_count": 27,
   "id": "a2e28b0f",
   "metadata": {},
   "outputs": [
    {
     "data": {
      "text/plain": [
       "array([0.16666667, 0.83333333, 0.83333333, 0.16666667])"
      ]
     },
     "execution_count": 27,
     "metadata": {},
     "output_type": "execute_result"
    }
   ],
   "source": [
    "p_order = 3\n",
    "xinterior, w = roots_jacobi(p_order - 1,1,1) # returns interior GLL nodes from range -1 and 1\n",
    "GLL_points = np.pad(xinterior, (1, 1), 'constant', constant_values = (-1, 1))\n",
    "\n",
    "quad_weights(GLL_points)"
   ]
  },
  {
   "cell_type": "code",
   "execution_count": 28,
   "id": "c3eb10d3",
   "metadata": {},
   "outputs": [],
   "source": [
    "# Note: Ensure u is a nested array for M elements \n",
    "\n",
    "def quad_int(u, L, M, quad_weights):\n",
    "    \n",
    "    return_array = np.zeros(M)\n",
    "    \n",
    "    for i in np.arange(M):\n",
    "        return_array[i] = (np.sum(u[i] * quad_weights)) * (L / (2 * M))\n",
    "        \n",
    "    return(np.sum(return_array))"
   ]
  },
  {
   "cell_type": "markdown",
   "id": "a6626065",
   "metadata": {},
   "source": [
    "### Test 1: Check int(1) = L"
   ]
  },
  {
   "cell_type": "code",
   "execution_count": 29,
   "id": "7d9aa676",
   "metadata": {},
   "outputs": [
    {
     "data": {
      "text/plain": [
       "11.999999999999998"
      ]
     },
     "execution_count": 29,
     "metadata": {},
     "output_type": "execute_result"
    }
   ],
   "source": [
    "def int_test(input_array): \n",
    "    \n",
    "    return_array = np.zeros_like(input_array)\n",
    "    for i in np.arange(input_array.shape[0]):\n",
    "        return_array[i, :] = 1 \n",
    "        \n",
    "    return(return_array)\n",
    "\n",
    "quad_int(int_test(npts), L, M, quad_weights(GLL_points))"
   ]
  },
  {
   "cell_type": "markdown",
   "id": "80cbf725",
   "metadata": {},
   "source": [
    "### Test 2: Mass Conservation"
   ]
  },
  {
   "cell_type": "code",
   "execution_count": 30,
   "id": "800ce857",
   "metadata": {},
   "outputs": [
    {
     "data": {
      "text/plain": [
       "(1.0063010876099612, 1.0063010876099605)"
      ]
     },
     "execution_count": 30,
     "metadata": {},
     "output_type": "execute_result"
    }
   ],
   "source": [
    "u1 = (quad_int(init_Guassian(npts, (L/2), 1), L, M, quad_weights(GLL_points)))\n",
    "u2 = (quad_int(u, L, M, quad_weights(GLL_points)))\n",
    "\n",
    "u1, u2"
   ]
  },
  {
   "cell_type": "markdown",
   "id": "e289f3dd",
   "metadata": {},
   "source": [
    "### Test 3: Integration by Parts"
   ]
  },
  {
   "cell_type": "code",
   "execution_count": 34,
   "id": "627596eb",
   "metadata": {},
   "outputs": [],
   "source": [
    "P1 = np.polynomial.polynomial.Polynomial([1, 2, 3])\n",
    "P2 = np.polynomial.polynomial.Polynomial([12, 14, 18])\n",
    "\n",
    "def define_poly(P1, P2, input_array):\n",
    "    \n",
    "    P1_out = np.zeros_like(input_array)\n",
    "    P2_out = np.zeros_like(input_array)\n",
    "    \n",
    "    for i in np.arange(input_array.shape[0]):\n",
    "        P1_out[i] = P1(input_array[i])\n",
    "        P2_out[i] = P2(input_array[i])\n",
    "        \n",
    "    return(P1_out, P2_out)"
   ]
  },
  {
   "cell_type": "code",
   "execution_count": null,
   "id": "729da58e",
   "metadata": {},
   "outputs": [],
   "source": []
  },
  {
   "cell_type": "code",
   "execution_count": 37,
   "id": "9c13e220",
   "metadata": {},
   "outputs": [],
   "source": [
    "V = vandermonde(GLL_points, 'Legendre')\n",
    "D = return_D(V, Ld_vandermonde(GLL_points))\n",
    "f, q = define_poly(P1, P2, int_points(x_range, 4, L/M, M))"
   ]
  },
  {
   "cell_type": "code",
   "execution_count": 60,
   "id": "1789590c",
   "metadata": {},
   "outputs": [
    {
     "data": {
      "text/plain": [
       "()"
      ]
     },
     "execution_count": 60,
     "metadata": {},
     "output_type": "execute_result"
    },
    {
     "data": {
      "image/png": "[encoded data removed]",
      "text/plain": [
       "<Figure size 432x288 with 1 Axes>"
      ]
     },
     "metadata": {
      "needs_background": "light"
     },
     "output_type": "display_data"
    }
   ],
   "source": [
    "plot_FEM(int_points(x_range, 4, L/M, M), q, 4)\n",
    "plot_FEM(int_points(x_range, 4, L/M, M), f, 4)"
   ]
  },
  {
   "cell_type": "code",
   "execution_count": 61,
   "id": "61fddb2b",
   "metadata": {},
   "outputs": [
    {
     "data": {
      "text/plain": [
       "array([[342.        ,  62.77569876, 135.22430124, 180.        ],\n",
       "       [180.        , 224.77569876, 297.22430124, 342.        ],\n",
       "       [342.        , 386.77569876, 459.22430124, 504.        ],\n",
       "       [504.        , 548.77569876, 621.22430124, 342.        ]])"
      ]
     },
     "execution_count": 61,
     "metadata": {},
     "output_type": "execute_result"
    }
   ],
   "source": [
    "SEM_dx(D, f, L, M)"
   ]
  },
  {
   "cell_type": "code",
   "execution_count": 66,
   "id": "47d8cd49",
   "metadata": {},
   "outputs": [
    {
     "data": {
      "text/plain": [
       "array([[ 1.33333333,  4.65005176, 10.01661491, 13.33333333],\n",
       "       [13.33333333, 16.65005176, 22.01661491, 25.33333333],\n",
       "       [25.33333333, 28.65005176, 34.01661491, 37.33333333],\n",
       "       [37.33333333, 40.65005176, 46.01661491, 49.33333333]])"
      ]
     },
     "execution_count": 66,
     "metadata": {},
     "output_type": "execute_result"
    }
   ],
   "source": [
    "d_P1 = np.polynomial.polynomial.Polynomial([2, 6])\n",
    "d_P1(int_points(x_range, 4, L/M, M)) * ((2 * M) / L)"
   ]
  },
  {
   "cell_type": "code",
   "execution_count": 64,
   "id": "794a8993",
   "metadata": {},
   "outputs": [
    {
     "data": {
      "text/plain": [
       "5504759.999999998"
      ]
     },
     "execution_count": 64,
     "metadata": {},
     "output_type": "execute_result"
    }
   ],
   "source": [
    "quad_int(SEM_dx(D, f, L, M) * q, L, M, quad_weights(GLL_points)) \n"
   ]
  },
  {
   "cell_type": "code",
   "execution_count": 43,
   "id": "3abc6695",
   "metadata": {},
   "outputs": [
    {
     "data": {
      "text/plain": [
       "5451192.0"
      ]
     },
     "execution_count": 43,
     "metadata": {},
     "output_type": "execute_result"
    }
   ],
   "source": [
    "quad_int(SEM_dx(D, q, L, M) * f, L, M, quad_weights(GLL_points))"
   ]
  },
  {
   "cell_type": "code",
   "execution_count": 81,
   "id": "1f22f1f9",
   "metadata": {},
   "outputs": [
    {
     "data": {
      "text/plain": [
       "array([[  1.        ,   4.72097567,  19.47902433,  34.        ],\n",
       "       [ 34.        ,  52.6462086 ,  91.5537914 , 121.        ],\n",
       "       [121.        , 154.57144152, 217.62855848, 262.        ],\n",
       "       [262.        , 310.49667444, 397.70332556, 457.        ]])"
      ]
     },
     "execution_count": 81,
     "metadata": {},
     "output_type": "execute_result"
    }
   ],
   "source": [
    "LP = np.polynomial.legendre.Legendre([1, 2, 3])\n",
    "MP = np.polynomial.polynomial.Polynomial([1, 2, 3])\n",
    "\n",
    "LP(int_points(x_range, 4, L/M, M))\n",
    "MP(int_points(x_range, 4, L/M, M))"
   ]
  },
  {
   "cell_type": "code",
   "execution_count": null,
   "id": "0540b010",
   "metadata": {},
   "outputs": [],
   "source": []
  },
  {
   "cell_type": "code",
   "execution_count": null,
   "id": "bf6587e6",
   "metadata": {},
   "outputs": [],
   "source": []
  },
  {
   "cell_type": "code",
   "execution_count": null,
   "id": "90df369c",
   "metadata": {},
   "outputs": [],
   "source": [
    "def define_poly(P1, P2, input_array):\n",
    "    \n",
    "    P1_out = np.zeros_like(input_array)\n",
    "    P2_out = np.zeros_like(input_array)\n",
    "    \n",
    "    for i in np.arange(input_array.shape[0]):\n",
    "        P1_out[i] = P1(input_array[i])\n",
    "        P2_out[i] = P2(input_array[i])\n",
    "        \n",
    "    return(P1_out, P2_out)"
   ]
  },
  {
   "cell_type": "markdown",
   "id": "4824fa40",
   "metadata": {},
   "source": [
    "### DG Implementation:"
   ]
  },
  {
   "cell_type": "code",
   "execution_count": null,
   "id": "c1411f56",
   "metadata": {},
   "outputs": [],
   "source": []
  }
 ],
 "metadata": {
  "kernelspec": {
   "display_name": "Python 3 (ipykernel)",
   "language": "python",
   "name": "python3"
  },
  "language_info": {
   "codemirror_mode": {
    "name": "ipython",
    "version": 3
   },
   "file_extension": ".py",
   "mimetype": "text/x-python",
   "name": "python",
   "nbconvert_exporter": "python",
   "pygments_lexer": "ipython3",
   "version": "3.9.7"
  }
 },
 "nbformat": 4,
 "nbformat_minor": 5
}
