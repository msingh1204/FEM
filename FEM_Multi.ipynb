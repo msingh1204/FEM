{
 "cells": [
  {
   "cell_type": "code",
   "execution_count": 5,
   "id": "6e73fb85",
   "metadata": {},
   "outputs": [],
   "source": [
    "from scipy.special import roots_jacobi, eval_jacobi\n",
    "import numpy as np\n",
    "import scipy\n",
    "import math"
   ]
  },
  {
   "cell_type": "code",
   "execution_count": 6,
   "id": "22e4d668",
   "metadata": {},
   "outputs": [],
   "source": [
    "import matplotlib.pyplot as plt"
   ]
  },
  {
   "cell_type": "markdown",
   "id": "810b2ccb",
   "metadata": {},
   "source": [
    "### Initialization:"
   ]
  },
  {
   "cell_type": "code",
   "execution_count": 190,
   "id": "be65dc86",
   "metadata": {},
   "outputs": [],
   "source": [
    "L = 12 # Denotes total length in [0, L]\n",
    "M = 6 # Denotes number of elements \n",
    "x_range = np.arange(0, L + (L/M), (L/M)) # Define the element endpoints"
   ]
  },
  {
   "cell_type": "code",
   "execution_count": 8,
   "id": "39de7c2a",
   "metadata": {},
   "outputs": [],
   "source": [
    "def int_points(x_range, npts, dx, M):\n",
    "    \n",
    "    k = 0\n",
    "    p_order = npts - 1\n",
    "    xinterior, w = roots_jacobi(p_order - 1,1,1) # returns interior GLL nodes from range -1 and 1\n",
    "    GLL_points = np.pad(xinterior, (1, 1), 'constant', constant_values=(-1, 1))\n",
    "    GLL_dist = np.array([np.abs(GLL_points[0] - value) for value in GLL_points])\n",
    "    \n",
    "    return_array = np.zeros([M, npts])\n",
    "    \n",
    "    for i in x_range[:-1]:\n",
    "        array = np.array([i])\n",
    "        for j in GLL_dist[1:]: \n",
    "            scaled_point = ((j / 2) * (dx)) + i # Note: 2 here is the distance from -1 to 1\n",
    "            array = np.concatenate((array, np.array([scaled_point])))\n",
    "            \n",
    "        return_array[k, :] = array\n",
    "        k = k + 1\n",
    "    \n",
    "    return(return_array)"
   ]
  },
  {
   "cell_type": "code",
   "execution_count": 196,
   "id": "09002aae",
   "metadata": {},
   "outputs": [],
   "source": [
    "def init_Guassian(input_array, mu, sigma): \n",
    "    \n",
    "    return_array = np.zeros_like(input_array)\n",
    "    \n",
    "    for i in np.arange(input_array.shape[0]):\n",
    "        \n",
    "        numerator = np.exp(-(input_array[i] - mu)**2 / (2 * sigma**2))\n",
    "        denominator = sigma * np.sqrt(2 * np.pi)\n",
    "        return_array[i, :] = numerator / denominator \n",
    "        \n",
    "    return(return_array)"
   ]
  },
  {
   "cell_type": "code",
   "execution_count": 200,
   "id": "da552099",
   "metadata": {},
   "outputs": [],
   "source": [
    "def Guassian_1st_deriv(input_array, mu, sigma):\n",
    "    return(-(input_array - mu) / sigma**2 * init_Guassian(input_array, mu, sigma))"
   ]
  },
  {
   "cell_type": "code",
   "execution_count": null,
   "id": "f69c4798",
   "metadata": {},
   "outputs": [],
   "source": []
  },
  {
   "cell_type": "code",
   "execution_count": 193,
   "id": "8af1d5c2",
   "metadata": {},
   "outputs": [
    {
     "data": {
      "text/plain": [
       "[<matplotlib.lines.Line2D at 0x7fad9d9adc40>]"
      ]
     },
     "execution_count": 193,
     "metadata": {},
     "output_type": "execute_result"
    },
    {
     "data": {
      "image/png": "[encoded data removed]",
      "text/plain": [
       "<Figure size 432x288 with 1 Axes>"
      ]
     },
     "metadata": {
      "needs_background": "light"
     },
     "output_type": "display_data"
    }
   ],
   "source": [
    "plt.plot(int_points(x_range, 25, L/M, M)[-1],\n",
    "         Guassian_1st_deriv(int_points(x_range, 25, L/M, M), (L/2), 1)[-1])"
   ]
  },
  {
   "cell_type": "code",
   "execution_count": null,
   "id": "14a417e2",
   "metadata": {},
   "outputs": [],
   "source": []
  },
  {
   "cell_type": "markdown",
   "id": "7acb59d9",
   "metadata": {},
   "source": [
    "### Apply Derivative Operator to Elements:"
   ]
  },
  {
   "cell_type": "code",
   "execution_count": 15,
   "id": "dba07774",
   "metadata": {},
   "outputs": [],
   "source": [
    "def vandermonde(npts_values, return_type):\n",
    "    # For the monomial basis: \n",
    "    if return_type == 'Monomial':\n",
    "        return(np.vander(npts_values, increasing = True))\n",
    "    elif return_type == 'Legendre':\n",
    "        return(np.polynomial.legendre.legvander(npts_values, len(npts_values) - 1))"
   ]
  },
  {
   "cell_type": "code",
   "execution_count": 32,
   "id": "1331ddc8",
   "metadata": {},
   "outputs": [],
   "source": [
    "def Ld_vandermonde(npts_values): \n",
    "    \n",
    "    LP = np.polynomial.legendre\n",
    "    v_matrix = np.polynomial.legendre.legvander(npts_values, len(npts_values)-1)\n",
    "    d_v_matrix = np.zeros_like(v_matrix)\n",
    "\n",
    "    for i in range(len(npts_values)):\n",
    "        # Coefficients for the i-th Legendre polynomial (e.g., [0, 0, 1] for P_2)\n",
    "        coeffs = np.zeros(len(npts_values))\n",
    "        coeffs[i] = 1\n",
    "\n",
    "        # Compute the derivative of the i-th Legendre polynomial\n",
    "        deriv_coeffs = LP.legder(coeffs, m=1) # m=1 for first derivative\n",
    "\n",
    "        # Evaluate the derivative at the points x\n",
    "        d_v_matrix[:, i] = LP.legval(npts_values, deriv_coeffs)\n",
    "        \n",
    "    return(d_v_matrix)"
   ]
  },
  {
   "cell_type": "code",
   "execution_count": 17,
   "id": "982ccd4e",
   "metadata": {},
   "outputs": [],
   "source": [
    "def Md_vandermonde(npts_values):\n",
    "    \n",
    "    v_matrix = np.vander(npts_values, increasing = True)\n",
    "    d_v_matrix = np.zeros_like(v_matrix)\n",
    "    \n",
    "    for i in range(len(npts_values) - 1):\n",
    "        coeffs = np.zeros(len(npts_values))\n",
    "        coeffs[i] = i + 1\n",
    "        \n",
    "        deriv_P = np.polynomial.polynomial.Polynomial(coeffs) \n",
    "        d_v_matrix[:, i + 1] = deriv_P(npts_values)\n",
    "        \n",
    "    return(d_v_matrix)"
   ]
  },
  {
   "cell_type": "code",
   "execution_count": 18,
   "id": "c6cfd918",
   "metadata": {},
   "outputs": [],
   "source": [
    "def return_D(V1, V2):\n",
    "    return(np.matmul(V2, np.linalg.inv(V1)))"
   ]
  },
  {
   "cell_type": "code",
   "execution_count": 30,
   "id": "7649d241",
   "metadata": {},
   "outputs": [],
   "source": [
    "def deriv_elements(int_points, value_array, M):\n",
    "    \n",
    "    return_array = np.zeros_like(value_array)\n",
    "    \n",
    "    for i in np.arange(M): \n",
    "    \n",
    "        V1 = vandermonde(int_points[i], 'Legendre')\n",
    "        V2 = Ld_vandermonde(int_points[i])\n",
    "        D = return_D(V1, V2)\n",
    "        d_values = np.matmul(D, value_array[i].transpose())\n",
    "        \n",
    "        return_array[i] = d_values\n",
    "        \n",
    "    return(return_array)"
   ]
  },
  {
   "cell_type": "code",
   "execution_count": 66,
   "id": "8c697990",
   "metadata": {},
   "outputs": [],
   "source": [
    "deriv_values = deriv_elements(int_points(x_range, 4, L/M, M), \n",
    "                              init_Guassian(int_points(x_range, 4, L/M, M), (L/2), 1), M)"
   ]
  },
  {
   "cell_type": "code",
   "execution_count": 95,
   "id": "0c28d1e3",
   "metadata": {},
   "outputs": [
    {
     "data": {
      "text/plain": [
       "(6, 4)"
      ]
     },
     "execution_count": 95,
     "metadata": {},
     "output_type": "execute_result"
    }
   ],
   "source": [
    "deriv_values.shape"
   ]
  },
  {
   "cell_type": "markdown",
   "id": "bf43f59c",
   "metadata": {},
   "source": [
    "### Quick Plotting:"
   ]
  },
  {
   "cell_type": "code",
   "execution_count": 194,
   "id": "14781fee",
   "metadata": {},
   "outputs": [],
   "source": [
    "def plot_FEM(int_points, value_array, M,\n",
    "             fine_int_points, fine_value_array):\n",
    "    \n",
    "    fig = plt.plot()\n",
    "    \n",
    "    for i in np.arange(M):\n",
    "        plt.plot(int_points[i], value_array[i], marker = 'o')\n",
    "        plt.plot(fine_int_points[i], fine_value_array[i])\n",
    "        \n",
    "    return(fig)"
   ]
  },
  {
   "cell_type": "code",
   "execution_count": 173,
   "id": "08e5a3b4",
   "metadata": {},
   "outputs": [],
   "source": [
    "x_range = np.arange(0, L + (L/M), (L/M)) # Define the element endpoints\n",
    "x_range[0] = 0.1"
   ]
  },
  {
   "cell_type": "code",
   "execution_count": 174,
   "id": "7a36819e",
   "metadata": {},
   "outputs": [],
   "source": [
    "# Note: The num_pts variable is for each element; written for Legendre basis\n",
    "def dV_multi_finegrid(x_range, n_order, num_pts, deriv_values):\n",
    "    \n",
    "    hold = 0\n",
    "    LP = np.polynomial.legendre\n",
    "    dv_finegrid = np.zeros([num_pts * (len(x_range) - 1), n_order])\n",
    "    \n",
    "    for i, j in enumerate(x_range[:-1]):\n",
    "        # dx = np.diff(x_range)[0] / (num_pts) # Assuming element lengths are all equal \n",
    "        dx = (1/5)\n",
    "        npts = np.arange(j, x_range[i+1], dx)\n",
    "     \n",
    "        for k in np.arange(n_order):\n",
    "            coeffs = np.zeros(n_order)\n",
    "            coeffs[k] = 1\n",
    "            \n",
    "            deriv_coeffs = LP.legder(coeffs, m=1)\n",
    "        \n",
    "            # We need to calculate (LP'(x) * LP^-1(x)): \n",
    "            d_P = LP.legval(npts, deriv_coeffs)\n",
    "            P = np.polynomial.legendre.Legendre(coeffs)\n",
    "            \n",
    "            dv_finegrid[hold : hold + (num_pts), k] = (d_P / P(npts))\n",
    "            \n",
    "        hold = hold + num_pts\n",
    "        \n",
    "    return(dv_finegrid)"
   ]
  },
  {
   "cell_type": "code",
   "execution_count": null,
   "id": "65fec6e4",
   "metadata": {},
   "outputs": [],
   "source": [
    "dV_multi_finegrid(x_range, 4, 10, deriv_values)"
   ]
  },
  {
   "cell_type": "code",
   "execution_count": null,
   "id": "daa02a02",
   "metadata": {},
   "outputs": [],
   "source": []
  },
  {
   "cell_type": "code",
   "execution_count": 145,
   "id": "58a4fd50",
   "metadata": {},
   "outputs": [
    {
     "data": {
      "text/plain": [
       "[<matplotlib.lines.Line2D at 0x7fad9db990a0>]"
      ]
     },
     "execution_count": 145,
     "metadata": {},
     "output_type": "execute_result"
    },
    {
     "data": {
      "image/png": "[encoded data removed]",
      "text/plain": [
       "<Figure size 432x288 with 1 Axes>"
      ]
     },
     "metadata": {
      "needs_background": "light"
     },
     "output_type": "display_data"
    }
   ],
   "source": [
    "plt.plot(np.arange(0, 10), np.matmul(elem_4, deriv_values[4].transpose()))"
   ]
  },
  {
   "cell_type": "code",
   "execution_count": 201,
   "id": "bfde3bc1",
   "metadata": {},
   "outputs": [
    {
     "data": {
      "text/plain": [
       "[]"
      ]
     },
     "execution_count": 201,
     "metadata": {},
     "output_type": "execute_result"
    },
    {
     "data": {
      "image/png": "[encoded data removed]",
      "text/plain": [
       "<Figure size 432x288 with 1 Axes>"
      ]
     },
     "metadata": {
      "needs_background": "light"
     },
     "output_type": "display_data"
    }
   ],
   "source": [
    "plot_FEM(int_points(x_range, 4, L/M, M), deriv_values, M,\n",
    "         int_points(x_range, 25, L/M, M), Guassian_1st_deriv(int_points(x_range, 25, L/M, M), (L/2), 1))\n"
   ]
  },
  {
   "cell_type": "markdown",
   "id": "bb2aed49",
   "metadata": {},
   "source": [
    "### CG Boundary Averaging:"
   ]
  },
  {
   "cell_type": "code",
   "execution_count": 206,
   "id": "16e6ea86",
   "metadata": {},
   "outputs": [],
   "source": [
    "def boundary_mean(value_array, M):\n",
    "    \n",
    "    return_array = value_array.copy()\n",
    "     \n",
    "    for i in np.arange(M-1):\n",
    "        mean_value = np.mean([value_array[i][-1], value_array[i+1][0]])\n",
    "        return_array[i][-1] = mean_value\n",
    "        return_array[i+1][0] = mean_value \n",
    "        \n",
    "    return(return_array)"
   ]
  },
  {
   "cell_type": "code",
   "execution_count": 207,
   "id": "71241a8d",
   "metadata": {},
   "outputs": [],
   "source": [
    "test = boundary_mean(deriv_values, M)"
   ]
  },
  {
   "cell_type": "code",
   "execution_count": 208,
   "id": "affaef11",
   "metadata": {},
   "outputs": [
    {
     "data": {
      "text/plain": [
       "[]"
      ]
     },
     "execution_count": 208,
     "metadata": {},
     "output_type": "execute_result"
    },
    {
     "data": {
      "image/png": "[encoded data removed]",
      "text/plain": [
       "<Figure size 432x288 with 1 Axes>"
      ]
     },
     "metadata": {
      "needs_background": "light"
     },
     "output_type": "display_data"
    }
   ],
   "source": [
    "plot_FEM(int_points(x_range, 4, L/M, M), test, M,\n",
    "         int_points(x_range, 25, L/M, M), Guassian_1st_deriv(int_points(x_range, 25, L/M, M), (L/2), 1))"
   ]
  },
  {
   "cell_type": "markdown",
   "id": "58c5bc04",
   "metadata": {},
   "source": [
    "### Applied to 1D Advection (with Predictor-Corrector Method):"
   ]
  },
  {
   "cell_type": "code",
   "execution_count": 205,
   "id": "38bce0ad",
   "metadata": {},
   "outputs": [],
   "source": [
    "# Initialize the elements and the Guassian function:\n",
    "\n",
    "L = 12 # Denotes total length in [0, L]\n",
    "M = 6 # Denotes number of elements \n",
    "x_range = np.arange(0, L + (L/M), (L/M)) # Define the element endpoints\n",
    "\n",
    "npts = int_points(x_range, 4, L/M, M)\n",
    "u = init_Guassian(npts, (L/2), 1)"
   ]
  },
  {
   "cell_type": "code",
   "execution_count": null,
   "id": "acea7d2a",
   "metadata": {},
   "outputs": [],
   "source": [
    "SEM_dx(array_in, ):\n",
    "    \n",
    "    V1 = vandermonde(int_points[i], 'Legendre')\n",
    "    V2 = Ld_vandermonde(int_points[i])\n",
    "    D = return_D(V1, V2)\n",
    "    d_values = np.matmul(D, value_array[i].transpose())"
   ]
  },
  {
   "cell_type": "code",
   "execution_count": null,
   "id": "a29210ec",
   "metadata": {},
   "outputs": [],
   "source": [
    "t_steps = 30\n",
    "CFL = 0.10\n",
    "dt = CFL * (2 * dx)\n",
    "\n",
    "for i in np.arange(0, t_steps, dt):\n",
    "        \n",
    "    u_mid = np.zeros(x_steps)\n",
    "    u_n = np.zeros(x_steps)\n",
    "    \n",
    "    # Half time step:\n",
    "    for j in np.arange(1, x_steps-1): # Loop over elements \n",
    "        u_mid[j] = u[j] + (((dt / dx) / 2) * SEM_dx(u, j, 0))\n",
    "        \n",
    "    # Full time step:\n",
    "    for j in np.arange(1, x_steps-1):\n",
    "        u_n[j] = u[j] + (((dt / dx)) * (SEM_dx(u_mid, j, 0)))"
   ]
  }
 ],
 "metadata": {
  "kernelspec": {
   "display_name": "Python 3 (ipykernel)",
   "language": "python",
   "name": "python3"
  },
  "language_info": {
   "codemirror_mode": {
    "name": "ipython",
    "version": 3
   },
   "file_extension": ".py",
   "mimetype": "text/x-python",
   "name": "python",
   "nbconvert_exporter": "python",
   "pygments_lexer": "ipython3",
   "version": "3.9.7"
  }
 },
 "nbformat": 4,
 "nbformat_minor": 5
}
