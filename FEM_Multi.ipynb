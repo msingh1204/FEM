{
 "cells": [
  {
   "cell_type": "code",
   "execution_count": 5,
   "id": "6e73fb85",
   "metadata": {},
   "outputs": [],
   "source": [
    "from scipy.special import roots_jacobi, eval_jacobi\n",
    "import numpy as np\n",
    "import scipy\n",
    "import math"
   ]
  },
  {
   "cell_type": "code",
   "execution_count": 6,
   "id": "22e4d668",
   "metadata": {},
   "outputs": [],
   "source": [
    "import matplotlib.pyplot as plt"
   ]
  },
  {
   "cell_type": "markdown",
   "id": "810b2ccb",
   "metadata": {},
   "source": [
    "### Initialization:"
   ]
  },
  {
   "cell_type": "code",
   "execution_count": 190,
   "id": "be65dc86",
   "metadata": {},
   "outputs": [],
   "source": [
    "L = 12 # Denotes total length in [0, L]\n",
    "M = 6 # Denotes number of elements \n",
    "x_range = np.arange(0, L + (L/M), (L/M)) # Define the element endpoints"
   ]
  },
  {
   "cell_type": "code",
   "execution_count": 8,
   "id": "39de7c2a",
   "metadata": {},
   "outputs": [],
   "source": [
    "def int_points(x_range, npts, dx, M):\n",
    "    \n",
    "    k = 0\n",
    "    p_order = npts - 1\n",
    "    xinterior, w = roots_jacobi(p_order - 1,1,1) # returns interior GLL nodes from range -1 and 1\n",
    "    GLL_points = np.pad(xinterior, (1, 1), 'constant', constant_values=(-1, 1))\n",
    "    GLL_dist = np.array([np.abs(GLL_points[0] - value) for value in GLL_points])\n",
    "    \n",
    "    return_array = np.zeros([M, npts])\n",
    "    \n",
    "    for i in x_range[:-1]:\n",
    "        array = np.array([i])\n",
    "        for j in GLL_dist[1:]: \n",
    "            scaled_point = ((j / 2) * (dx)) + i # Note: 2 here is the distance from -1 to 1\n",
    "            array = np.concatenate((array, np.array([scaled_point])))\n",
    "            \n",
    "        return_array[k, :] = array\n",
    "        k = k + 1\n",
    "    \n",
    "    return(return_array)"
   ]
  },
  {
   "cell_type": "code",
   "execution_count": 196,
   "id": "09002aae",
   "metadata": {},
   "outputs": [],
   "source": [
    "def init_Guassian(input_array, mu, sigma): \n",
    "    \n",
    "    return_array = np.zeros_like(input_array)\n",
    "    \n",
    "    for i in np.arange(input_array.shape[0]):\n",
    "        \n",
    "        numerator = np.exp(-(input_array[i] - mu)**2 / (2 * sigma**2))\n",
    "        denominator = sigma * np.sqrt(2 * np.pi)\n",
    "        return_array[i, :] = numerator / denominator \n",
    "        \n",
    "    return(return_array)"
   ]
  },
  {
   "cell_type": "code",
   "execution_count": 200,
   "id": "82438849",
   "metadata": {},
   "outputs": [],
   "source": [
    "def Guassian_1st_deriv(input_array, mu, sigma):\n",
    "    return(-(input_array - mu) / sigma**2 * init_Guassian(input_array, mu, sigma))"
   ]
  },
  {
   "cell_type": "code",
   "execution_count": null,
   "id": "9c9e955d",
   "metadata": {},
   "outputs": [],
   "source": []
  },
  {
   "cell_type": "markdown",
   "id": "f27329b4",
   "metadata": {},
   "source": [
    "### Apply Derivative Operator to Elements:"
   ]
  },
  {
   "cell_type": "code",
   "execution_count": 15,
   "id": "dba07774",
   "metadata": {},
   "outputs": [],
   "source": [
    "def vandermonde(npts_values, return_type):\n",
    "    # For the monomial basis: \n",
    "    if return_type == 'Monomial':\n",
    "        return(np.vander(npts_values, increasing = True))\n",
    "    elif return_type == 'Legendre':\n",
    "        return(np.polynomial.legendre.legvander(npts_values, len(npts_values) - 1))"
   ]
  },
  {
   "cell_type": "code",
   "execution_count": 32,
   "id": "1331ddc8",
   "metadata": {},
   "outputs": [],
   "source": [
    "def Ld_vandermonde(npts_values): \n",
    "    \n",
    "    LP = np.polynomial.legendre\n",
    "    v_matrix = np.polynomial.legendre.legvander(npts_values, len(npts_values)-1)\n",
    "    d_v_matrix = np.zeros_like(v_matrix)\n",
    "\n",
    "    for i in range(len(npts_values)):\n",
    "        # Coefficients for the i-th Legendre polynomial (e.g., [0, 0, 1] for P_2)\n",
    "        coeffs = np.zeros(len(npts_values))\n",
    "        coeffs[i] = 1\n",
    "\n",
    "        # Compute the derivative of the i-th Legendre polynomial\n",
    "        deriv_coeffs = LP.legder(coeffs, m=1) # m=1 for first derivative\n",
    "\n",
    "        # Evaluate the derivative at the points x\n",
    "        d_v_matrix[:, i] = LP.legval(npts_values, deriv_coeffs)\n",
    "        \n",
    "    return(d_v_matrix)"
   ]
  },
  {
   "cell_type": "code",
   "execution_count": 17,
   "id": "e1c3e247",
   "metadata": {},
   "outputs": [],
   "source": [
    "def Md_vandermonde(npts_values):\n",
    "    \n",
    "    v_matrix = np.vander(npts_values, increasing = True)\n",
    "    d_v_matrix = np.zeros_like(v_matrix)\n",
    "    \n",
    "    for i in range(len(npts_values) - 1):\n",
    "        coeffs = np.zeros(len(npts_values))\n",
    "        coeffs[i] = i + 1\n",
    "        \n",
    "        deriv_P = np.polynomial.polynomial.Polynomial(coeffs) \n",
    "        d_v_matrix[:, i + 1] = deriv_P(npts_values)\n",
    "        \n",
    "    return(d_v_matrix)"
   ]
  },
  {
   "cell_type": "code",
   "execution_count": 18,
   "id": "669a048c",
   "metadata": {},
   "outputs": [],
   "source": [
    "def return_D(V1, V2):\n",
    "    return(np.matmul(V2, np.linalg.inv(V1)))"
   ]
  },
  {
   "cell_type": "code",
   "execution_count": 30,
   "id": "6609c789",
   "metadata": {},
   "outputs": [],
   "source": [
    "def deriv_elements(int_points, value_array, M):\n",
    "    \n",
    "    return_array = np.zeros_like(value_array)\n",
    "    \n",
    "    for i in np.arange(M): \n",
    "    \n",
    "        V1 = vandermonde(int_points[i], 'Legendre')\n",
    "        V2 = Ld_vandermonde(int_points[i])\n",
    "        D = return_D(V1, V2)\n",
    "        d_values = np.matmul(D, value_array[i].transpose())\n",
    "        \n",
    "        return_array[i] = d_values\n",
    "        \n",
    "    return(return_array)"
   ]
  },
  {
   "cell_type": "code",
   "execution_count": 66,
   "id": "6eb7c845",
   "metadata": {},
   "outputs": [],
   "source": [
    "deriv_values = deriv_elements(int_points(x_range, 4, L/M, M), \n",
    "                              init_Guassian(int_points(x_range, 4, L/M, M), (L/2), 1), M)"
   ]
  },
  {
   "cell_type": "code",
   "execution_count": 95,
   "id": "4be90716",
   "metadata": {},
   "outputs": [
    {
     "data": {
      "text/plain": [
       "(6, 4)"
      ]
     },
     "execution_count": 95,
     "metadata": {},
     "output_type": "execute_result"
    }
   ],
   "source": [
    "deriv_values.shape"
   ]
  },
  {
   "cell_type": "markdown",
   "id": "6eeb7b85",
   "metadata": {},
   "source": [
    "### Quick Plotting:"
   ]
  },
  {
   "cell_type": "code",
   "execution_count": 309,
   "id": "c23b0d69",
   "metadata": {},
   "outputs": [],
   "source": [
    "def plot_FEM(int_points, value_array, M):\n",
    "    \n",
    "    fig = plt.plot()\n",
    "    \n",
    "    for i in np.arange(M):\n",
    "        plt.plot(int_points[i], value_array[i], marker = 'o')\n",
    "        # plt.plot(fine_int_points[i], fine_value_array[i])\n",
    "\n",
    "    return(fig)\n",
    "\n",
    "def plot_FEM_ic(int_points, value_array, M):\n",
    "     \n",
    "    for i in np.arange(M):\n",
    "        plt.plot(int_points[i], value_array[i], marker = '*', color = 'green')\n",
    "        # plt.plot(fine_int_points[i], fine_value_array[i])\n",
    "\n",
    "    return(fig)"
   ]
  },
  {
   "cell_type": "code",
   "execution_count": 173,
   "id": "2a45db68",
   "metadata": {},
   "outputs": [],
   "source": [
    "x_range = np.arange(0, L + (L/M), (L/M)) # Define the element endpoints\n",
    "x_range[0] = 0.1"
   ]
  },
  {
   "cell_type": "code",
   "execution_count": 174,
   "id": "dad6d65f",
   "metadata": {},
   "outputs": [],
   "source": [
    "# Note: The num_pts variable is for each element; written for Legendre basis\n",
    "def dV_multi_finegrid(x_range, n_order, num_pts, deriv_values):\n",
    "    \n",
    "    hold = 0\n",
    "    LP = np.polynomial.legendre\n",
    "    dv_finegrid = np.zeros([num_pts * (len(x_range) - 1), n_order])\n",
    "    \n",
    "    for i, j in enumerate(x_range[:-1]):\n",
    "        # dx = np.diff(x_range)[0] / (num_pts) # Assuming element lengths are all equal \n",
    "        dx = (1/5)\n",
    "        npts = np.arange(j, x_range[i+1], dx)\n",
    "     \n",
    "        for k in np.arange(n_order):\n",
    "            coeffs = np.zeros(n_order)\n",
    "            coeffs[k] = 1\n",
    "            \n",
    "            deriv_coeffs = LP.legder(coeffs, m=1)\n",
    "        \n",
    "            # We need to calculate (LP'(x) * LP^-1(x)): \n",
    "            d_P = LP.legval(npts, deriv_coeffs)\n",
    "            P = np.polynomial.legendre.Legendre(coeffs)\n",
    "            \n",
    "            dv_finegrid[hold : hold + (num_pts), k] = (d_P / P(npts))\n",
    "            \n",
    "        hold = hold + num_pts\n",
    "        \n",
    "    return(dv_finegrid)"
   ]
  },
  {
   "cell_type": "code",
   "execution_count": null,
   "id": "28d579b0",
   "metadata": {},
   "outputs": [],
   "source": [
    "dV_multi_finegrid(x_range, 4, 10, deriv_values)"
   ]
  },
  {
   "cell_type": "code",
   "execution_count": 145,
   "id": "a9999658",
   "metadata": {},
   "outputs": [
    {
     "data": {
      "text/plain": [
       "[<matplotlib.lines.Line2D at 0x7fad9db990a0>]"
      ]
     },
     "execution_count": 145,
     "metadata": {},
     "output_type": "execute_result"
    },
    {
     "data": {
      "image/png": "[encoded data removed]",
      "text/plain": [
       "<Figure size 432x288 with 1 Axes>"
      ]
     },
     "metadata": {
      "needs_background": "light"
     },
     "output_type": "display_data"
    }
   ],
   "source": [
    "plt.plot(np.arange(0, 10), np.matmul(elem_4, deriv_values[4].transpose()))"
   ]
  },
  {
   "cell_type": "code",
   "execution_count": null,
   "id": "8198889e",
   "metadata": {},
   "outputs": [],
   "source": []
  },
  {
   "cell_type": "code",
   "execution_count": 201,
   "id": "6510f2e9",
   "metadata": {},
   "outputs": [
    {
     "data": {
      "text/plain": [
       "[]"
      ]
     },
     "execution_count": 201,
     "metadata": {},
     "output_type": "execute_result"
    },
    {
     "data": {
      "image/png": "[encoded data removed]",
      "text/plain": [
       "<Figure size 432x288 with 1 Axes>"
      ]
     },
     "metadata": {
      "needs_background": "light"
     },
     "output_type": "display_data"
    }
   ],
   "source": [
    "plot_FEM(int_points(x_range, 4, L/M, M), deriv_values, M,\n",
    "         int_points(x_range, 25, L/M, M), Guassian_1st_deriv(int_points(x_range, 25, L/M, M), (L/2), 1))\n"
   ]
  },
  {
   "cell_type": "markdown",
   "id": "a4889d51",
   "metadata": {},
   "source": [
    "### CG Boundary Averaging:"
   ]
  },
  {
   "cell_type": "code",
   "execution_count": 245,
   "id": "7bf23634",
   "metadata": {},
   "outputs": [],
   "source": [
    "def boundary_mean(value_array, M):\n",
    "    \n",
    "    return_array = value_array.copy()\n",
    "     \n",
    "    for i in np.arange(M-1):\n",
    "        mean_value = np.mean([value_array[i][-1], value_array[i+1][0]])\n",
    "        return_array[i][-1] = mean_value\n",
    "        return_array[i+1][0] = mean_value \n",
    "        \n",
    "    # For the endpoints:\n",
    "    return_array[-1][-1] = np.mean([value_array[-1][-1], value_array[0][0]])\n",
    "    return_array[0][0] = np.mean([value_array[-1][-1], value_array[0][0]])\n",
    "        \n",
    "    return(return_array)"
   ]
  },
  {
   "cell_type": "code",
   "execution_count": 207,
   "id": "3cc80b43",
   "metadata": {},
   "outputs": [],
   "source": [
    "test = boundary_mean(deriv_values, M)"
   ]
  },
  {
   "cell_type": "code",
   "execution_count": 208,
   "id": "df2c0bb2",
   "metadata": {},
   "outputs": [
    {
     "data": {
      "text/plain": [
       "[]"
      ]
     },
     "execution_count": 208,
     "metadata": {},
     "output_type": "execute_result"
    },
    {
     "data": {
      "image/png": "[encoded data removed]",
      "text/plain": [
       "<Figure size 432x288 with 1 Axes>"
      ]
     },
     "metadata": {
      "needs_background": "light"
     },
     "output_type": "display_data"
    }
   ],
   "source": [
    "plot_FEM(int_points(x_range, 4, L/M, M), test, M,\n",
    "         int_points(x_range, 25, L/M, M), Guassian_1st_deriv(int_points(x_range, 25, L/M, M), (L/2), 1))"
   ]
  },
  {
   "cell_type": "markdown",
   "id": "1de87ec4",
   "metadata": {},
   "source": [
    "### Applied to 1D Advection (with Predictor-Corrector Method):"
   ]
  },
  {
   "cell_type": "code",
   "execution_count": 270,
   "id": "a37090c7",
   "metadata": {},
   "outputs": [],
   "source": [
    "# Initialize the elements and the Guassian function:\n",
    "L = 12 # Denotes total length in [0, L]\n",
    "M = 6 # Denotes number of elements \n",
    "x_range = np.arange(0, L + (L/M), (L/M)) # Define the element endpoints\n",
    "\n",
    "npts = int_points(x_range, 4, L/M, M)"
   ]
  },
  {
   "cell_type": "code",
   "execution_count": 271,
   "id": "66d95bfb",
   "metadata": {},
   "outputs": [],
   "source": [
    "# Compute the derivative matrix:\n",
    "def SEM_dx(npts, u):\n",
    "    \n",
    "    u_out = np.zeros_like(u)\n",
    "    \n",
    "    for j in np.arange(npts.shape[0]):\n",
    "        V1 = vandermonde(npts[j], 'Legendre')\n",
    "        V2 = Ld_vandermonde(npts[j])\n",
    "        D = return_D(V1, V2)\n",
    "        \n",
    "        u_out[j] = np.matmul(D, u[j].transpose())\n",
    "        \n",
    "    return(boundary_mean(u_out, u_out.shape[0]))"
   ]
  },
  {
   "cell_type": "code",
   "execution_count": 338,
   "id": "429ba8ba",
   "metadata": {},
   "outputs": [],
   "source": [
    "t_steps = 36\n",
    "CFL = 0.10\n",
    "dt = 0.1\n",
    "\n",
    "u = init_Guassian(npts, (L/2), 1)\n",
    "\n",
    "for i in np.arange(0, t_steps, dt):\n",
    "    \n",
    "    u_mid = np.zeros_like(u)\n",
    "    u_n = np.zeros_like(u)\n",
    "    \n",
    "    # Half time step:\n",
    "    u_mid = u - ((dt / 2) * SEM_dx(npts, u))\n",
    "    # Full time step:\n",
    "    u_n = u - ((dt) * SEM_dx(npts, u_mid))\n",
    "    \n",
    "    # Prepare for the next timestep:\n",
    "    u = u_n"
   ]
  },
  {
   "cell_type": "code",
   "execution_count": 339,
   "id": "d503fe21",
   "metadata": {},
   "outputs": [
    {
     "data": {
      "text/plain": [
       "Text(0.5, 1.0, 'IC & FEM Solution at t_step: 36')"
      ]
     },
     "execution_count": 339,
     "metadata": {},
     "output_type": "execute_result"
    },
    {
     "data": {
      "image/png": "[encoded data removed]",
      "text/plain": [
       "<Figure size 432x288 with 1 Axes>"
      ]
     },
     "metadata": {
      "needs_background": "light"
     },
     "output_type": "display_data"
    }
   ],
   "source": [
    "plot_FEM(npts, u, 6)\n",
    "plot_FEM_ic(npts, init_Guassian(npts, (L/2), 1), 6)\n",
    "plt.title('IC & FEM Solution at t_step: 36')"
   ]
  },
  {
   "cell_type": "markdown",
   "id": "f506d89b",
   "metadata": {},
   "source": [
    "### Property Check -> Integration by Parts:"
   ]
  },
  {
   "cell_type": "code",
   "execution_count": 340,
   "id": "18194d05",
   "metadata": {},
   "outputs": [],
   "source": [
    "# Note: Quad weights only needs to defined for one element as all elements use the same functional space\n",
    "# The weights are calculated using exact integration \n",
    "\n",
    "def quad_weights(npts_values):\n",
    "    \n",
    "    # Values in f_array result from exact integration:\n",
    "    f_array = np.zeros(len(npts_values))\n",
    "    f_array[0] = 2\n",
    "    \n",
    "    # Define basis matrix for Legendre polynomials: \n",
    "    V = np.polynomial.legendre.legvander(npts_values, len(npts_values) - 1).transpose()\n",
    "    \n",
    "    return(np.matmul(np.linalg.inv(V), f_array.transpose()))"
   ]
  },
  {
   "cell_type": "code",
   "execution_count": 344,
   "id": "a2e28b0f",
   "metadata": {},
   "outputs": [
    {
     "data": {
      "text/plain": [
       "array([0.16666667, 0.83333333, 0.83333333, 0.16666667])"
      ]
     },
     "execution_count": 344,
     "metadata": {},
     "output_type": "execute_result"
    }
   ],
   "source": [
    "p_order = 3\n",
    "xinterior, w = roots_jacobi(p_order - 1,1,1) # returns interior GLL nodes from range -1 and 1\n",
    "GLL_points = np.pad(xinterior, (1, 1), 'constant', constant_values=(-1, 1))\n",
    "\n",
    "quad_weights(GLL_points)"
   ]
  },
  {
   "cell_type": "code",
   "execution_count": 345,
   "id": "7d9aa676",
   "metadata": {},
   "outputs": [
    {
     "data": {
      "text/plain": [
       "array([[ 0.       ,  0.5527864,  1.4472136,  2.       ],\n",
       "       [ 2.       ,  2.5527864,  3.4472136,  4.       ],\n",
       "       [ 4.       ,  4.5527864,  5.4472136,  6.       ],\n",
       "       [ 6.       ,  6.5527864,  7.4472136,  8.       ],\n",
       "       [ 8.       ,  8.5527864,  9.4472136, 10.       ],\n",
       "       [10.       , 10.5527864, 11.4472136, 12.       ]])"
      ]
     },
     "execution_count": 345,
     "metadata": {},
     "output_type": "execute_result"
    }
   ],
   "source": [
    "npts"
   ]
  },
  {
   "cell_type": "code",
   "execution_count": null,
   "id": "0e5daab4",
   "metadata": {},
   "outputs": [],
   "source": []
  }
 ],
 "metadata": {
  "kernelspec": {
   "display_name": "Python 3 (ipykernel)",
   "language": "python",
   "name": "python3"
  },
  "language_info": {
   "codemirror_mode": {
    "name": "ipython",
    "version": 3
   },
   "file_extension": ".py",
   "mimetype": "text/x-python",
   "name": "python",
   "nbconvert_exporter": "python",
   "pygments_lexer": "ipython3",
   "version": "3.9.7"
  }
 },
 "nbformat": 4,
 "nbformat_minor": 5
}
