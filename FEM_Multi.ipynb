{
 "cells": [
  {
   "cell_type": "code",
   "execution_count": 2,
   "id": "6e73fb85",
   "metadata": {},
   "outputs": [],
   "source": [
    "from scipy.special import roots_jacobi, eval_jacobi\n",
    "import numpy as np\n",
    "import scipy\n",
    "import math"
   ]
  },
  {
   "cell_type": "code",
   "execution_count": 3,
   "id": "22e4d668",
   "metadata": {},
   "outputs": [],
   "source": [
    "import matplotlib.pyplot as plt"
   ]
  },
  {
   "cell_type": "markdown",
   "id": "810b2ccb",
   "metadata": {},
   "source": [
    "### Initialization:"
   ]
  },
  {
   "cell_type": "code",
   "execution_count": 43,
   "id": "be65dc86",
   "metadata": {},
   "outputs": [],
   "source": [
    "L = 12 # Denotes total length in [0, L]\n",
    "M = 4 # Denotes number of elements \n",
    "x_range = np.arange(0, L + (L/M), (L/M)) # Define the element endpoints"
   ]
  },
  {
   "cell_type": "code",
   "execution_count": 44,
   "id": "3b7503d9",
   "metadata": {},
   "outputs": [
    {
     "data": {
      "text/plain": [
       "array([ 0.,  3.,  6.,  9., 12.])"
      ]
     },
     "execution_count": 44,
     "metadata": {},
     "output_type": "execute_result"
    }
   ],
   "source": [
    "x_range"
   ]
  },
  {
   "cell_type": "code",
   "execution_count": 5,
   "id": "39de7c2a",
   "metadata": {},
   "outputs": [],
   "source": [
    "def int_points(x_range, npts, dx, M):\n",
    "    \n",
    "    k = 0\n",
    "    p_order = npts - 1\n",
    "    xinterior, w = roots_jacobi(p_order - 1,1,1) # returns interior GLL nodes from range -1 and 1\n",
    "    GLL_points = np.pad(xinterior, (1, 1), 'constant', constant_values=(-1, 1))\n",
    "    GLL_dist = np.array([np.abs(GLL_points[0] - value) for value in GLL_points])\n",
    "    \n",
    "    return_array = np.zeros([M, npts])\n",
    "    \n",
    "    for i in x_range[:-1]:\n",
    "        array = np.array([i])\n",
    "        for j in GLL_dist[1:]: \n",
    "            scaled_point = ((j / 2) * (dx)) + i # Note: 2 here is the distance from -1 to 1\n",
    "            array = np.concatenate((array, np.array([scaled_point])))\n",
    "            \n",
    "        return_array[k, :] = array\n",
    "        k = k + 1\n",
    "    \n",
    "    return(return_array)"
   ]
  },
  {
   "cell_type": "code",
   "execution_count": 6,
   "id": "09002aae",
   "metadata": {},
   "outputs": [],
   "source": [
    "def init_Guassian(input_array, mu, sigma): \n",
    "    \n",
    "    return_array = np.zeros_like(input_array)\n",
    "    \n",
    "    for i in np.arange(input_array.shape[0]):\n",
    "        \n",
    "        numerator = np.exp(-(input_array[i] - mu)**2 / (2 * sigma**2))\n",
    "        denominator = sigma * np.sqrt(2 * np.pi)\n",
    "        return_array[i, :] = numerator / denominator \n",
    "        \n",
    "    return(return_array)"
   ]
  },
  {
   "cell_type": "code",
   "execution_count": 7,
   "id": "82438849",
   "metadata": {},
   "outputs": [],
   "source": [
    "def Guassian_1st_deriv(input_array, mu, sigma):\n",
    "    return(-(input_array - mu) / sigma**2 * init_Guassian(input_array, mu, sigma))"
   ]
  },
  {
   "cell_type": "code",
   "execution_count": null,
   "id": "9c9e955d",
   "metadata": {},
   "outputs": [],
   "source": []
  },
  {
   "cell_type": "markdown",
   "id": "f27329b4",
   "metadata": {},
   "source": [
    "## Apply Derivative Operator to Elements:"
   ]
  },
  {
   "cell_type": "code",
   "execution_count": 8,
   "id": "dba07774",
   "metadata": {},
   "outputs": [],
   "source": [
    "def vandermonde(npts_values, return_type):\n",
    "    # For the monomial basis: \n",
    "    if return_type == 'Monomial':\n",
    "        return(np.vander(npts_values, increasing = True))\n",
    "    elif return_type == 'Legendre':\n",
    "        return(np.polynomial.legendre.legvander(npts_values, len(npts_values) - 1))"
   ]
  },
  {
   "cell_type": "code",
   "execution_count": 9,
   "id": "1331ddc8",
   "metadata": {},
   "outputs": [],
   "source": [
    "def Ld_vandermonde(npts_values): \n",
    "    \n",
    "    LP = np.polynomial.legendre\n",
    "    v_matrix = np.polynomial.legendre.legvander(npts_values, len(npts_values)-1)\n",
    "    d_v_matrix = np.zeros_like(v_matrix)\n",
    "\n",
    "    for i in range(len(npts_values)):\n",
    "        # Coefficients for the i-th Legendre polynomial (e.g., [0, 0, 1] for P_2)\n",
    "        coeffs = np.zeros(len(npts_values))\n",
    "        coeffs[i] = 1\n",
    "\n",
    "        # Compute the derivative of the i-th Legendre polynomial\n",
    "        deriv_coeffs = LP.legder(coeffs, m=1) # m=1 for first derivative\n",
    "\n",
    "        # Evaluate the derivative at the points x\n",
    "        d_v_matrix[:, i] = LP.legval(npts_values, deriv_coeffs)\n",
    "        \n",
    "    return(d_v_matrix)"
   ]
  },
  {
   "cell_type": "code",
   "execution_count": 10,
   "id": "e1c3e247",
   "metadata": {},
   "outputs": [],
   "source": [
    "def Md_vandermonde(npts_values):\n",
    "    \n",
    "    v_matrix = np.vander(npts_values, increasing = True)\n",
    "    d_v_matrix = np.zeros_like(v_matrix)\n",
    "    \n",
    "    for i in range(len(npts_values) - 1):\n",
    "        coeffs = np.zeros(len(npts_values))\n",
    "        coeffs[i] = i + 1\n",
    "        \n",
    "        deriv_P = np.polynomial.polynomial.Polynomial(coeffs) \n",
    "        d_v_matrix[:, i + 1] = deriv_P(npts_values)\n",
    "        \n",
    "    return(d_v_matrix)"
   ]
  },
  {
   "cell_type": "code",
   "execution_count": 11,
   "id": "669a048c",
   "metadata": {},
   "outputs": [],
   "source": [
    "def return_D(V1, V2):\n",
    "    return(np.matmul(V2, np.linalg.inv(V1)))"
   ]
  },
  {
   "cell_type": "markdown",
   "id": "da5edb25",
   "metadata": {},
   "source": [
    "### Compute Derivative Matrix:"
   ]
  },
  {
   "cell_type": "code",
   "execution_count": 12,
   "id": "e794cb6a",
   "metadata": {},
   "outputs": [],
   "source": [
    "# Note: the nodal inputs are all within the reference element:\n",
    "\n",
    "npts = 4\n",
    "p_order = npts - 1\n",
    "xinterior, w = roots_jacobi(p_order - 1,1,1) # returns interior GLL nodes from range -1 and 1\n",
    "GLL_points = np.pad(xinterior, (1, 1), 'constant', constant_values=(-1, 1))\n",
    "\n",
    "V1 = vandermonde(GLL_points, 'Legendre')\n",
    "V2 = Ld_vandermonde(GLL_points)\n",
    "D = return_D(V1, V2)"
   ]
  },
  {
   "cell_type": "code",
   "execution_count": 13,
   "id": "6609c789",
   "metadata": {},
   "outputs": [],
   "source": [
    "# Note: L, M are constants; D denotes the derivative matrix computed above:\n",
    "\n",
    "def deriv_elements(D, value_array, L, M):\n",
    "    \n",
    "    return_array = np.zeros_like(value_array)\n",
    "    \n",
    "    for i in np.arange(M): \n",
    "        d_values = np.matmul(D, value_array[i].transpose())\n",
    "        return_array[i] = (d_values * ((2 * M) / L)) # Multiply by factor: (2M / L)\n",
    "        \n",
    "    return(return_array)"
   ]
  },
  {
   "cell_type": "code",
   "execution_count": 15,
   "id": "6eb7c845",
   "metadata": {},
   "outputs": [
    {
     "data": {
      "text/plain": [
       "array([[ 4.80309656e-05, -2.72883810e-05,  1.08112058e-04,\n",
       "         3.50795551e-04],\n",
       "       [ 7.13302624e-03,  3.58136840e-04,  4.25489230e-02,\n",
       "         1.01474492e-01],\n",
       "       [ 7.47239811e-02,  2.15874692e-01,  1.82916599e-01,\n",
       "         1.02744572e-03],\n",
       "       [-1.02744572e-03, -1.82916599e-01, -2.15874692e-01,\n",
       "        -7.47239811e-02],\n",
       "       [-1.01474492e-01, -4.25489230e-02, -3.58136840e-04,\n",
       "        -7.13302624e-03],\n",
       "       [-3.50795551e-04, -1.08112058e-04,  2.72883810e-05,\n",
       "        -4.80309656e-05]])"
      ]
     },
     "execution_count": 15,
     "metadata": {},
     "output_type": "execute_result"
    }
   ],
   "source": [
    "deriv_values = deriv_elements(D, init_Guassian(int_points(x_range, 4, L/M, M), (L/2), 1), \n",
    "                              L, M)\n",
    "\n",
    "deriv_values"
   ]
  },
  {
   "cell_type": "code",
   "execution_count": null,
   "id": "4be90716",
   "metadata": {},
   "outputs": [],
   "source": []
  },
  {
   "cell_type": "markdown",
   "id": "6eeb7b85",
   "metadata": {},
   "source": [
    "### Quick Plotting:"
   ]
  },
  {
   "cell_type": "code",
   "execution_count": 29,
   "id": "c23b0d69",
   "metadata": {},
   "outputs": [],
   "source": [
    "def plot_FEM(int_points, value_array, M):\n",
    "    \n",
    "    fig = plt.plot()\n",
    "    \n",
    "    for i in np.arange(M):\n",
    "        plt.plot(int_points[i], value_array[i], marker = 'o')\n",
    "        # plt.plot(fine_int_points[i], fine_value_array[i])\n",
    "\n",
    "    return()\n",
    "\n",
    "def plot_FEM_ic(int_points, value_array, M):\n",
    "     \n",
    "    for i in np.arange(M):\n",
    "        plt.plot(int_points[i], value_array[i], marker = '*', color = 'green')\n",
    "        # plt.plot(fine_int_points[i], fine_value_array[i])\n",
    "\n",
    "    return()"
   ]
  },
  {
   "cell_type": "code",
   "execution_count": 17,
   "id": "6510f2e9",
   "metadata": {},
   "outputs": [
    {
     "data": {
      "text/plain": [
       "[]"
      ]
     },
     "execution_count": 17,
     "metadata": {},
     "output_type": "execute_result"
    },
    {
     "data": {
      "image/png": "[encoded data removed]",
      "text/plain": [
       "<Figure size 640x480 with 1 Axes>"
      ]
     },
     "metadata": {},
     "output_type": "display_data"
    }
   ],
   "source": [
    "plot_FEM(int_points(x_range, 4, L/M, M), deriv_values, M)\n",
    "         # int_points(x_range, 25, L/M, M), Guassian_1st_deriv(int_points(x_range, 25, L/M, M), (L/2), 1))\n"
   ]
  },
  {
   "cell_type": "code",
   "execution_count": null,
   "id": "52eda984",
   "metadata": {},
   "outputs": [],
   "source": []
  },
  {
   "cell_type": "code",
   "execution_count": 173,
   "id": "2a45db68",
   "metadata": {},
   "outputs": [],
   "source": [
    "x_range = np.arange(0, L + (L/M), (L/M)) # Define the element endpoints"
   ]
  },
  {
   "cell_type": "code",
   "execution_count": 174,
   "id": "dad6d65f",
   "metadata": {},
   "outputs": [],
   "source": [
    "# Note: The num_pts variable is for each element; written for Legendre basis\n",
    "def dV_multi_finegrid(x_range, n_order, num_pts, deriv_values):\n",
    "    \n",
    "    hold = 0\n",
    "    LP = np.polynomial.legendre\n",
    "    dv_finegrid = np.zeros([num_pts * (len(x_range) - 1), n_order])\n",
    "    \n",
    "    for i, j in enumerate(x_range[:-1]):\n",
    "        # dx = np.diff(x_range)[0] / (num_pts) # Assuming element lengths are all equal \n",
    "        dx = (1/5)\n",
    "        npts = np.arange(j, x_range[i+1], dx)\n",
    "     \n",
    "        for k in np.arange(n_order):\n",
    "            coeffs = np.zeros(n_order)\n",
    "            coeffs[k] = 1\n",
    "            \n",
    "            deriv_coeffs = LP.legder(coeffs, m=1)\n",
    "        \n",
    "            # We need to calculate (LP'(x) * LP^-1(x)): \n",
    "            d_P = LP.legval(npts, deriv_coeffs)\n",
    "            P = np.polynomial.legendre.Legendre(coeffs)\n",
    "            \n",
    "            dv_finegrid[hold : hold + (num_pts), k] = (d_P / P(npts))\n",
    "            \n",
    "        hold = hold + num_pts\n",
    "        \n",
    "    return(dv_finegrid)"
   ]
  },
  {
   "cell_type": "code",
   "execution_count": null,
   "id": "28d579b0",
   "metadata": {},
   "outputs": [],
   "source": [
    "dV_multi_finegrid(x_range, 4, 10, deriv_values)"
   ]
  },
  {
   "cell_type": "code",
   "execution_count": 145,
   "id": "a9999658",
   "metadata": {},
   "outputs": [
    {
     "data": {
      "text/plain": [
       "[<matplotlib.lines.Line2D at 0x7fad9db990a0>]"
      ]
     },
     "execution_count": 145,
     "metadata": {},
     "output_type": "execute_result"
    },
    {
     "data": {
      "image/png": "[encoded data removed]",
      "text/plain": [
       "<Figure size 432x288 with 1 Axes>"
      ]
     },
     "metadata": {
      "needs_background": "light"
     },
     "output_type": "display_data"
    }
   ],
   "source": [
    "plt.plot(np.arange(0, 10), np.matmul(elem_4, deriv_values[4].transpose()))"
   ]
  },
  {
   "cell_type": "code",
   "execution_count": null,
   "id": "8198889e",
   "metadata": {},
   "outputs": [],
   "source": []
  },
  {
   "cell_type": "markdown",
   "id": "a4889d51",
   "metadata": {},
   "source": [
    "### CG Boundary Averaging:"
   ]
  },
  {
   "cell_type": "code",
   "execution_count": 18,
   "id": "7bf23634",
   "metadata": {},
   "outputs": [],
   "source": [
    "def boundary_mean(value_array, M):\n",
    "    \n",
    "    return_array = value_array.copy()\n",
    "     \n",
    "    for i in np.arange(M-1):\n",
    "        mean_value = np.mean([value_array[i][-1], value_array[i+1][0]])\n",
    "        return_array[i][-1] = mean_value\n",
    "        return_array[i+1][0] = mean_value \n",
    "        \n",
    "    # For the endpoints:\n",
    "    return_array[-1][-1] = np.mean([value_array[-1][-1], value_array[0][0]])\n",
    "    return_array[0][0] = np.mean([value_array[-1][-1], value_array[0][0]])\n",
    "        \n",
    "    return(return_array)"
   ]
  },
  {
   "cell_type": "code",
   "execution_count": 19,
   "id": "3cc80b43",
   "metadata": {},
   "outputs": [],
   "source": [
    "test = boundary_mean(deriv_values, M)"
   ]
  },
  {
   "cell_type": "code",
   "execution_count": 20,
   "id": "df2c0bb2",
   "metadata": {},
   "outputs": [
    {
     "data": {
      "text/plain": [
       "[]"
      ]
     },
     "execution_count": 20,
     "metadata": {},
     "output_type": "execute_result"
    },
    {
     "data": {
      "image/png": "[encoded data removed]",
      "text/plain": [
       "<Figure size 640x480 with 1 Axes>"
      ]
     },
     "metadata": {},
     "output_type": "display_data"
    }
   ],
   "source": [
    "plot_FEM(int_points(x_range, 4, L/M, M), test, M)\n",
    "         # int_points(x_range, 25, L/M, M), Guassian_1st_deriv(int_points(x_range, 25, L/M, M), (L/2), 1))"
   ]
  },
  {
   "cell_type": "code",
   "execution_count": null,
   "id": "6153e598",
   "metadata": {},
   "outputs": [],
   "source": []
  },
  {
   "cell_type": "markdown",
   "id": "1de87ec4",
   "metadata": {},
   "source": [
    "### Applied to 1D Advection (with Predictor-Corrector Method):"
   ]
  },
  {
   "cell_type": "code",
   "execution_count": 45,
   "id": "a37090c7",
   "metadata": {},
   "outputs": [],
   "source": [
    "# Initialize the elements and the Guassian function:\n",
    "L = 12 # Denotes total length in [0, L]\n",
    "M = 4 # Denotes number of elements \n",
    "x_range = np.arange(0, L + (L/M), (L/M)) # Define the element endpoints\n",
    "\n",
    "npts = int_points(x_range, 4, L/M, M)"
   ]
  },
  {
   "cell_type": "code",
   "execution_count": 49,
   "id": "66d95bfb",
   "metadata": {},
   "outputs": [],
   "source": [
    "# Compute the derivative matrix:\n",
    "def SEM_dx(D, u, M, L):\n",
    "    \n",
    "    u_out = np.zeros_like(u)\n",
    "    \n",
    "    for j in np.arange(npts.shape[0]):\n",
    "        u_out[j] = (np.matmul(D, u[j].transpose()) * ((2 * M) / L))\n",
    "        \n",
    "    return(boundary_mean(u_out, u_out.shape[0]))"
   ]
  },
  {
   "cell_type": "code",
   "execution_count": 50,
   "id": "429ba8ba",
   "metadata": {},
   "outputs": [],
   "source": [
    "t_steps = 24\n",
    "CFL = 0.10\n",
    "dt = 0.10\n",
    "\n",
    "u = init_Guassian(npts, (L/2), 1)\n",
    "\n",
    "for i in np.arange(0, t_steps, dt):\n",
    "    \n",
    "    u_mid = np.zeros_like(u)\n",
    "    u_n = np.zeros_like(u)\n",
    "    \n",
    "    # Half time step:\n",
    "    u_mid = u - ((dt / 2) * SEM_dx(D, u, M, L))\n",
    "    # Full time step:\n",
    "    u_n = u - ((dt) * SEM_dx(D, u_mid, M, L))\n",
    "    \n",
    "    # Prepare for the next timestep:\n",
    "    u = u_n"
   ]
  },
  {
   "cell_type": "code",
   "execution_count": 52,
   "id": "f6f18f97",
   "metadata": {},
   "outputs": [
    {
     "data": {
      "text/plain": [
       "array([[-0.00657666,  0.02795147,  0.01076844, -0.0009543 ],\n",
       "       [-0.0009543 ,  0.02187938,  0.27446811,  0.40223043],\n",
       "       [ 0.40223043,  0.28547393,  0.05898083,  0.01534053],\n",
       "       [ 0.01534053, -0.01199169, -0.02650559, -0.00657666]])"
      ]
     },
     "execution_count": 52,
     "metadata": {},
     "output_type": "execute_result"
    }
   ],
   "source": [
    "u"
   ]
  },
  {
   "cell_type": "code",
   "execution_count": 51,
   "id": "d503fe21",
   "metadata": {},
   "outputs": [
    {
     "ename": "IndexError",
     "evalue": "index 4 is out of bounds for axis 0 with size 4",
     "output_type": "error",
     "traceback": [
      "\u001b[0;31m---------------------------------------------------------------------------\u001b[0m",
      "\u001b[0;31mIndexError\u001b[0m                                Traceback (most recent call last)",
      "Cell \u001b[0;32mIn[51], line 1\u001b[0m\n\u001b[0;32m----> 1\u001b[0m \u001b[43mplot_FEM\u001b[49m\u001b[43m(\u001b[49m\u001b[43mnpts\u001b[49m\u001b[43m,\u001b[49m\u001b[43m \u001b[49m\u001b[43mu\u001b[49m\u001b[43m,\u001b[49m\u001b[43m \u001b[49m\u001b[38;5;241;43m6\u001b[39;49m\u001b[43m)\u001b[49m\n\u001b[1;32m      2\u001b[0m plot_FEM_ic(npts, init_Guassian(npts, (L\u001b[38;5;241m/\u001b[39m\u001b[38;5;241m2\u001b[39m), \u001b[38;5;241m1\u001b[39m), \u001b[38;5;241m6\u001b[39m)\n\u001b[1;32m      3\u001b[0m plt\u001b[38;5;241m.\u001b[39mtitle(\u001b[38;5;124m'\u001b[39m\u001b[38;5;124mIC & FEM Solution at t_step: 36\u001b[39m\u001b[38;5;124m'\u001b[39m)\n",
      "Cell \u001b[0;32mIn[29], line 6\u001b[0m, in \u001b[0;36mplot_FEM\u001b[0;34m(int_points, value_array, M)\u001b[0m\n\u001b[1;32m      3\u001b[0m fig \u001b[38;5;241m=\u001b[39m plt\u001b[38;5;241m.\u001b[39mplot()\n\u001b[1;32m      5\u001b[0m \u001b[38;5;28;01mfor\u001b[39;00m i \u001b[38;5;129;01min\u001b[39;00m np\u001b[38;5;241m.\u001b[39marange(M):\n\u001b[0;32m----> 6\u001b[0m     plt\u001b[38;5;241m.\u001b[39mplot(\u001b[43mint_points\u001b[49m\u001b[43m[\u001b[49m\u001b[43mi\u001b[49m\u001b[43m]\u001b[49m, value_array[i], marker \u001b[38;5;241m=\u001b[39m \u001b[38;5;124m'\u001b[39m\u001b[38;5;124mo\u001b[39m\u001b[38;5;124m'\u001b[39m)\n\u001b[1;32m      7\u001b[0m     \u001b[38;5;66;03m# plt.plot(fine_int_points[i], fine_value_array[i])\u001b[39;00m\n\u001b[1;32m      9\u001b[0m \u001b[38;5;28;01mreturn\u001b[39;00m()\n",
      "\u001b[0;31mIndexError\u001b[0m: index 4 is out of bounds for axis 0 with size 4"
     ]
    },
    {
     "data": {
      "image/png": "[encoded data removed]",
      "text/plain": [
       "<Figure size 640x480 with 1 Axes>"
      ]
     },
     "metadata": {},
     "output_type": "display_data"
    }
   ],
   "source": [
    "plot_FEM(npts, u, 6)\n",
    "plot_FEM_ic(npts, init_Guassian(npts, (L/2), 1), 6)\n",
    "plt.title('IC & FEM Solution at t_step: 36')"
   ]
  },
  {
   "cell_type": "markdown",
   "id": "f506d89b",
   "metadata": {},
   "source": [
    "### Property Check -> Integration by Parts:"
   ]
  },
  {
   "cell_type": "code",
   "execution_count": 340,
   "id": "18194d05",
   "metadata": {},
   "outputs": [],
   "source": [
    "# Note: Quad weights only needs to defined for one element as all elements use the same functional space\n",
    "# The weights are calculated using exact integration \n",
    "\n",
    "def quad_weights(npts_values):\n",
    "    \n",
    "    # Values in f_array result from exact integration:\n",
    "    f_array = np.zeros(len(npts_values))\n",
    "    f_array[0] = 2\n",
    "    \n",
    "    # Define basis matrix for Legendre polynomials: \n",
    "    V = np.polynomial.legendre.legvander(npts_values, len(npts_values) - 1).transpose()\n",
    "    \n",
    "    return(np.matmul(np.linalg.inv(V), f_array.transpose()))"
   ]
  },
  {
   "cell_type": "code",
   "execution_count": null,
   "id": "c3eb10d3",
   "metadata": {},
   "outputs": [],
   "source": [
    "def quad_int(): "
   ]
  },
  {
   "cell_type": "code",
   "execution_count": 344,
   "id": "a2e28b0f",
   "metadata": {},
   "outputs": [
    {
     "data": {
      "text/plain": [
       "array([0.16666667, 0.83333333, 0.83333333, 0.16666667])"
      ]
     },
     "execution_count": 344,
     "metadata": {},
     "output_type": "execute_result"
    }
   ],
   "source": [
    "p_order = 3\n",
    "xinterior, w = roots_jacobi(p_order - 1,1,1) # returns interior GLL nodes from range -1 and 1\n",
    "GLL_points = np.pad(xinterior, (1, 1), 'constant', constant_values=(-1, 1))\n",
    "\n",
    "quad_weights(GLL_points)"
   ]
  },
  {
   "cell_type": "code",
   "execution_count": null,
   "id": "7d9aa676",
   "metadata": {},
   "outputs": [],
   "source": []
  },
  {
   "cell_type": "code",
   "execution_count": null,
   "id": "0e5daab4",
   "metadata": {},
   "outputs": [],
   "source": []
  }
 ],
 "metadata": {
  "kernelspec": {
   "display_name": "Python 3 (ipykernel)",
   "language": "python",
   "name": "python3"
  },
  "language_info": {
   "codemirror_mode": {
    "name": "ipython",
    "version": 3
   },
   "file_extension": ".py",
   "mimetype": "text/x-python",
   "name": "python",
   "nbconvert_exporter": "python",
   "pygments_lexer": "ipython3",
   "version": "3.10.14"
  }
 },
 "nbformat": 4,
 "nbformat_minor": 5
}
