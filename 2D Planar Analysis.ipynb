{
 "cells": [
  {
   "cell_type": "code",
   "execution_count": 36,
   "id": "b860418a",
   "metadata": {},
   "outputs": [],
   "source": [
    "from scipy.special import roots_jacobi, eval_jacobi\n",
    "import numpy as np\n",
    "import pandas as pd\n",
    "import scipy\n",
    "import math"
   ]
  },
  {
   "cell_type": "markdown",
   "id": "16ed493e",
   "metadata": {},
   "source": [
    "## Define 2D Structured Multi-Element Array:"
   ]
  },
  {
   "cell_type": "code",
   "execution_count": 5,
   "id": "dab1e43a",
   "metadata": {},
   "outputs": [],
   "source": [
    "L = 12 # Denotes total length in [0, L]\n",
    "M = 4 # Denotes number of elements \n",
    "x_range = np.arange(0, L + (L/M), (L/M)) # Define the element endpoints"
   ]
  },
  {
   "cell_type": "code",
   "execution_count": 7,
   "id": "736a7def",
   "metadata": {},
   "outputs": [],
   "source": [
    "npts = 4\n",
    "p_order = npts - 1\n",
    "xinterior, w = roots_jacobi(p_order - 1,1,1) # returns interior GLL nodes from range -1 and 1\n",
    "GLL_points = np.pad(xinterior, (1, 1), 'constant', constant_values=(-1, 1))"
   ]
  },
  {
   "cell_type": "code",
   "execution_count": 6,
   "id": "b0b9d085",
   "metadata": {},
   "outputs": [],
   "source": [
    "def int_points(x_range, npts, dx, M):\n",
    "    \n",
    "    k = 0\n",
    "    p_order = npts - 1\n",
    "    xinterior, w = roots_jacobi(p_order - 1,1,1) # returns interior GLL nodes from range -1 and 1\n",
    "    GLL_points = np.pad(xinterior, (1, 1), 'constant', constant_values=(-1, 1))\n",
    "    GLL_dist = np.array([np.abs(GLL_points[0] - value) for value in GLL_points])\n",
    "    \n",
    "    return_array = np.zeros([M, npts])\n",
    "    \n",
    "    for i in x_range[:-1]:\n",
    "        array = np.array([i])\n",
    "        for j in GLL_dist[1:]: \n",
    "            scaled_point = ((j / 2) * (dx)) + i # Note: 2 here is the distance from -1 to 1\n",
    "            array = np.concatenate((array, np.array([scaled_point])))\n",
    "            \n",
    "        return_array[k, :] = array\n",
    "        k = k + 1\n",
    "    \n",
    "    return(return_array)"
   ]
  },
  {
   "cell_type": "code",
   "execution_count": 49,
   "id": "bbab732d",
   "metadata": {},
   "outputs": [],
   "source": [
    "def array_2d(M, npts):\n",
    "    return(np.zeros((M * npts, npts, npts)))"
   ]
  },
  {
   "cell_type": "code",
   "execution_count": null,
   "id": "47755229",
   "metadata": {},
   "outputs": [],
   "source": [
    "# Input to this function is array_2d; returns array with indices of face-sharing neighbors:\n",
    "\n",
    "def find_neighbors(array_in, M, ):\n",
    "    "
   ]
  },
  {
   "cell_type": "markdown",
   "id": "be2e6582",
   "metadata": {},
   "source": [
    "## Define 2D Gaussian Function:"
   ]
  },
  {
   "cell_type": "code",
   "execution_count": 71,
   "id": "668c7f7d",
   "metadata": {},
   "outputs": [],
   "source": [
    "# Note: The returned 2D array will have duplicate degrees of freedom at element boundaries:\n",
    "\n",
    "def gaussian_2d(array_2d, coords_2d, mu, sigma_array):\n",
    "    \n",
    "    return_array = np.copy(array_2d).reshape(len(coords_2d), len(coords_2d))\n",
    "    \n",
    "    for i in np.arange(len(coords_2d)):\n",
    "\n",
    "        # Calculate the 2D Gaussian function\n",
    "        return_array[:, i] = np.exp(-(((coords_2d[i] - mu)**2 / (2 * sigma_array[0]**2)) +\n",
    "                                     (coords_2d[:] - mu)**2 / (2 * sigma_array[1]**2)))\n",
    "    \n",
    "    #return (return_array.reshape(array_2d.shape))\n",
    "    return (return_array)"
   ]
  },
  {
   "cell_type": "code",
   "execution_count": 77,
   "id": "620bf9b7",
   "metadata": {},
   "outputs": [
    {
     "ename": "ValueError",
     "evalue": "cannot reshape array of size 16 into shape (64,4)",
     "output_type": "error",
     "traceback": [
      "\u001b[0;31m---------------------------------------------------------------------------\u001b[0m",
      "\u001b[0;31mValueError\u001b[0m                                Traceback (most recent call last)",
      "\u001b[0;32m/tmp/ipykernel_8190/2743894093.py\u001b[0m in \u001b[0;36m<module>\u001b[0;34m\u001b[0m\n\u001b[0;32m----> 1\u001b[0;31m gaussian_2d(array_2d(M, npts), int_points(x_range, 4, L/M, M).reshape(16 * 4, 4), \n\u001b[0m\u001b[1;32m      2\u001b[0m             (L/2), [1, 1])\n",
      "\u001b[0;31mValueError\u001b[0m: cannot reshape array of size 16 into shape (64,4)"
     ]
    }
   ],
   "source": [
    "gaussian_2d(array_2d(M, npts), int_points(x_range, 4, L/M, M).reshape(16 * 4, 4), \n",
    "            (L/2), [1, 1])"
   ]
  },
  {
   "cell_type": "code",
   "execution_count": 72,
   "id": "3796f8e9",
   "metadata": {},
   "outputs": [
    {
     "data": {
      "text/plain": [
       "array([[2.31952283e-16, 2.38094992e-14, 9.97131913e-12, 1.69189792e-10,\n",
       "        1.69189792e-10, 1.44344880e-09, 1.07994632e-08, 1.52299797e-08,\n",
       "        1.52299797e-08, 1.07994632e-08, 1.44344880e-09, 1.69189792e-10,\n",
       "        1.69189792e-10, 9.97131913e-12, 2.38094992e-14, 2.31952283e-16],\n",
       "       [2.38094992e-14, 2.44400375e-12, 1.02353860e-09, 1.73670384e-08,\n",
       "        1.73670384e-08, 1.48167513e-07, 1.10854615e-06, 1.56333098e-06,\n",
       "        1.56333098e-06, 1.10854615e-06, 1.48167513e-07, 1.73670384e-08,\n",
       "        1.73670384e-08, 1.02353860e-09, 2.44400375e-12, 2.38094992e-14],\n",
       "       [9.97131913e-12, 1.02353860e-09, 4.28653704e-07, 7.27324341e-06,\n",
       "        7.27324341e-06, 6.20519376e-05, 4.64254511e-04, 6.54716507e-04,\n",
       "        6.54716507e-04, 4.64254511e-04, 6.20519376e-05, 7.27324341e-06,\n",
       "        7.27324341e-06, 4.28653704e-07, 1.02353860e-09, 9.97131913e-12],\n",
       "       [1.69189792e-10, 1.73670384e-08, 7.27324341e-06, 1.23409804e-04,\n",
       "        1.23409804e-04, 1.05287518e-03, 7.87730522e-03, 1.11089965e-02,\n",
       "        1.11089965e-02, 7.87730522e-03, 1.05287518e-03, 1.23409804e-04,\n",
       "        1.23409804e-04, 7.27324341e-06, 1.73670384e-08, 1.69189792e-10],\n",
       "       [1.69189792e-10, 1.73670384e-08, 7.27324341e-06, 1.23409804e-04,\n",
       "        1.23409804e-04, 1.05287518e-03, 7.87730522e-03, 1.11089965e-02,\n",
       "        1.11089965e-02, 7.87730522e-03, 1.05287518e-03, 1.23409804e-04,\n",
       "        1.23409804e-04, 7.27324341e-06, 1.73670384e-08, 1.69189792e-10],\n",
       "       [1.44344880e-09, 1.48167513e-07, 6.20519376e-05, 1.05287518e-03,\n",
       "        1.05287518e-03, 8.98264246e-03, 6.72055127e-02, 9.47768034e-02,\n",
       "        9.47768034e-02, 6.72055127e-02, 8.98264246e-03, 1.05287518e-03,\n",
       "        1.05287518e-03, 6.20519376e-05, 1.48167513e-07, 1.44344880e-09],\n",
       "       [1.07994632e-08, 1.10854615e-06, 4.64254511e-04, 7.87730522e-03,\n",
       "        7.87730522e-03, 6.72055127e-02, 5.02812058e-01, 7.09092419e-01,\n",
       "        7.09092419e-01, 5.02812058e-01, 6.72055127e-02, 7.87730522e-03,\n",
       "        7.87730522e-03, 4.64254511e-04, 1.10854615e-06, 1.07994632e-08],\n",
       "       [1.52299797e-08, 1.56333098e-06, 6.54716507e-04, 1.11089965e-02,\n",
       "        1.11089965e-02, 9.47768034e-02, 7.09092419e-01, 1.00000000e+00,\n",
       "        1.00000000e+00, 7.09092419e-01, 9.47768034e-02, 1.11089965e-02,\n",
       "        1.11089965e-02, 6.54716507e-04, 1.56333098e-06, 1.52299797e-08],\n",
       "       [1.52299797e-08, 1.56333098e-06, 6.54716507e-04, 1.11089965e-02,\n",
       "        1.11089965e-02, 9.47768034e-02, 7.09092419e-01, 1.00000000e+00,\n",
       "        1.00000000e+00, 7.09092419e-01, 9.47768034e-02, 1.11089965e-02,\n",
       "        1.11089965e-02, 6.54716507e-04, 1.56333098e-06, 1.52299797e-08],\n",
       "       [1.07994632e-08, 1.10854615e-06, 4.64254511e-04, 7.87730522e-03,\n",
       "        7.87730522e-03, 6.72055127e-02, 5.02812058e-01, 7.09092419e-01,\n",
       "        7.09092419e-01, 5.02812058e-01, 6.72055127e-02, 7.87730522e-03,\n",
       "        7.87730522e-03, 4.64254511e-04, 1.10854615e-06, 1.07994632e-08],\n",
       "       [1.44344880e-09, 1.48167513e-07, 6.20519376e-05, 1.05287518e-03,\n",
       "        1.05287518e-03, 8.98264246e-03, 6.72055127e-02, 9.47768034e-02,\n",
       "        9.47768034e-02, 6.72055127e-02, 8.98264246e-03, 1.05287518e-03,\n",
       "        1.05287518e-03, 6.20519376e-05, 1.48167513e-07, 1.44344880e-09],\n",
       "       [1.69189792e-10, 1.73670384e-08, 7.27324341e-06, 1.23409804e-04,\n",
       "        1.23409804e-04, 1.05287518e-03, 7.87730522e-03, 1.11089965e-02,\n",
       "        1.11089965e-02, 7.87730522e-03, 1.05287518e-03, 1.23409804e-04,\n",
       "        1.23409804e-04, 7.27324341e-06, 1.73670384e-08, 1.69189792e-10],\n",
       "       [1.69189792e-10, 1.73670384e-08, 7.27324341e-06, 1.23409804e-04,\n",
       "        1.23409804e-04, 1.05287518e-03, 7.87730522e-03, 1.11089965e-02,\n",
       "        1.11089965e-02, 7.87730522e-03, 1.05287518e-03, 1.23409804e-04,\n",
       "        1.23409804e-04, 7.27324341e-06, 1.73670384e-08, 1.69189792e-10],\n",
       "       [9.97131913e-12, 1.02353860e-09, 4.28653704e-07, 7.27324341e-06,\n",
       "        7.27324341e-06, 6.20519376e-05, 4.64254511e-04, 6.54716507e-04,\n",
       "        6.54716507e-04, 4.64254511e-04, 6.20519376e-05, 7.27324341e-06,\n",
       "        7.27324341e-06, 4.28653704e-07, 1.02353860e-09, 9.97131913e-12],\n",
       "       [2.38094992e-14, 2.44400375e-12, 1.02353860e-09, 1.73670384e-08,\n",
       "        1.73670384e-08, 1.48167513e-07, 1.10854615e-06, 1.56333098e-06,\n",
       "        1.56333098e-06, 1.10854615e-06, 1.48167513e-07, 1.73670384e-08,\n",
       "        1.73670384e-08, 1.02353860e-09, 2.44400375e-12, 2.38094992e-14],\n",
       "       [2.31952283e-16, 2.38094992e-14, 9.97131913e-12, 1.69189792e-10,\n",
       "        1.69189792e-10, 1.44344880e-09, 1.07994632e-08, 1.52299797e-08,\n",
       "        1.52299797e-08, 1.07994632e-08, 1.44344880e-09, 1.69189792e-10,\n",
       "        1.69189792e-10, 9.97131913e-12, 2.38094992e-14, 2.31952283e-16]])"
      ]
     },
     "execution_count": 72,
     "metadata": {},
     "output_type": "execute_result"
    }
   ],
   "source": [
    "gaussian_2d(array_2d(M, npts), int_points(x_range, 4, L/M, M).reshape(16, ), \n",
    "            (L/2), [1, 1])"
   ]
  },
  {
   "cell_type": "markdown",
   "id": "e5d3bd5d",
   "metadata": {},
   "source": [
    "## Define Derivative Operator:"
   ]
  },
  {
   "cell_type": "code",
   "execution_count": 12,
   "id": "392e4769",
   "metadata": {},
   "outputs": [],
   "source": [
    "def vandermonde(npts_values, return_type):\n",
    "    # For the monomial basis: \n",
    "    if return_type == 'Monomial':\n",
    "        return(np.vander(npts_values, increasing = True))\n",
    "    elif return_type == 'Legendre':\n",
    "        return(np.polynomial.legendre.legvander(npts_values, len(npts_values) - 1))"
   ]
  },
  {
   "cell_type": "code",
   "execution_count": 13,
   "id": "ad37d6bc",
   "metadata": {},
   "outputs": [],
   "source": [
    "def Ld_vandermonde(npts_values): \n",
    "    \n",
    "    LP = np.polynomial.legendre\n",
    "    v_matrix = np.polynomial.legendre.legvander(npts_values, len(npts_values)-1)\n",
    "    d_v_matrix = np.zeros_like(v_matrix)\n",
    "\n",
    "    for i in range(len(npts_values)):\n",
    "        # Coefficients for the i-th Legendre polynomial (e.g., [0, 0, 1] for P_2)\n",
    "        coeffs = np.zeros(len(npts_values))\n",
    "        coeffs[i] = 1\n",
    "\n",
    "        # Compute the derivative of the i-th Legendre polynomial\n",
    "        deriv_coeffs = LP.legder(coeffs, m=1) # m=1 for first derivative\n",
    "\n",
    "        # Evaluate the derivative at the points x\n",
    "        d_v_matrix[:, i] = LP.legval(npts_values, deriv_coeffs)\n",
    "        \n",
    "    return(d_v_matrix)"
   ]
  },
  {
   "cell_type": "code",
   "execution_count": 14,
   "id": "4449a3a6",
   "metadata": {},
   "outputs": [],
   "source": [
    "def return_D(V1, V2):\n",
    "    return(np.matmul(V2, np.linalg.inv(V1)))"
   ]
  },
  {
   "cell_type": "code",
   "execution_count": 15,
   "id": "49737896",
   "metadata": {},
   "outputs": [],
   "source": [
    "V1 = vandermonde(GLL_points, 'Legendre')\n",
    "V2 = Ld_vandermonde(GLL_points)\n",
    "D = return_D(V1, V2)"
   ]
  },
  {
   "cell_type": "markdown",
   "id": "0c91ba8f",
   "metadata": {},
   "source": [
    "## Gradient/Divergence operators:"
   ]
  },
  {
   "cell_type": "code",
   "execution_count": null,
   "id": "9da517a8",
   "metadata": {},
   "outputs": [],
   "source": [
    "def grad(array_in, D):\n",
    "    \n",
    "    dy = np.matmul(D, array_in)\n",
    "    dx = np.matmul(D, array_in.transpose())"
   ]
  },
  {
   "cell_type": "code",
   "execution_count": null,
   "id": "2269a57b",
   "metadata": {},
   "outputs": [],
   "source": [
    "def div():"
   ]
  }
 ],
 "metadata": {
  "kernelspec": {
   "display_name": "Python [conda env:pangeo_2025] *",
   "language": "python",
   "name": "conda-env-pangeo_2025-py"
  },
  "language_info": {
   "codemirror_mode": {
    "name": "ipython",
    "version": 3
   },
   "file_extension": ".py",
   "mimetype": "text/x-python",
   "name": "python",
   "nbconvert_exporter": "python",
   "pygments_lexer": "ipython3",
   "version": "3.9.7"
  }
 },
 "nbformat": 4,
 "nbformat_minor": 5
}
