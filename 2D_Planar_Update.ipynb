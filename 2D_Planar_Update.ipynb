{
 "cells": [
  {
   "cell_type": "code",
   "execution_count": 1,
   "id": "0d31c16d",
   "metadata": {},
   "outputs": [],
   "source": [
    "from scipy.special import roots_jacobi, eval_jacobi\n",
    "import numpy as np\n",
    "import scipy\n",
    "import math"
   ]
  },
  {
   "cell_type": "code",
   "execution_count": 2,
   "id": "045d896a",
   "metadata": {},
   "outputs": [],
   "source": [
    "import matplotlib.pyplot as plt"
   ]
  },
  {
   "cell_type": "markdown",
   "id": "c5e6d4fe",
   "metadata": {},
   "source": [
    "### Compute Coordinates:"
   ]
  },
  {
   "cell_type": "code",
   "execution_count": 123,
   "id": "2f667ada",
   "metadata": {},
   "outputs": [],
   "source": [
    "coord_x = np.array([0, 1, 2, 6, 8, 10, 11, 12])\n",
    "coord_y = np.array([0, 2, 6, 8])"
   ]
  },
  {
   "cell_type": "code",
   "execution_count": 127,
   "id": "32102062",
   "metadata": {},
   "outputs": [],
   "source": [
    "npts = 4\n",
    "\n",
    "L_x = 12 # Denotes total length in [0, L]\n",
    "M_x = len(coord_x) - 1 # Denotes number of elements\n",
    "L_y = 8\n",
    "M_y = len(coord_y) - 1"
   ]
  },
  {
   "cell_type": "code",
   "execution_count": 18,
   "id": "60dcc778",
   "metadata": {},
   "outputs": [],
   "source": [
    "def corners_2d(x_array, y_array):\n",
    "    return(np.meshgrid(x_array, y_array))"
   ]
  },
  {
   "cell_type": "code",
   "execution_count": 102,
   "id": "e614e48f",
   "metadata": {},
   "outputs": [],
   "source": [
    "def array_2d(M_x, M_y, npts):\n",
    "    return(np.zeros((M_y, M_x, npts, npts)))"
   ]
  },
  {
   "cell_type": "code",
   "execution_count": 49,
   "id": "87336abc",
   "metadata": {},
   "outputs": [],
   "source": [
    "# Note range_in denotes endpoints of x, y coordinate arrays:\n",
    "\n",
    "def int_points(range_in, npts, M_value):\n",
    "\n",
    "    p_order = npts - 1\n",
    "    xinterior, w = roots_jacobi(p_order - 1,1,1) # returns interior GLL nodes from range -1 and 1\n",
    "    GLL_points = np.pad(xinterior, (1, 1), 'constant', constant_values=(-1, 1))\n",
    "    GLL_dist = np.array([np.abs(GLL_points[0] - value) for value in GLL_points])\n",
    "    \n",
    "    return_array = np.zeros([M_value, npts])\n",
    "    \n",
    "    for i in np.arange(M_value):\n",
    "        array = np.array([range_in[i]])\n",
    "        dist = range_in[i + 1] - range_in[i]\n",
    "        \n",
    "        for j in GLL_dist[1:]: \n",
    "            scaled_point = ((j / 2) * (dist)) + range_in[i] # Note: 2 here is the distance from -1 to 1\n",
    "            array = np.concatenate((array, np.array([scaled_point])))\n",
    "            \n",
    "        return_array[i, :] = array\n",
    "    \n",
    "    return(return_array)"
   ]
  },
  {
   "cell_type": "code",
   "execution_count": 103,
   "id": "49b9da0c",
   "metadata": {},
   "outputs": [],
   "source": [
    "# Returns 2 (M_y, M_x, npts, npts) arrays - the 0 index contains the x value; the 1 index contains the y value:\n",
    "\n",
    "def coords_2d(coord_x, coord_y, npts, M_x, M_y):\n",
    "    \n",
    "    p_order = npts - 1\n",
    "    xinterior, w = roots_jacobi(p_order - 1,1,1) # returns interior GLL nodes from range -1 and 1\n",
    "    GLL_points = np.pad(xinterior, (1, 1), 'constant', constant_values=(-1, 1))\n",
    "    GLL_dist = np.array([np.abs(GLL_points[0] - value) for value in GLL_points])\n",
    "    \n",
    "    Lx_array = int_points(coord_x, npts, M_x)\n",
    "    Ly_array = int_points(coord_y, npts, M_y)\n",
    "    return_array_x = array_2d(M_x, M_y, npts)\n",
    "    return_array_y = array_2d(M_x, M_y, npts)\n",
    "    \n",
    "    x_i = 0\n",
    "    for elem_1 in Lx_array:\n",
    "        y_i = 0\n",
    "        for elem_2 in Ly_array:\n",
    "            return_array_x[y_i, x_i, :, :] = np.meshgrid(elem_1, elem_2)[0]\n",
    "            return_array_y[y_i, x_i, :, :] = np.meshgrid(elem_1, elem_2)[1]\n",
    "            \n",
    "            y_i += 1\n",
    "        x_i += 1\n",
    "    \n",
    "    return(return_array_x, return_array_y)"
   ]
  },
  {
   "cell_type": "markdown",
   "id": "08342910",
   "metadata": {},
   "source": [
    "### Initialize Gaussian Field:"
   ]
  },
  {
   "cell_type": "code",
   "execution_count": 126,
   "id": "d5e6ac60",
   "metadata": {},
   "outputs": [],
   "source": [
    "# Returns 2D normalized Gaussian scalar field; sigma denotes the spread in the x, y directions: \n",
    "\n",
    "def norm_Gaussian_2d(coords_2d, array_2d, sigma, L_x, L_y, M_x, M_y):\n",
    "    \n",
    "    numerator_x = np.exp(-(coords_2d[0] - (L_x / 2))**2 / (2 * sigma[0]**2))\n",
    "    numerator_y = np.exp(-(coords_2d[1] - (L_y / 2))**2 / (2 * sigma[1]**2))\n",
    "    denominator = (sigma[0] * sigma[1]) * (2 * np.pi)\n",
    "    \n",
    "    return((numerator_x * numerator_y) / denominator)"
   ]
  },
  {
   "cell_type": "code",
   "execution_count": 125,
   "id": "84fda687",
   "metadata": {},
   "outputs": [
    {
     "data": {
      "text/plain": [
       "(3, 7, 4, 4)"
      ]
     },
     "execution_count": 125,
     "metadata": {},
     "output_type": "execute_result"
    }
   ],
   "source": [
    "norm_Gaussian_2d(coords_2d(coord_x, coord_y, 4, M_x, M_y), array_2d(M_x, M_y, 4), \n",
    "                 [1, 1], L_x, L_y, M_x, M_y).shape"
   ]
  },
  {
   "cell_type": "markdown",
   "id": "5ff26884",
   "metadata": {},
   "source": [
    "### 2D Plotting:"
   ]
  },
  {
   "cell_type": "code",
   "execution_count": 129,
   "id": "a833dfb5",
   "metadata": {},
   "outputs": [
    {
     "ename": "ValueError",
     "evalue": "cannot reshape array of size 336 into shape (1,4)",
     "output_type": "error",
     "traceback": [
      "\u001b[0;31m---------------------------------------------------------------------------\u001b[0m",
      "\u001b[0;31mValueError\u001b[0m                                Traceback (most recent call last)",
      "Cell \u001b[0;32mIn[129], line 1\u001b[0m\n\u001b[0;32m----> 1\u001b[0m \u001b[43mplt\u001b[49m\u001b[38;5;241;43m.\u001b[39;49m\u001b[43mpcolormesh\u001b[49m\u001b[43m(\u001b[49m\u001b[43mcoords_2d\u001b[49m\u001b[43m(\u001b[49m\u001b[43mcoord_x\u001b[49m\u001b[43m,\u001b[49m\u001b[43m \u001b[49m\u001b[43mcoord_y\u001b[49m\u001b[43m,\u001b[49m\u001b[43m \u001b[49m\u001b[38;5;241;43m4\u001b[39;49m\u001b[43m,\u001b[49m\u001b[43m \u001b[49m\u001b[43mM_x\u001b[49m\u001b[43m,\u001b[49m\u001b[43m \u001b[49m\u001b[43mM_y\u001b[49m\u001b[43m)\u001b[49m\u001b[43m[\u001b[49m\u001b[38;5;241;43m0\u001b[39;49m\u001b[43m]\u001b[49m\u001b[43m,\u001b[49m\u001b[43m \u001b[49m\n\u001b[1;32m      2\u001b[0m \u001b[43m               \u001b[49m\u001b[43mcoords_2d\u001b[49m\u001b[43m(\u001b[49m\u001b[43mcoord_x\u001b[49m\u001b[43m,\u001b[49m\u001b[43m \u001b[49m\u001b[43mcoord_y\u001b[49m\u001b[43m,\u001b[49m\u001b[43m \u001b[49m\u001b[38;5;241;43m4\u001b[39;49m\u001b[43m,\u001b[49m\u001b[43m \u001b[49m\u001b[43mM_x\u001b[49m\u001b[43m,\u001b[49m\u001b[43m \u001b[49m\u001b[43mM_y\u001b[49m\u001b[43m)\u001b[49m\u001b[43m[\u001b[49m\u001b[38;5;241;43m1\u001b[39;49m\u001b[43m]\u001b[49m\u001b[43m,\u001b[49m\u001b[43m \u001b[49m\n\u001b[1;32m      3\u001b[0m \u001b[43m               \u001b[49m\u001b[43mnorm_Gaussian_2d\u001b[49m\u001b[43m(\u001b[49m\u001b[43mcoords_2d\u001b[49m\u001b[43m(\u001b[49m\u001b[43mcoord_x\u001b[49m\u001b[43m,\u001b[49m\u001b[43m \u001b[49m\u001b[43mcoord_y\u001b[49m\u001b[43m,\u001b[49m\u001b[43m \u001b[49m\u001b[38;5;241;43m4\u001b[39;49m\u001b[43m,\u001b[49m\u001b[43m \u001b[49m\u001b[43mM_x\u001b[49m\u001b[43m,\u001b[49m\u001b[43m \u001b[49m\u001b[43mM_y\u001b[49m\u001b[43m)\u001b[49m\u001b[43m,\u001b[49m\u001b[43m \u001b[49m\u001b[43marray_2d\u001b[49m\u001b[43m(\u001b[49m\u001b[43mM_x\u001b[49m\u001b[43m,\u001b[49m\u001b[43m \u001b[49m\u001b[43mM_y\u001b[49m\u001b[43m,\u001b[49m\u001b[43m \u001b[49m\u001b[38;5;241;43m4\u001b[39;49m\u001b[43m)\u001b[49m\u001b[43m,\u001b[49m\u001b[43m \u001b[49m\n\u001b[1;32m      4\u001b[0m \u001b[43m               \u001b[49m\u001b[43m[\u001b[49m\u001b[38;5;241;43m1\u001b[39;49m\u001b[43m,\u001b[49m\u001b[43m \u001b[49m\u001b[38;5;241;43m1\u001b[39;49m\u001b[43m]\u001b[49m\u001b[43m,\u001b[49m\u001b[43m \u001b[49m\u001b[43mL_x\u001b[49m\u001b[43m,\u001b[49m\u001b[43m \u001b[49m\u001b[43mL_y\u001b[49m\u001b[43m,\u001b[49m\u001b[43m \u001b[49m\u001b[43mM_x\u001b[49m\u001b[43m,\u001b[49m\u001b[43m \u001b[49m\u001b[43mM_y\u001b[49m\u001b[43m)\u001b[49m\u001b[43m)\u001b[49m\n",
      "File \u001b[0;32m~/opt/anaconda3/envs/pangeo-Jan2021/lib/python3.10/site-packages/matplotlib/pyplot.py:3697\u001b[0m, in \u001b[0;36mpcolormesh\u001b[0;34m(alpha, norm, cmap, vmin, vmax, shading, antialiased, data, *args, **kwargs)\u001b[0m\n\u001b[1;32m   3684\u001b[0m \u001b[38;5;129m@_copy_docstring_and_deprecators\u001b[39m(Axes\u001b[38;5;241m.\u001b[39mpcolormesh)\n\u001b[1;32m   3685\u001b[0m \u001b[38;5;28;01mdef\u001b[39;00m \u001b[38;5;21mpcolormesh\u001b[39m(\n\u001b[1;32m   3686\u001b[0m     \u001b[38;5;241m*\u001b[39margs: ArrayLike,\n\u001b[0;32m   (...)\u001b[0m\n\u001b[1;32m   3695\u001b[0m     \u001b[38;5;241m*\u001b[39m\u001b[38;5;241m*\u001b[39mkwargs,\n\u001b[1;32m   3696\u001b[0m ) \u001b[38;5;241m-\u001b[39m\u001b[38;5;241m>\u001b[39m QuadMesh:\n\u001b[0;32m-> 3697\u001b[0m     __ret \u001b[38;5;241m=\u001b[39m \u001b[43mgca\u001b[49m\u001b[43m(\u001b[49m\u001b[43m)\u001b[49m\u001b[38;5;241;43m.\u001b[39;49m\u001b[43mpcolormesh\u001b[49m\u001b[43m(\u001b[49m\n\u001b[1;32m   3698\u001b[0m \u001b[43m        \u001b[49m\u001b[38;5;241;43m*\u001b[39;49m\u001b[43margs\u001b[49m\u001b[43m,\u001b[49m\n\u001b[1;32m   3699\u001b[0m \u001b[43m        \u001b[49m\u001b[43malpha\u001b[49m\u001b[38;5;241;43m=\u001b[39;49m\u001b[43malpha\u001b[49m\u001b[43m,\u001b[49m\n\u001b[1;32m   3700\u001b[0m \u001b[43m        \u001b[49m\u001b[43mnorm\u001b[49m\u001b[38;5;241;43m=\u001b[39;49m\u001b[43mnorm\u001b[49m\u001b[43m,\u001b[49m\n\u001b[1;32m   3701\u001b[0m \u001b[43m        \u001b[49m\u001b[43mcmap\u001b[49m\u001b[38;5;241;43m=\u001b[39;49m\u001b[43mcmap\u001b[49m\u001b[43m,\u001b[49m\n\u001b[1;32m   3702\u001b[0m \u001b[43m        \u001b[49m\u001b[43mvmin\u001b[49m\u001b[38;5;241;43m=\u001b[39;49m\u001b[43mvmin\u001b[49m\u001b[43m,\u001b[49m\n\u001b[1;32m   3703\u001b[0m \u001b[43m        \u001b[49m\u001b[43mvmax\u001b[49m\u001b[38;5;241;43m=\u001b[39;49m\u001b[43mvmax\u001b[49m\u001b[43m,\u001b[49m\n\u001b[1;32m   3704\u001b[0m \u001b[43m        \u001b[49m\u001b[43mshading\u001b[49m\u001b[38;5;241;43m=\u001b[39;49m\u001b[43mshading\u001b[49m\u001b[43m,\u001b[49m\n\u001b[1;32m   3705\u001b[0m \u001b[43m        \u001b[49m\u001b[43mantialiased\u001b[49m\u001b[38;5;241;43m=\u001b[39;49m\u001b[43mantialiased\u001b[49m\u001b[43m,\u001b[49m\n\u001b[1;32m   3706\u001b[0m \u001b[43m        \u001b[49m\u001b[38;5;241;43m*\u001b[39;49m\u001b[38;5;241;43m*\u001b[39;49m\u001b[43m(\u001b[49m\u001b[43m{\u001b[49m\u001b[38;5;124;43m\"\u001b[39;49m\u001b[38;5;124;43mdata\u001b[39;49m\u001b[38;5;124;43m\"\u001b[39;49m\u001b[43m:\u001b[49m\u001b[43m \u001b[49m\u001b[43mdata\u001b[49m\u001b[43m}\u001b[49m\u001b[43m \u001b[49m\u001b[38;5;28;43;01mif\u001b[39;49;00m\u001b[43m \u001b[49m\u001b[43mdata\u001b[49m\u001b[43m \u001b[49m\u001b[38;5;129;43;01mis\u001b[39;49;00m\u001b[43m \u001b[49m\u001b[38;5;129;43;01mnot\u001b[39;49;00m\u001b[43m \u001b[49m\u001b[38;5;28;43;01mNone\u001b[39;49;00m\u001b[43m \u001b[49m\u001b[38;5;28;43;01melse\u001b[39;49;00m\u001b[43m \u001b[49m\u001b[43m{\u001b[49m\u001b[43m}\u001b[49m\u001b[43m)\u001b[49m\u001b[43m,\u001b[49m\n\u001b[1;32m   3707\u001b[0m \u001b[43m        \u001b[49m\u001b[38;5;241;43m*\u001b[39;49m\u001b[38;5;241;43m*\u001b[39;49m\u001b[43mkwargs\u001b[49m\u001b[43m,\u001b[49m\n\u001b[1;32m   3708\u001b[0m \u001b[43m    \u001b[49m\u001b[43m)\u001b[49m\n\u001b[1;32m   3709\u001b[0m     sci(__ret)\n\u001b[1;32m   3710\u001b[0m     \u001b[38;5;28;01mreturn\u001b[39;00m __ret\n",
      "File \u001b[0;32m~/opt/anaconda3/envs/pangeo-Jan2021/lib/python3.10/site-packages/matplotlib/__init__.py:1473\u001b[0m, in \u001b[0;36m_preprocess_data.<locals>.inner\u001b[0;34m(ax, data, *args, **kwargs)\u001b[0m\n\u001b[1;32m   1470\u001b[0m \u001b[38;5;129m@functools\u001b[39m\u001b[38;5;241m.\u001b[39mwraps(func)\n\u001b[1;32m   1471\u001b[0m \u001b[38;5;28;01mdef\u001b[39;00m \u001b[38;5;21minner\u001b[39m(ax, \u001b[38;5;241m*\u001b[39margs, data\u001b[38;5;241m=\u001b[39m\u001b[38;5;28;01mNone\u001b[39;00m, \u001b[38;5;241m*\u001b[39m\u001b[38;5;241m*\u001b[39mkwargs):\n\u001b[1;32m   1472\u001b[0m     \u001b[38;5;28;01mif\u001b[39;00m data \u001b[38;5;129;01mis\u001b[39;00m \u001b[38;5;28;01mNone\u001b[39;00m:\n\u001b[0;32m-> 1473\u001b[0m         \u001b[38;5;28;01mreturn\u001b[39;00m \u001b[43mfunc\u001b[49m\u001b[43m(\u001b[49m\n\u001b[1;32m   1474\u001b[0m \u001b[43m            \u001b[49m\u001b[43max\u001b[49m\u001b[43m,\u001b[49m\n\u001b[1;32m   1475\u001b[0m \u001b[43m            \u001b[49m\u001b[38;5;241;43m*\u001b[39;49m\u001b[38;5;28;43mmap\u001b[39;49m\u001b[43m(\u001b[49m\u001b[43msanitize_sequence\u001b[49m\u001b[43m,\u001b[49m\u001b[43m \u001b[49m\u001b[43margs\u001b[49m\u001b[43m)\u001b[49m\u001b[43m,\u001b[49m\n\u001b[1;32m   1476\u001b[0m \u001b[43m            \u001b[49m\u001b[38;5;241;43m*\u001b[39;49m\u001b[38;5;241;43m*\u001b[39;49m\u001b[43m{\u001b[49m\u001b[43mk\u001b[49m\u001b[43m:\u001b[49m\u001b[43m \u001b[49m\u001b[43msanitize_sequence\u001b[49m\u001b[43m(\u001b[49m\u001b[43mv\u001b[49m\u001b[43m)\u001b[49m\u001b[43m \u001b[49m\u001b[38;5;28;43;01mfor\u001b[39;49;00m\u001b[43m \u001b[49m\u001b[43mk\u001b[49m\u001b[43m,\u001b[49m\u001b[43m \u001b[49m\u001b[43mv\u001b[49m\u001b[43m \u001b[49m\u001b[38;5;129;43;01min\u001b[39;49;00m\u001b[43m \u001b[49m\u001b[43mkwargs\u001b[49m\u001b[38;5;241;43m.\u001b[39;49m\u001b[43mitems\u001b[49m\u001b[43m(\u001b[49m\u001b[43m)\u001b[49m\u001b[43m}\u001b[49m\u001b[43m)\u001b[49m\n\u001b[1;32m   1478\u001b[0m     bound \u001b[38;5;241m=\u001b[39m new_sig\u001b[38;5;241m.\u001b[39mbind(ax, \u001b[38;5;241m*\u001b[39margs, \u001b[38;5;241m*\u001b[39m\u001b[38;5;241m*\u001b[39mkwargs)\n\u001b[1;32m   1479\u001b[0m     auto_label \u001b[38;5;241m=\u001b[39m (bound\u001b[38;5;241m.\u001b[39marguments\u001b[38;5;241m.\u001b[39mget(label_namer)\n\u001b[1;32m   1480\u001b[0m                   \u001b[38;5;129;01mor\u001b[39;00m bound\u001b[38;5;241m.\u001b[39mkwargs\u001b[38;5;241m.\u001b[39mget(label_namer))\n",
      "File \u001b[0;32m~/opt/anaconda3/envs/pangeo-Jan2021/lib/python3.10/site-packages/matplotlib/axes/_axes.py:6428\u001b[0m, in \u001b[0;36mAxes.pcolormesh\u001b[0;34m(self, alpha, norm, cmap, vmin, vmax, shading, antialiased, *args, **kwargs)\u001b[0m\n\u001b[1;32m   6425\u001b[0m shading \u001b[38;5;241m=\u001b[39m shading\u001b[38;5;241m.\u001b[39mlower()\n\u001b[1;32m   6426\u001b[0m kwargs\u001b[38;5;241m.\u001b[39msetdefault(\u001b[38;5;124m'\u001b[39m\u001b[38;5;124medgecolors\u001b[39m\u001b[38;5;124m'\u001b[39m, \u001b[38;5;124m'\u001b[39m\u001b[38;5;124mnone\u001b[39m\u001b[38;5;124m'\u001b[39m)\n\u001b[0;32m-> 6428\u001b[0m X, Y, C, shading \u001b[38;5;241m=\u001b[39m \u001b[38;5;28;43mself\u001b[39;49m\u001b[38;5;241;43m.\u001b[39;49m\u001b[43m_pcolorargs\u001b[49m\u001b[43m(\u001b[49m\u001b[38;5;124;43m'\u001b[39;49m\u001b[38;5;124;43mpcolormesh\u001b[39;49m\u001b[38;5;124;43m'\u001b[39;49m\u001b[43m,\u001b[49m\u001b[43m \u001b[49m\u001b[38;5;241;43m*\u001b[39;49m\u001b[43margs\u001b[49m\u001b[43m,\u001b[49m\n\u001b[1;32m   6429\u001b[0m \u001b[43m                                    \u001b[49m\u001b[43mshading\u001b[49m\u001b[38;5;241;43m=\u001b[39;49m\u001b[43mshading\u001b[49m\u001b[43m,\u001b[49m\u001b[43m \u001b[49m\u001b[43mkwargs\u001b[49m\u001b[38;5;241;43m=\u001b[39;49m\u001b[43mkwargs\u001b[49m\u001b[43m)\u001b[49m\n\u001b[1;32m   6430\u001b[0m coords \u001b[38;5;241m=\u001b[39m np\u001b[38;5;241m.\u001b[39mstack([X, Y], axis\u001b[38;5;241m=\u001b[39m\u001b[38;5;241m-\u001b[39m\u001b[38;5;241m1\u001b[39m)\n\u001b[1;32m   6432\u001b[0m kwargs\u001b[38;5;241m.\u001b[39msetdefault(\u001b[38;5;124m'\u001b[39m\u001b[38;5;124msnap\u001b[39m\u001b[38;5;124m'\u001b[39m, mpl\u001b[38;5;241m.\u001b[39mrcParams[\u001b[38;5;124m'\u001b[39m\u001b[38;5;124mpcolormesh.snap\u001b[39m\u001b[38;5;124m'\u001b[39m])\n",
      "File \u001b[0;32m~/opt/anaconda3/envs/pangeo-Jan2021/lib/python3.10/site-packages/matplotlib/axes/_axes.py:5958\u001b[0m, in \u001b[0;36mAxes._pcolorargs\u001b[0;34m(self, funcname, shading, *args, **kwargs)\u001b[0m\n\u001b[1;32m   5956\u001b[0m Ny \u001b[38;5;241m=\u001b[39m Y\u001b[38;5;241m.\u001b[39mshape[\u001b[38;5;241m0\u001b[39m]\n\u001b[1;32m   5957\u001b[0m \u001b[38;5;28;01mif\u001b[39;00m X\u001b[38;5;241m.\u001b[39mndim \u001b[38;5;241m!=\u001b[39m \u001b[38;5;241m2\u001b[39m \u001b[38;5;129;01mor\u001b[39;00m X\u001b[38;5;241m.\u001b[39mshape[\u001b[38;5;241m0\u001b[39m] \u001b[38;5;241m==\u001b[39m \u001b[38;5;241m1\u001b[39m:\n\u001b[0;32m-> 5958\u001b[0m     x \u001b[38;5;241m=\u001b[39m \u001b[43mX\u001b[49m\u001b[38;5;241;43m.\u001b[39;49m\u001b[43mreshape\u001b[49m\u001b[43m(\u001b[49m\u001b[38;5;241;43m1\u001b[39;49m\u001b[43m,\u001b[49m\u001b[43m \u001b[49m\u001b[43mNx\u001b[49m\u001b[43m)\u001b[49m\n\u001b[1;32m   5959\u001b[0m     X \u001b[38;5;241m=\u001b[39m x\u001b[38;5;241m.\u001b[39mrepeat(Ny, axis\u001b[38;5;241m=\u001b[39m\u001b[38;5;241m0\u001b[39m)\n\u001b[1;32m   5960\u001b[0m \u001b[38;5;28;01mif\u001b[39;00m Y\u001b[38;5;241m.\u001b[39mndim \u001b[38;5;241m!=\u001b[39m \u001b[38;5;241m2\u001b[39m \u001b[38;5;129;01mor\u001b[39;00m Y\u001b[38;5;241m.\u001b[39mshape[\u001b[38;5;241m1\u001b[39m] \u001b[38;5;241m==\u001b[39m \u001b[38;5;241m1\u001b[39m:\n",
      "File \u001b[0;32m~/opt/anaconda3/envs/pangeo-Jan2021/lib/python3.10/site-packages/numpy/ma/core.py:4745\u001b[0m, in \u001b[0;36mMaskedArray.reshape\u001b[0;34m(self, *s, **kwargs)\u001b[0m\n\u001b[1;32m   4687\u001b[0m \u001b[38;5;250m\u001b[39m\u001b[38;5;124;03m\"\"\"\u001b[39;00m\n\u001b[1;32m   4688\u001b[0m \u001b[38;5;124;03mGive a new shape to the array without changing its data.\u001b[39;00m\n\u001b[1;32m   4689\u001b[0m \n\u001b[0;32m   (...)\u001b[0m\n\u001b[1;32m   4742\u001b[0m \n\u001b[1;32m   4743\u001b[0m \u001b[38;5;124;03m\"\"\"\u001b[39;00m\n\u001b[1;32m   4744\u001b[0m kwargs\u001b[38;5;241m.\u001b[39mupdate(order\u001b[38;5;241m=\u001b[39mkwargs\u001b[38;5;241m.\u001b[39mget(\u001b[38;5;124m'\u001b[39m\u001b[38;5;124morder\u001b[39m\u001b[38;5;124m'\u001b[39m, \u001b[38;5;124m'\u001b[39m\u001b[38;5;124mC\u001b[39m\u001b[38;5;124m'\u001b[39m))\n\u001b[0;32m-> 4745\u001b[0m result \u001b[38;5;241m=\u001b[39m \u001b[38;5;28;43mself\u001b[39;49m\u001b[38;5;241;43m.\u001b[39;49m\u001b[43m_data\u001b[49m\u001b[38;5;241;43m.\u001b[39;49m\u001b[43mreshape\u001b[49m\u001b[43m(\u001b[49m\u001b[38;5;241;43m*\u001b[39;49m\u001b[43ms\u001b[49m\u001b[43m,\u001b[49m\u001b[43m \u001b[49m\u001b[38;5;241;43m*\u001b[39;49m\u001b[38;5;241;43m*\u001b[39;49m\u001b[43mkwargs\u001b[49m\u001b[43m)\u001b[49m\u001b[38;5;241m.\u001b[39mview(\u001b[38;5;28mtype\u001b[39m(\u001b[38;5;28mself\u001b[39m))\n\u001b[1;32m   4746\u001b[0m result\u001b[38;5;241m.\u001b[39m_update_from(\u001b[38;5;28mself\u001b[39m)\n\u001b[1;32m   4747\u001b[0m mask \u001b[38;5;241m=\u001b[39m \u001b[38;5;28mself\u001b[39m\u001b[38;5;241m.\u001b[39m_mask\n",
      "\u001b[0;31mValueError\u001b[0m: cannot reshape array of size 336 into shape (1,4)"
     ]
    },
    {
     "data": {
      "image/png": "[encoded data removed]",
      "text/plain": [
       "<Figure size 640x480 with 1 Axes>"
      ]
     },
     "metadata": {},
     "output_type": "display_data"
    }
   ],
   "source": [
    "plt.pcolormesh(coords_2d(coord_x, coord_y, 4, M_x, M_y)[0], \n",
    "               coords_2d(coord_x, coord_y, 4, M_x, M_y)[1], \n",
    "               norm_Gaussian_2d(coords_2d(coord_x, coord_y, 4, M_x, M_y), array_2d(M_x, M_y, 4), \n",
    "               [1, 1], L_x, L_y, M_x, M_y))"
   ]
  },
  {
   "cell_type": "code",
   "execution_count": 143,
   "id": "a36a1448",
   "metadata": {},
   "outputs": [],
   "source": [
    "x = coords_2d(coord_x, coord_y, 4, M_x, M_y)[0].reshape(21 * 16, 1)\n",
    "y = coords_2d(coord_x, coord_y, 4, M_x, M_y)[1].reshape(21 * 16, 1)"
   ]
  },
  {
   "cell_type": "code",
   "execution_count": 144,
   "id": "7b93b045",
   "metadata": {},
   "outputs": [],
   "source": [
    "z = norm_Gaussian_2d(coords_2d(coord_x, coord_y, 4, M_x, M_y), \n",
    "                     array_2d(M_x, M_y, 4), \n",
    "                     [1, 1], L_x, L_y, M_x, M_y).reshape(21 * 16, 1)"
   ]
  },
  {
   "cell_type": "code",
   "execution_count": 146,
   "id": "1a0b5e78",
   "metadata": {},
   "outputs": [
    {
     "data": {
      "text/plain": [
       "<matplotlib.image.AxesImage at 0x1987971c0>"
      ]
     },
     "execution_count": 146,
     "metadata": {},
     "output_type": "execute_result"
    },
    {
     "data": {
      "image/png": "[encoded data removed]",
      "text/plain": [
       "<Figure size 640x480 with 1 Axes>"
      ]
     },
     "metadata": {},
     "output_type": "display_data"
    }
   ],
   "source": [
    "plt.imshow(z, extent=[x.min(), x.max(), y.min(), y.max()])"
   ]
  },
  {
   "cell_type": "code",
   "execution_count": 148,
   "id": "f57d64d2",
   "metadata": {},
   "outputs": [
    {
     "data": {
      "text/plain": [
       "array([[ 0.        ,  0.2763932 ,  0.7236068 ,  1.        ,  0.        ,\n",
       "         0.2763932 ,  0.7236068 ,  1.        ,  0.        ,  0.2763932 ,\n",
       "         0.7236068 ,  1.        ,  0.        ,  0.2763932 ,  0.7236068 ,\n",
       "         1.        ,  1.        ,  1.2763932 ,  1.7236068 ,  2.        ,\n",
       "         1.        ,  1.2763932 ,  1.7236068 ,  2.        ,  1.        ,\n",
       "         1.2763932 ,  1.7236068 ,  2.        ],\n",
       "       [ 1.        ,  1.2763932 ,  1.7236068 ,  2.        ,  2.        ,\n",
       "         3.10557281,  4.89442719,  6.        ,  2.        ,  3.10557281,\n",
       "         4.89442719,  6.        ,  2.        ,  3.10557281,  4.89442719,\n",
       "         6.        ,  2.        ,  3.10557281,  4.89442719,  6.        ,\n",
       "         6.        ,  6.5527864 ,  7.4472136 ,  8.        ,  6.        ,\n",
       "         6.5527864 ,  7.4472136 ,  8.        ],\n",
       "       [ 6.        ,  6.5527864 ,  7.4472136 ,  8.        ,  6.        ,\n",
       "         6.5527864 ,  7.4472136 ,  8.        ,  8.        ,  8.5527864 ,\n",
       "         9.4472136 , 10.        ,  8.        ,  8.5527864 ,  9.4472136 ,\n",
       "        10.        ,  8.        ,  8.5527864 ,  9.4472136 , 10.        ,\n",
       "         8.        ,  8.5527864 ,  9.4472136 , 10.        , 10.        ,\n",
       "        10.2763932 , 10.7236068 , 11.        ],\n",
       "       [10.        , 10.2763932 , 10.7236068 , 11.        , 10.        ,\n",
       "        10.2763932 , 10.7236068 , 11.        , 10.        , 10.2763932 ,\n",
       "        10.7236068 , 11.        , 11.        , 11.2763932 , 11.7236068 ,\n",
       "        12.        , 11.        , 11.2763932 , 11.7236068 , 12.        ,\n",
       "        11.        , 11.2763932 , 11.7236068 , 12.        , 11.        ,\n",
       "        11.2763932 , 11.7236068 , 12.        ],\n",
       "       [ 0.        ,  0.2763932 ,  0.7236068 ,  1.        ,  0.        ,\n",
       "         0.2763932 ,  0.7236068 ,  1.        ,  0.        ,  0.2763932 ,\n",
       "         0.7236068 ,  1.        ,  0.        ,  0.2763932 ,  0.7236068 ,\n",
       "         1.        ,  1.        ,  1.2763932 ,  1.7236068 ,  2.        ,\n",
       "         1.        ,  1.2763932 ,  1.7236068 ,  2.        ,  1.        ,\n",
       "         1.2763932 ,  1.7236068 ,  2.        ],\n",
       "       [ 1.        ,  1.2763932 ,  1.7236068 ,  2.        ,  2.        ,\n",
       "         3.10557281,  4.89442719,  6.        ,  2.        ,  3.10557281,\n",
       "         4.89442719,  6.        ,  2.        ,  3.10557281,  4.89442719,\n",
       "         6.        ,  2.        ,  3.10557281,  4.89442719,  6.        ,\n",
       "         6.        ,  6.5527864 ,  7.4472136 ,  8.        ,  6.        ,\n",
       "         6.5527864 ,  7.4472136 ,  8.        ],\n",
       "       [ 6.        ,  6.5527864 ,  7.4472136 ,  8.        ,  6.        ,\n",
       "         6.5527864 ,  7.4472136 ,  8.        ,  8.        ,  8.5527864 ,\n",
       "         9.4472136 , 10.        ,  8.        ,  8.5527864 ,  9.4472136 ,\n",
       "        10.        ,  8.        ,  8.5527864 ,  9.4472136 , 10.        ,\n",
       "         8.        ,  8.5527864 ,  9.4472136 , 10.        , 10.        ,\n",
       "        10.2763932 , 10.7236068 , 11.        ],\n",
       "       [10.        , 10.2763932 , 10.7236068 , 11.        , 10.        ,\n",
       "        10.2763932 , 10.7236068 , 11.        , 10.        , 10.2763932 ,\n",
       "        10.7236068 , 11.        , 11.        , 11.2763932 , 11.7236068 ,\n",
       "        12.        , 11.        , 11.2763932 , 11.7236068 , 12.        ,\n",
       "        11.        , 11.2763932 , 11.7236068 , 12.        , 11.        ,\n",
       "        11.2763932 , 11.7236068 , 12.        ],\n",
       "       [ 0.        ,  0.2763932 ,  0.7236068 ,  1.        ,  0.        ,\n",
       "         0.2763932 ,  0.7236068 ,  1.        ,  0.        ,  0.2763932 ,\n",
       "         0.7236068 ,  1.        ,  0.        ,  0.2763932 ,  0.7236068 ,\n",
       "         1.        ,  1.        ,  1.2763932 ,  1.7236068 ,  2.        ,\n",
       "         1.        ,  1.2763932 ,  1.7236068 ,  2.        ,  1.        ,\n",
       "         1.2763932 ,  1.7236068 ,  2.        ],\n",
       "       [ 1.        ,  1.2763932 ,  1.7236068 ,  2.        ,  2.        ,\n",
       "         3.10557281,  4.89442719,  6.        ,  2.        ,  3.10557281,\n",
       "         4.89442719,  6.        ,  2.        ,  3.10557281,  4.89442719,\n",
       "         6.        ,  2.        ,  3.10557281,  4.89442719,  6.        ,\n",
       "         6.        ,  6.5527864 ,  7.4472136 ,  8.        ,  6.        ,\n",
       "         6.5527864 ,  7.4472136 ,  8.        ],\n",
       "       [ 6.        ,  6.5527864 ,  7.4472136 ,  8.        ,  6.        ,\n",
       "         6.5527864 ,  7.4472136 ,  8.        ,  8.        ,  8.5527864 ,\n",
       "         9.4472136 , 10.        ,  8.        ,  8.5527864 ,  9.4472136 ,\n",
       "        10.        ,  8.        ,  8.5527864 ,  9.4472136 , 10.        ,\n",
       "         8.        ,  8.5527864 ,  9.4472136 , 10.        , 10.        ,\n",
       "        10.2763932 , 10.7236068 , 11.        ],\n",
       "       [10.        , 10.2763932 , 10.7236068 , 11.        , 10.        ,\n",
       "        10.2763932 , 10.7236068 , 11.        , 10.        , 10.2763932 ,\n",
       "        10.7236068 , 11.        , 11.        , 11.2763932 , 11.7236068 ,\n",
       "        12.        , 11.        , 11.2763932 , 11.7236068 , 12.        ,\n",
       "        11.        , 11.2763932 , 11.7236068 , 12.        , 11.        ,\n",
       "        11.2763932 , 11.7236068 , 12.        ]])"
      ]
     },
     "execution_count": 148,
     "metadata": {},
     "output_type": "execute_result"
    }
   ],
   "source": [
    "coords_2d(coord_x, coord_y, 4, M_x, M_y)[0].reshape(3 * 4, 7 * 4)"
   ]
  },
  {
   "cell_type": "code",
   "execution_count": null,
   "id": "baf7f5ee",
   "metadata": {},
   "outputs": [],
   "source": []
  }
 ],
 "metadata": {
  "kernelspec": {
   "display_name": "pangeo-Jan2021",
   "language": "python",
   "name": "pangeo-jan2021"
  },
  "language_info": {
   "codemirror_mode": {
    "name": "ipython",
    "version": 3
   },
   "file_extension": ".py",
   "mimetype": "text/x-python",
   "name": "python",
   "nbconvert_exporter": "python",
   "pygments_lexer": "ipython3",
   "version": "3.10.14"
  }
 },
 "nbformat": 4,
 "nbformat_minor": 5
}
