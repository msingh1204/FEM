{
 "cells": [
  {
   "cell_type": "code",
   "execution_count": 1,
   "id": "b094f5e0",
   "metadata": {},
   "outputs": [],
   "source": [
    "from scipy.special import roots_jacobi, eval_jacobi\n",
    "import numpy as np\n",
    "import scipy\n",
    "import math"
   ]
  },
  {
   "cell_type": "markdown",
   "id": "ade443e6",
   "metadata": {},
   "source": [
    "### Define functions for D operator:"
   ]
  },
  {
   "cell_type": "code",
   "execution_count": 2,
   "id": "3e228736",
   "metadata": {},
   "outputs": [],
   "source": [
    "def int_points(x_range, npts, dx, M):\n",
    "    \n",
    "    k = 0\n",
    "    p_order = npts - 1\n",
    "    xinterior, w = roots_jacobi(p_order - 1,1,1) # returns interior GLL nodes from range -1 and 1\n",
    "    GLL_points = np.pad(xinterior, (1, 1), 'constant', constant_values=(-1, 1))\n",
    "    GLL_dist = np.array([np.abs(GLL_points[0] - value) for value in GLL_points])\n",
    "    \n",
    "    return_array = np.zeros([M, npts])\n",
    "    \n",
    "    for i in x_range[:-1]:\n",
    "        array = np.array([i])\n",
    "        for j in GLL_dist[1:]: \n",
    "            scaled_point = ((j / 2) * (dx)) + i # Note: 2 here is the distance from -1 to 1\n",
    "            array = np.concatenate((array, np.array([scaled_point])))\n",
    "            \n",
    "        return_array[k, :] = array\n",
    "        k = k + 1\n",
    "    \n",
    "    return(return_array)"
   ]
  },
  {
   "cell_type": "code",
   "execution_count": 3,
   "id": "006f8d5f",
   "metadata": {},
   "outputs": [],
   "source": [
    "def vandermonde(npts_values, return_type):\n",
    "    # For the monomial basis: \n",
    "    if return_type == 'Monomial':\n",
    "        return(np.vander(npts_values, increasing = True))\n",
    "    elif return_type == 'Legendre':\n",
    "        return(np.polynomial.legendre.legvander(npts_values, len(npts_values) - 1))"
   ]
  },
  {
   "cell_type": "code",
   "execution_count": 4,
   "id": "ec895c66",
   "metadata": {},
   "outputs": [],
   "source": [
    "def Ld_vandermonde(npts_values): \n",
    "    \n",
    "    LP = np.polynomial.legendre\n",
    "    v_matrix = np.polynomial.legendre.legvander(npts_values, len(npts_values)-1)\n",
    "    d_v_matrix = np.zeros_like(v_matrix)\n",
    "\n",
    "    for i in range(len(npts_values)):\n",
    "        # Coefficients for the i-th Legendre polynomial (e.g., [0, 0, 1] for P_2)\n",
    "        coeffs = np.zeros(len(npts_values))\n",
    "        coeffs[i] = 1\n",
    "\n",
    "        # Compute the derivative of the i-th Legendre polynomial\n",
    "        deriv_coeffs = LP.legder(coeffs, m=1) # m=1 for first derivative\n",
    "\n",
    "        # Evaluate the derivative at the points x\n",
    "        d_v_matrix[:, i] = LP.legval(npts_values, deriv_coeffs)\n",
    "        \n",
    "    return(d_v_matrix)"
   ]
  },
  {
   "cell_type": "code",
   "execution_count": 5,
   "id": "03c04646",
   "metadata": {},
   "outputs": [],
   "source": [
    "def return_D(V1, V2):\n",
    "    return(np.matmul(V2, np.linalg.inv(V1)))"
   ]
  },
  {
   "cell_type": "code",
   "execution_count": 6,
   "id": "2da20cb2",
   "metadata": {},
   "outputs": [],
   "source": [
    "# Initialize the elements and the Guassian function:\n",
    "\n",
    "L = 12 # Denotes total length in [0, L]\n",
    "M = 4 # Denotes number of elements \n",
    "x_range = np.arange(0, L + (L/M), (L/M)) # Define the element endpoints\n",
    "\n",
    "npts = 4\n",
    "p_order = npts - 1\n",
    "xinterior, w = roots_jacobi(p_order - 1,1,1) # returns interior GLL nodes from range -1 and 1\n",
    "GLL_points = np.pad(xinterior, (1, 1), 'constant', constant_values=(-1, 1))\n",
    "\n",
    "# Note: The D matrix is only created once as it operates on the reference element\n",
    "V1 = vandermonde(GLL_points, 'Legendre')\n",
    "V2 = Ld_vandermonde(GLL_points)\n",
    "D = return_D(V1, V2)\n",
    "\n",
    "# The following is used in creating the init condition: \n",
    "npts = int_points(x_range, 4, L/M, M)"
   ]
  },
  {
   "cell_type": "code",
   "execution_count": 7,
   "id": "27570d93",
   "metadata": {},
   "outputs": [],
   "source": [
    "def quad_weights(npts_values):\n",
    "    \n",
    "    # Values in f_array result from exact integration:\n",
    "    f_array = np.zeros(len(npts_values))\n",
    "    f_array[0] = 2\n",
    "    \n",
    "    # Define basis matrix for Legendre polynomials: \n",
    "    V = np.polynomial.legendre.legvander(npts_values, len(npts_values) - 1).transpose()\n",
    "    \n",
    "    return(np.matmul(np.linalg.inv(V), f_array.transpose()))"
   ]
  },
  {
   "cell_type": "code",
   "execution_count": null,
   "id": "2b6fb3f7",
   "metadata": {},
   "outputs": [],
   "source": []
  },
  {
   "cell_type": "markdown",
   "id": "9944f39e",
   "metadata": {},
   "source": [
    "### DG:"
   ]
  },
  {
   "cell_type": "code",
   "execution_count": 78,
   "id": "c697fca6",
   "metadata": {},
   "outputs": [
    {
     "data": {
      "text/plain": [
       "1.0"
      ]
     },
     "execution_count": 78,
     "metadata": {},
     "output_type": "execute_result"
    }
   ],
   "source": [
    "-D[0, 0] + (1 / (2 * quad_weights(GLL_points)[-1] * C)) - (1 / (quad_weights(GLL_points)[-1] * C))"
   ]
  },
  {
   "cell_type": "code",
   "execution_count": 64,
   "id": "16c12082",
   "metadata": {},
   "outputs": [],
   "source": [
    "# Note: Have to come back to confirm the +/- signs; check indexing\n",
    "\n",
    "def global_DG(D, M, p, L, quad_weights):\n",
    "    \n",
    "    array = np.zeros((M * (p + 1), M * (p + 1)))\n",
    "    C = (L / (2 * M))\n",
    "    row_i = 0\n",
    "    col_i = 0\n",
    "    \n",
    "    for i in np.arange(M):\n",
    "        if i == 0:\n",
    "            array[row_i : row_i + (p+1), col_i : col_i + (p+1)] = -D\n",
    "            \n",
    "            # Right boundary correction:\n",
    "            array[row_i + p, row_i + p] = -D[-1, -1] - (1 / (2 * quad_weights[-1] * C)) + (1 / (quad_weights[-1] * C))\n",
    "            array[row_i + p, row_i + p + 1] = -(1 / (2 * quad_weights[-1] * C))\n",
    "            \n",
    "            # Left boundary correction:\n",
    "            array[row_i, row_i] = -D[0, 0] + (1 / (2 * quad_weights[0] * C)) - (1 / (quad_weights[0] * C))\n",
    "            \n",
    "            # Periodic boundaries:\n",
    "            array[0, -1] = (1 / (2 * quad_weights[0] * C))\n",
    "            \n",
    "        elif i == (M-1):\n",
    "            array[row_i : row_i + (p+1), col_i : col_i + (p+1)] = -D\n",
    "            \n",
    "            # Left boundary correction:\n",
    "            array[row_i, row_i] = -D[0, 0] + (1 / (2 * quad_weights[0] * C)) - (1 / (quad_weights[0] * C))\n",
    "            array[row_i, row_i - 1] = (1 / (2 * quad_weights[0] * C))\n",
    "            \n",
    "            # Right boundary correction:\n",
    "            array[row_i + p, row_i + p] = -D[-1, -1] - (1 / (2 * quad_weights[-1] * C)) + (1 / (quad_weights[-1] * C))\n",
    "            \n",
    "            # Periodic boundaries:\n",
    "            array[-1, 0] = -(1 / (2 * quad_weights[-1] * C))\n",
    "            \n",
    "        else:\n",
    "            array[row_i : row_i + (p+1), col_i : col_i + (p+1)] = -D\n",
    "            \n",
    "            # Right boundary correction:\n",
    "            array[row_i + p, row_i + p] = -D[-1, -1] - (1 / (2 * quad_weights[-1] * C)) + (1 / (quad_weights[-1] * C))\n",
    "            array[row_i + p, row_i + p + 1] = -(1 / (2 * quad_weights[-1] * C))\n",
    "        \n",
    "            # Left boundary correction:\n",
    "            array[row_i, row_i] = -D[0, 0] + (1 / (2 * quad_weights[0] * C)) - (1 / (quad_weights[0] * C))\n",
    "            array[row_i, row_i - 1] = (1 / (2 * quad_weights[0] * C))\n",
    "        \n",
    "        row_i = row_i + (p+1)\n",
    "        col_i = col_i + (p+1)\n",
    "        \n",
    "    return(array)\n"
   ]
  },
  {
   "cell_type": "code",
   "execution_count": 68,
   "id": "ed4753d5",
   "metadata": {},
   "outputs": [
    {
     "data": {
      "text/plain": [
       "array([[ 3.00000000e+00, -4.04508497e+00,  1.54508497e+00,\n",
       "        -5.00000000e-01],\n",
       "       [ 8.09016994e-01,  1.11022302e-16, -1.11803399e+00,\n",
       "         3.09016994e-01],\n",
       "       [-3.09016994e-01,  1.11803399e+00, -1.11022302e-16,\n",
       "        -8.09016994e-01],\n",
       "       [ 5.00000000e-01, -1.54508497e+00,  4.04508497e+00,\n",
       "        -3.00000000e+00]])"
      ]
     },
     "execution_count": 68,
     "metadata": {},
     "output_type": "execute_result"
    }
   ],
   "source": [
    "-D"
   ]
  },
  {
   "cell_type": "code",
   "execution_count": 86,
   "id": "4ef29d3d",
   "metadata": {},
   "outputs": [
    {
     "data": {
      "text/plain": [
       "array([ 1.        , -4.04508497,  1.54508497, -0.5       ,  0.        ,\n",
       "        0.        ,  0.        ,  0.        ,  0.        ,  0.        ,\n",
       "        0.        ,  0.        ,  0.        ,  0.        ,  0.        ,\n",
       "        2.        ])"
      ]
     },
     "execution_count": 86,
     "metadata": {},
     "output_type": "execute_result"
    }
   ],
   "source": [
    "global_DG(D, M, p_order, L, quad_weights(GLL_points))[0]"
   ]
  },
  {
   "cell_type": "code",
   "execution_count": 87,
   "id": "560b1f6d",
   "metadata": {},
   "outputs": [
    {
     "data": {
      "text/plain": [
       "array([-2.        ,  0.        ,  0.        ,  0.        ,  0.        ,\n",
       "        0.        ,  0.        ,  0.        ,  0.        ,  0.        ,\n",
       "        0.        ,  0.        ,  0.5       , -1.54508497,  4.04508497,\n",
       "       -1.        ])"
      ]
     },
     "execution_count": 87,
     "metadata": {},
     "output_type": "execute_result"
    }
   ],
   "source": [
    "global_DG(D, M, p_order, L, quad_weights(GLL_points))[15]"
   ]
  },
  {
   "cell_type": "code",
   "execution_count": 57,
   "id": "096d2d7b",
   "metadata": {},
   "outputs": [
    {
     "data": {
      "text/plain": [
       "array([-5.04251347e-17+2.73861279j, -5.04251347e-17-2.73861279j,\n",
       "       -2.22044605e-16+2.33265557j, -2.22044605e-16-2.33265557j,\n",
       "       -5.93472984e-65+2.04749701j, -5.93472984e-65-2.04749701j,\n",
       "        3.41287614e-17+1.58113883j,  3.41287614e-17-1.58113883j,\n",
       "        2.63677968e-16+0.78515857j,  2.63677968e-16-0.78515857j,\n",
       "        2.15850905e-16+0.j        , -1.38569335e-16+0.j        ])"
      ]
     },
     "execution_count": 57,
     "metadata": {},
     "output_type": "execute_result"
    }
   ],
   "source": [
    "np.linalg.eigvals(global_CG(D, M, p_order))"
   ]
  },
  {
   "cell_type": "markdown",
   "id": "d3357d6b",
   "metadata": {},
   "source": [
    "### CG:"
   ]
  },
  {
   "cell_type": "code",
   "execution_count": 48,
   "id": "323baa9a",
   "metadata": {},
   "outputs": [],
   "source": [
    "def global_CG(D, M, p):\n",
    "    \n",
    "    row_i = 0\n",
    "    col_i = 0\n",
    "    edg_i = p\n",
    "    array = np.zeros(((M * p), (M * p)))\n",
    "    \n",
    "    for i in np.arange(M):\n",
    "        if i == 0:\n",
    "            array[row_i : row_i + (p+1), \n",
    "                  col_i : col_i + (p+1)] = -D\n",
    "            \n",
    "            # Periodic Boundary:\n",
    "            array[0, -3:] = -D[-1, :3]\n",
    "            \n",
    "            # Boundary Correction:\n",
    "            array[0, 0] = array[0, 0] - D[-1, -1]\n",
    "            array[0, :] = (array[0, :] / 2) # For centered average of u', divide all terms by 2\n",
    "            \n",
    "        elif i == M-1:\n",
    "            array[row_i : row_i + (p+1), \n",
    "                  col_i : col_i + (p+1)] = -D[:3, :3]\n",
    "            \n",
    "            # Periodic Boundary:\n",
    "            array[-3:, 0] = -D[:3 , -1]\n",
    "            \n",
    "            # Boundary Correction:\n",
    "            array[edg_i, edg_i] = -D[0, 0] - D[-1, -1]\n",
    "            array[edg_i, :] = (array[edg_i, :] / 2) # For centered average of u', divide all terms by 2\n",
    "    \n",
    "        else:\n",
    "            array[row_i : row_i + (p+1), \n",
    "                  col_i : col_i + (p+1)] = -D\n",
    "            \n",
    "            # Boundary Correction:\n",
    "            array[edg_i, edg_i] = -D[0, 0] - D[-1, -1]\n",
    "            array[edg_i, :] = (array[edg_i, :] / 2) # For centered average of u', divide all terms by 2\n",
    "            edg_i = edg_i + p\n",
    "            \n",
    "        row_i = row_i + (p)\n",
    "        col_i = col_i + (p)    \n",
    "        \n",
    "    return(array)\n",
    "        "
   ]
  },
  {
   "cell_type": "code",
   "execution_count": null,
   "id": "e5bf2e9a",
   "metadata": {},
   "outputs": [],
   "source": []
  },
  {
   "cell_type": "code",
   "execution_count": 55,
   "id": "c1927ab2",
   "metadata": {},
   "outputs": [
    {
     "data": {
      "text/plain": [
       "array([[ 0.00000000e+00, -2.02254249e+00,  7.72542486e-01,\n",
       "        -2.50000000e-01,  0.00000000e+00,  0.00000000e+00,\n",
       "         0.00000000e+00,  0.00000000e+00,  0.00000000e+00,\n",
       "         2.50000000e-01, -7.72542486e-01,  2.02254249e+00],\n",
       "       [ 8.09016994e-01,  1.11022302e-16, -1.11803399e+00,\n",
       "         3.09016994e-01,  0.00000000e+00,  0.00000000e+00,\n",
       "         0.00000000e+00,  0.00000000e+00,  0.00000000e+00,\n",
       "         0.00000000e+00,  0.00000000e+00,  0.00000000e+00],\n",
       "       [-3.09016994e-01,  1.11803399e+00, -1.11022302e-16,\n",
       "        -8.09016994e-01,  0.00000000e+00,  0.00000000e+00,\n",
       "         0.00000000e+00,  0.00000000e+00,  0.00000000e+00,\n",
       "         0.00000000e+00,  0.00000000e+00,  0.00000000e+00],\n",
       "       [ 2.50000000e-01, -7.72542486e-01,  2.02254249e+00,\n",
       "         0.00000000e+00, -2.02254249e+00,  7.72542486e-01,\n",
       "        -2.50000000e-01,  0.00000000e+00,  0.00000000e+00,\n",
       "         0.00000000e+00,  0.00000000e+00,  0.00000000e+00],\n",
       "       [ 0.00000000e+00,  0.00000000e+00,  0.00000000e+00,\n",
       "         8.09016994e-01,  1.11022302e-16, -1.11803399e+00,\n",
       "         3.09016994e-01,  0.00000000e+00,  0.00000000e+00,\n",
       "         0.00000000e+00,  0.00000000e+00,  0.00000000e+00],\n",
       "       [ 0.00000000e+00,  0.00000000e+00,  0.00000000e+00,\n",
       "        -3.09016994e-01,  1.11803399e+00, -1.11022302e-16,\n",
       "        -8.09016994e-01,  0.00000000e+00,  0.00000000e+00,\n",
       "         0.00000000e+00,  0.00000000e+00,  0.00000000e+00],\n",
       "       [ 0.00000000e+00,  0.00000000e+00,  0.00000000e+00,\n",
       "         2.50000000e-01, -7.72542486e-01,  2.02254249e+00,\n",
       "         0.00000000e+00, -2.02254249e+00,  7.72542486e-01,\n",
       "        -2.50000000e-01,  0.00000000e+00,  0.00000000e+00],\n",
       "       [ 0.00000000e+00,  0.00000000e+00,  0.00000000e+00,\n",
       "         0.00000000e+00,  0.00000000e+00,  0.00000000e+00,\n",
       "         8.09016994e-01,  1.11022302e-16, -1.11803399e+00,\n",
       "         3.09016994e-01,  0.00000000e+00,  0.00000000e+00],\n",
       "       [ 0.00000000e+00,  0.00000000e+00,  0.00000000e+00,\n",
       "         0.00000000e+00,  0.00000000e+00,  0.00000000e+00,\n",
       "        -3.09016994e-01,  1.11803399e+00, -1.11022302e-16,\n",
       "        -8.09016994e-01,  0.00000000e+00,  0.00000000e+00],\n",
       "       [-2.50000000e-01,  0.00000000e+00,  0.00000000e+00,\n",
       "         0.00000000e+00,  0.00000000e+00,  0.00000000e+00,\n",
       "         2.50000000e-01, -7.72542486e-01,  2.02254249e+00,\n",
       "         0.00000000e+00, -2.02254249e+00,  7.72542486e-01],\n",
       "       [ 3.09016994e-01,  0.00000000e+00,  0.00000000e+00,\n",
       "         0.00000000e+00,  0.00000000e+00,  0.00000000e+00,\n",
       "         0.00000000e+00,  0.00000000e+00,  0.00000000e+00,\n",
       "         8.09016994e-01,  1.11022302e-16, -1.11803399e+00],\n",
       "       [-8.09016994e-01,  0.00000000e+00,  0.00000000e+00,\n",
       "         0.00000000e+00,  0.00000000e+00,  0.00000000e+00,\n",
       "         0.00000000e+00,  0.00000000e+00,  0.00000000e+00,\n",
       "        -3.09016994e-01,  1.11803399e+00, -1.11022302e-16]])"
      ]
     },
     "execution_count": 55,
     "metadata": {},
     "output_type": "execute_result"
    }
   ],
   "source": [
    "global_CG(D, M, p_order)"
   ]
  },
  {
   "cell_type": "code",
   "execution_count": 56,
   "id": "dfeee379",
   "metadata": {},
   "outputs": [
    {
     "data": {
      "text/plain": [
       "array([-5.04251347e-17+2.73861279j, -5.04251347e-17-2.73861279j,\n",
       "       -2.22044605e-16+2.33265557j, -2.22044605e-16-2.33265557j,\n",
       "       -5.93472984e-65+2.04749701j, -5.93472984e-65-2.04749701j,\n",
       "        3.41287614e-17+1.58113883j,  3.41287614e-17-1.58113883j,\n",
       "        2.63677968e-16+0.78515857j,  2.63677968e-16-0.78515857j,\n",
       "        2.15850905e-16+0.j        , -1.38569335e-16+0.j        ])"
      ]
     },
     "execution_count": 56,
     "metadata": {},
     "output_type": "execute_result"
    }
   ],
   "source": [
    "np.linalg.eigvals(global_CG(D, M, p_order))"
   ]
  },
  {
   "cell_type": "code",
   "execution_count": null,
   "id": "43c661da",
   "metadata": {},
   "outputs": [],
   "source": []
  }
 ],
 "metadata": {
  "kernelspec": {
   "display_name": "pangeo-Jan2021",
   "language": "python",
   "name": "pangeo-jan2021"
  },
  "language_info": {
   "codemirror_mode": {
    "name": "ipython",
    "version": 3
   },
   "file_extension": ".py",
   "mimetype": "text/x-python",
   "name": "python",
   "nbconvert_exporter": "python",
   "pygments_lexer": "ipython3",
   "version": "3.10.14"
  }
 },
 "nbformat": 4,
 "nbformat_minor": 5
}
